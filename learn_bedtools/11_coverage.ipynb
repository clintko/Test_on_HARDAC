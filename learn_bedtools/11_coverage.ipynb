{
 "cells": [
  {
   "cell_type": "code",
   "execution_count": 1,
   "metadata": {},
   "outputs": [],
   "source": [
    "module load bedtools2"
   ]
  },
  {
   "cell_type": "code",
   "execution_count": 7,
   "metadata": {},
   "outputs": [
    {
     "ename": "",
     "evalue": "1",
     "output_type": "error",
     "traceback": []
    }
   ],
   "source": [
    "bedtools coverage -h  >& converage.log"
   ]
  },
  {
   "cell_type": "code",
   "execution_count": 9,
   "metadata": {},
   "outputs": [
    {
     "ename": "",
     "evalue": "1",
     "output_type": "error",
     "traceback": []
    }
   ],
   "source": [
    "bedtools annotate -h  >& annotate.log"
   ]
  },
  {
   "cell_type": "code",
   "execution_count": 10,
   "metadata": {},
   "outputs": [
    {
     "name": "stdout",
     "output_type": "stream",
     "text": [
      "\n",
      "Tool:    bedtools annotate (aka annotateBed)\n",
      "Version: v2.25.0\n",
      "Summary: Annotates the depth & breadth of coverage of features from mult. files\n",
      "\t on the intervals in -i.\n",
      "\n",
      "Usage:   bedtools annotate [OPTIONS] -i <bed/gff/vcf> -files FILE1 FILE2..FILEn\n",
      "\n",
      "Options: \n",
      "\t-names\tA list of names (one / file) to describe each file in -i.\n",
      "\t\tThese names will be printed as a header line.\n",
      "\n",
      "\t-counts\tReport the count of features in each file that overlap -i.\n",
      "\t\t- Default is to report the fraction of -i covered by each file.\n",
      "\n",
      "\t-both\tReport the counts followed by the % coverage.\n",
      "\t\t- Default is to report the fraction of -i covered by each file.\n",
      "\n",
      "\t-s\tRequire same strandedness.  That is, only counts overlaps\n",
      "\t\ton the _same_ strand.\n",
      "\t\t- By default, overlaps are counted without respect to strand.\n",
      "\n",
      "\t-S\tRequire different strandedness.  That is, only count overlaps\n",
      "\t\ton the _opposite_ strand.\n",
      "\t\t- By default, overlaps are counted without respect to strand.\n",
      "\n"
     ]
    }
   ],
   "source": [
    "cat annotate.log"
   ]
  },
  {
   "cell_type": "code",
   "execution_count": 8,
   "metadata": {},
   "outputs": [
    {
     "name": "stdout",
     "output_type": "stream",
     "text": [
      "\n",
      "Tool:    bedtools coverage (aka coverageBed)\n",
      "Version: v2.25.0\n",
      "Summary: Returns the depth and breadth of coverage of features from B\n",
      "\t on the intervals in A.\n",
      "\n",
      "Usage:   bedtools coverage [OPTIONS] -a <bed/gff/vcf> -b <bed/gff/vcf>\n",
      "\n",
      "Options: \n",
      "\t-hist\tReport a histogram of coverage for each feature in A\n",
      "\t\tas well as a summary histogram for _all_ features in A.\n",
      "\n",
      "\t\tOutput (tab delimited) after each feature in A:\n",
      "\t\t  1) depth\n",
      "\t\t  2) # bases at depth\n",
      "\t\t  3) size of A\n",
      "\t\t  4) % of A at depth\n",
      "\n",
      "\t-d\tReport the depth at each position in each A feature.\n",
      "\t\tPositions reported are one based.  Each position\n",
      "\t\tand depth follow the complete A feature.\n",
      "\n",
      "\t-counts\tOnly report the count of overlaps, don't compute fraction, etc.\n",
      "\n",
      "\t-mean\tReport the mean depth of all positions in each A feature.\n",
      "\n",
      "\t-s\tRequire same strandedness.  That is, only report hits in B\n",
      "\t\tthat overlap A on the _same_ strand.\n",
      "\t\t- By default, overlaps are reported without respect to strand.\n",
      "\n",
      "\t-S\tRequire different strandedness.  That is, only report hits in B\n",
      "\t\tthat overlap A on the _opposite_ strand.\n",
      "\t\t- By default, overlaps are reported without respect to strand.\n",
      "\n",
      "\t-f\tMinimum overlap required as a fraction of A.\n",
      "\t\t- Default is 1E-9 (i.e., 1bp).\n",
      "\t\t- FLOAT (e.g. 0.50)\n",
      "\n",
      "\t-F\tMinimum overlap required as a fraction of B.\n",
      "\t\t- Default is 1E-9 (i.e., 1bp).\n",
      "\t\t- FLOAT (e.g. 0.50)\n",
      "\n",
      "\t-r\tRequire that the fraction overlap be reciprocal for A AND B.\n",
      "\t\t- In other words, if -f is 0.90 and -r is used, this requires\n",
      "\t\t  that B overlap 90% of A and A _also_ overlaps 90% of B.\n",
      "\n",
      "\t-e\tRequire that the minimum fraction be satisfied for A OR B.\n",
      "\t\t- In other words, if -e is used with -f 0.90 and -F 0.10 this requires\n",
      "\t\t  that either 90% of A is covered OR 10% of  B is covered.\n",
      "\t\t  Without -e, both fractions would have to be satisfied.\n",
      "\n",
      "\t-split\tTreat \"split\" BAM or BED12 entries as distinct BED intervals.\n",
      "\n",
      "\t-g\tProvide a genome file to enforce consistent chromosome sort order\n",
      "\t\tacross input files. Only applies when used with -sorted option.\n",
      "\n",
      "\t-nonamecheck\tFor sorted data, don't throw an error if the file has different naming conventions\n",
      "\t\t\tfor the same chromosome. ex. \"chr1\" vs \"chr01\".\n",
      "\n",
      "\t-sorted\tUse the \"chromsweep\" algorithm for sorted (-k1,1 -k2,2n) input.\n",
      "\n",
      "\t-bed\tIf using BAM input, write output as BED.\n",
      "\n",
      "\t-header\tPrint the header from the A file prior to results.\n",
      "\n",
      "\t-nobuf\tDisable buffered output. Using this option will cause each line\n",
      "\t\tof output to be printed as it is generated, rather than saved\n",
      "\t\tin a buffer. This will make printing large output files \n",
      "\t\tnoticeably slower, but can be useful in conjunction with\n",
      "\t\tother software tools and scripts that need to process one\n",
      "\t\tline of bedtools output at a time.\n",
      "\n",
      "\t-iobuf\tSpecify amount of memory to use for input buffer.\n",
      "\t\tTakes an integer argument. Optional suffixes K/M/G supported.\n",
      "\t\tNote: currently has no effect with compressed files.\n",
      "\n",
      "Default Output:  \n",
      "\t After each entry in A, reports: \n",
      "\t   1) The number of features in B that overlapped the A interval.\n",
      "\t   2) The number of bases in A that had non-zero coverage.\n",
      "\t   3) The length of the entry in A.\n",
      "\t   4) The fraction of bases in A that had non-zero coverage.\n",
      "\n"
     ]
    }
   ],
   "source": [
    "cat converage.log"
   ]
  },
  {
   "cell_type": "markdown",
   "metadata": {},
   "source": [
    "```\n",
    "A.bed   B.bed      intersect i/A   i/B\n",
    "1-2   + 1-5   ===> 1-2       1.00  1/4\n",
    "1-2   + 3-10  ===> NULL\n",
    "1-2   + 5-15  ===> NULL\n",
    "3-5   + 1-5   ===> 3-5\n",
    "3-5   + 3-10  ===> 3-5\n",
    "3-5   + 5-15  ===> NULL\n",
    "2-10  + 1-5   ===> 2-5\n",
    "2-10  + 3-10  ===> 3-10\n",
    "2-10  + 5-15  ===> 5-10\n",
    "```"
   ]
  },
  {
   "cell_type": "code",
   "execution_count": 4,
   "metadata": {},
   "outputs": [],
   "source": [
    "module load bedtools2"
   ]
  },
  {
   "cell_type": "code",
   "execution_count": 9,
   "metadata": {},
   "outputs": [],
   "source": [
    "TAB=\"$(printf '\\t')\"\n",
    "\n",
    "cat > A.bed << EOF\n",
    "chr1${TAB}1${TAB}2\n",
    "chr1${TAB}3${TAB}5\n",
    "chr1${TAB}2${TAB}10\n",
    "chr2${TAB}1${TAB}2\n",
    "EOF"
   ]
  },
  {
   "cell_type": "code",
   "execution_count": 10,
   "metadata": {},
   "outputs": [],
   "source": [
    "TAB=\"$(printf '\\t')\"\n",
    "\n",
    "cat > B.bed << EOF\n",
    "chr1${TAB}1${TAB}5\n",
    "chr1${TAB}3${TAB}10\n",
    "chr1${TAB}5${TAB}15\n",
    "EOF"
   ]
  },
  {
   "cell_type": "code",
   "execution_count": 11,
   "metadata": {},
   "outputs": [
    {
     "name": "stdout",
     "output_type": "stream",
     "text": [
      "chr1\t1\t2\t1\t1\t1\t1.0000000\n",
      "chr1\t3\t5\t2\t2\t2\t1.0000000\n",
      "chr1\t2\t10\t3\t8\t8\t1.0000000\n",
      "chr2\t1\t2\t0\t0\t1\t0.0000000\n"
     ]
    }
   ],
   "source": [
    "bedtools coverage -a A.bed -b B.bed"
   ]
  },
  {
   "cell_type": "code",
   "execution_count": 12,
   "metadata": {},
   "outputs": [
    {
     "name": "stdout",
     "output_type": "stream",
     "text": [
      "chr1\t1\t5\t3\t4\t4\t1.0000000\n",
      "chr1\t3\t10\t2\t7\t7\t1.0000000\n",
      "chr1\t5\t15\t1\t5\t10\t0.5000000\n"
     ]
    }
   ],
   "source": [
    "bedtools coverage -a B.bed -b A.bed"
   ]
  },
  {
   "cell_type": "markdown",
   "metadata": {},
   "source": [
    "```\n",
    "-d Reporting the per-base of coverage for each feature in the A file\n",
    "One should use the “-d” option to create, for each interval in A, a detailed list of coverage at each of the positions across each A interval.\n",
    "\n",
    "The output will consist of a line for each one-based position in each A feature, followed by the coverage detected at that position.\n",
    "```"
   ]
  },
  {
   "cell_type": "code",
   "execution_count": 13,
   "metadata": {},
   "outputs": [
    {
     "name": "stdout",
     "output_type": "stream",
     "text": [
      "chr1\t1\t2\t1\t1\n",
      "chr1\t3\t5\t1\t2\n",
      "chr1\t3\t5\t2\t2\n",
      "chr1\t2\t10\t1\t1\n",
      "chr1\t2\t10\t2\t2\n",
      "chr1\t2\t10\t3\t2\n",
      "chr1\t2\t10\t4\t2\n",
      "chr1\t2\t10\t5\t2\n",
      "chr1\t2\t10\t6\t2\n",
      "chr1\t2\t10\t7\t2\n",
      "chr1\t2\t10\t8\t2\n",
      "chr2\t1\t2\t1\t0\n"
     ]
    }
   ],
   "source": [
    "bedtools coverage -a A.bed -b B.bed -d"
   ]
  },
  {
   "cell_type": "code",
   "execution_count": 6,
   "metadata": {},
   "outputs": [],
   "source": [
    "TAB=\"$(printf '\\t')\"\n",
    "\n",
    "cat > variants.bed << EOF\n",
    "chr1${TAB}100${TAB}200${TAB}nasty${TAB}1${TAB}-\n",
    "chr2${TAB}500${TAB}1000${TAB}ugly${TAB}2${TAB}+\n",
    "chr3${TAB}1000${TAB}5000${TAB}big${TAB}3${TAB}-\n",
    "EOF"
   ]
  },
  {
   "cell_type": "code",
   "execution_count": 7,
   "metadata": {},
   "outputs": [],
   "source": [
    "cat > genes.bed << EOF\n",
    "chr1${TAB}150${TAB}200${TAB}geneA${TAB}1${TAB}+\n",
    "chr1${TAB}175${TAB}250${TAB}geneB${TAB}2${TAB}+\n",
    "chr3${TAB}0${TAB}10000${TAB}geneC${TAB}3${TAB}-\n",
    "EOF"
   ]
  },
  {
   "cell_type": "code",
   "execution_count": 12,
   "metadata": {},
   "outputs": [
    {
     "name": "stdout",
     "output_type": "stream",
     "text": [
      "chr1\t100\t200\tnasty\t1\t-\t0.500000\n",
      "chr2\t500\t1000\tugly\t2\t+\t0.000000\n",
      "chr3\t1000\t5000\tbig\t3\t-\t1.000000\n"
     ]
    }
   ],
   "source": [
    "bedtools annotate -names -i variants.bed -files genes.bed"
   ]
  },
  {
   "cell_type": "code",
   "execution_count": null,
   "metadata": {},
   "outputs": [],
   "source": []
  },
  {
   "cell_type": "code",
   "execution_count": null,
   "metadata": {},
   "outputs": [],
   "source": []
  },
  {
   "cell_type": "code",
   "execution_count": null,
   "metadata": {},
   "outputs": [],
   "source": []
  },
  {
   "cell_type": "code",
   "execution_count": null,
   "metadata": {},
   "outputs": [],
   "source": [
    "$ cat A.bed\n",
    "chr1  0   100\n",
    "chr1  100 200\n",
    "chr2  0   100\n",
    "\n",
    "$ cat B.bed\n",
    "chr1  10  20\n",
    "chr1  20  30\n",
    "chr1  30  40\n",
    "chr1  100 200\n",
    "\n",
    "$ bedtools coverage -a A.bed -b B.bed\n",
    "chr1  0   100  3  30  100 0.3000000\n",
    "chr1  100 200  1  100 100 1.0000000\n",
    "chr2  0   100  0  0   100 0.0000000"
   ]
  }
 ],
 "metadata": {
  "kernelspec": {
   "display_name": "Bash",
   "language": "bash",
   "name": "bash"
  },
  "language_info": {
   "codemirror_mode": "shell",
   "file_extension": ".sh",
   "mimetype": "text/x-sh",
   "name": "bash"
  }
 },
 "nbformat": 4,
 "nbformat_minor": 4
}
