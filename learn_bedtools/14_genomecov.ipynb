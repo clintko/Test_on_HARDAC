{
 "cells": [
  {
   "cell_type": "code",
   "execution_count": 1,
   "metadata": {},
   "outputs": [],
   "source": [
    "module load bedtools2"
   ]
  },
  {
   "cell_type": "code",
   "execution_count": 2,
   "metadata": {},
   "outputs": [],
   "source": [
    "TAB=\"$(printf '\\t')\"\n",
    "\n",
    "cat > A.bed << EOF\n",
    "chr1${TAB}1${TAB}2\n",
    "chr1${TAB}3${TAB}5\n",
    "chr1${TAB}2${TAB}10\n",
    "chr2${TAB}1${TAB}2\n",
    "EOF"
   ]
  },
  {
   "cell_type": "code",
   "execution_count": 3,
   "metadata": {},
   "outputs": [],
   "source": [
    "TAB=\"$(printf '\\t')\"\n",
    "\n",
    "cat > my_genome << EOF\n",
    "chr1${TAB}20\n",
    "chr2${TAB}5\n",
    "EOF"
   ]
  },
  {
   "cell_type": "code",
   "execution_count": 4,
   "metadata": {},
   "outputs": [
    {
     "name": "stdout",
     "output_type": "stream",
     "text": [
      "chr1\t0\t11\t20\t0.55\n",
      "chr1\t1\t7\t20\t0.35\n",
      "chr1\t2\t2\t20\t0.1\n",
      "chr2\t0\t4\t5\t0.8\n",
      "chr2\t1\t1\t5\t0.2\n",
      "genome\t0\t15\t25\t0.6\n",
      "genome\t1\t8\t25\t0.32\n",
      "genome\t2\t2\t25\t0.08\n"
     ]
    }
   ],
   "source": [
    "bedtools genomecov -i A.bed -g my_genome"
   ]
  },
  {
   "cell_type": "code",
   "execution_count": 5,
   "metadata": {},
   "outputs": [
    {
     "name": "stdout",
     "output_type": "stream",
     "text": [
      "chr1\t1\t3\t1\n",
      "chr1\t3\t5\t2\n",
      "chr1\t5\t10\t1\n",
      "chr2\t1\t2\t1\n"
     ]
    }
   ],
   "source": [
    "bedtools genomecov -i A.bed -g my_genome -bg"
   ]
  },
  {
   "cell_type": "code",
   "execution_count": null,
   "metadata": {},
   "outputs": [],
   "source": []
  }
 ],
 "metadata": {
  "kernelspec": {
   "display_name": "Bash",
   "language": "bash",
   "name": "bash"
  },
  "language_info": {
   "codemirror_mode": "shell",
   "file_extension": ".sh",
   "mimetype": "text/x-sh",
   "name": "bash"
  }
 },
 "nbformat": 4,
 "nbformat_minor": 4
}
