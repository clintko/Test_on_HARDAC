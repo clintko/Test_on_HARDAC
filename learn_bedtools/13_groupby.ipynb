{
 "cells": [
  {
   "cell_type": "code",
   "execution_count": 3,
   "metadata": {},
   "outputs": [],
   "source": [
    "module load bedtools2"
   ]
  },
  {
   "cell_type": "code",
   "execution_count": 11,
   "metadata": {},
   "outputs": [],
   "source": [
    "TAB=\"$(printf '\\t')\"\n",
    "\n",
    "cat > test.bed << EOF\n",
    "chr1${TAB}1${TAB}2\n",
    "chr1${TAB}1${TAB}2\n",
    "chr1${TAB}1${TAB}2\n",
    "chr1${TAB}1${TAB}3\n",
    "chr1${TAB}1${TAB}5\n",
    "chr2${TAB}1${TAB}2\n",
    "chr2${TAB}1${TAB}2\n",
    "EOF"
   ]
  },
  {
   "cell_type": "code",
   "execution_count": 15,
   "metadata": {},
   "outputs": [
    {
     "name": "stdout",
     "output_type": "stream",
     "text": [
      "chr1\t1\t5\t5\n",
      "chr2\t1\t2\t2\n"
     ]
    }
   ],
   "source": [
    "bedtools merge -i test.bed -c 1 -o count"
   ]
  },
  {
   "cell_type": "code",
   "execution_count": 17,
   "metadata": {},
   "outputs": [
    {
     "name": "stdout",
     "output_type": "stream",
     "text": [
      "chr1\t1\t2\t3\n",
      "chr1\t1\t3\t1\n",
      "chr1\t1\t5\t1\n",
      "chr2\t1\t2\t2\n"
     ]
    }
   ],
   "source": [
    "cat test.bed | bedtools groupby -c 1 -o count"
   ]
  },
  {
   "cell_type": "code",
   "execution_count": 16,
   "metadata": {},
   "outputs": [
    {
     "name": "stdout",
     "output_type": "stream",
     "text": [
      "chr1\t1\t2\t3\n",
      "chr1\t1\t3\t1\n",
      "chr1\t1\t5\t1\n",
      "chr2\t1\t2\t2\n"
     ]
    }
   ],
   "source": [
    "bedtools groupby -c 1 -o count -i test.bed "
   ]
  },
  {
   "cell_type": "code",
   "execution_count": 12,
   "metadata": {},
   "outputs": [
    {
     "name": "stdout",
     "output_type": "stream",
     "text": [
      "chr1\t1\t2\t3\n",
      "chr1\t1\t3\t1\n",
      "chr1\t1\t5\t1\n",
      "chr2\t1\t2\t2\n"
     ]
    }
   ],
   "source": [
    "bedtools groupby -i test.bed -c 1 -o count"
   ]
  },
  {
   "cell_type": "code",
   "execution_count": 13,
   "metadata": {},
   "outputs": [
    {
     "name": "stdout",
     "output_type": "stream",
     "text": [
      "chr1\t1\t2\t3\n",
      "chr1\t1\t3\t1\n",
      "chr1\t1\t5\t1\n",
      "chr2\t1\t2\t2\n"
     ]
    }
   ],
   "source": [
    "bedtools groupby -i test.bed -c 2 -o count"
   ]
  },
  {
   "cell_type": "code",
   "execution_count": 25,
   "metadata": {},
   "outputs": [
    {
     "name": "stdout",
     "output_type": "stream",
     "text": [
      "chr1                1                   2                   3\n",
      "chr1                1                   3                   1\n",
      "chr1                1                   5                   1\n",
      "chr2                1                   2                   2\n"
     ]
    }
   ],
   "source": [
    "bedtools groupby -i test.bed -c 3 -o count | expand -t 20"
   ]
  },
  {
   "cell_type": "code",
   "execution_count": 27,
   "metadata": {},
   "outputs": [
    {
     "name": "stdout",
     "output_type": "stream",
     "text": [
      "3 chr1              1                   2\n",
      "1 chr1              1                   3\n",
      "1 chr1              1                   5\n",
      "2 chr2              1                   2\n"
     ]
    }
   ],
   "source": [
    "cat test.bed | sort | uniq -c | sed -e 's/^[[:space:]]*//' | expand -t 20"
   ]
  },
  {
   "cell_type": "code",
   "execution_count": 26,
   "metadata": {},
   "outputs": [
    {
     "name": "stdout",
     "output_type": "stream",
     "text": [
      "chr1 1 2 3\n",
      "chr1 1 3 1\n",
      "chr1 1 5 1\n",
      "chr2 1 2 2\n"
     ]
    }
   ],
   "source": [
    "cat test.bed | sort | uniq -c | sed -e 's/^[[:space:]]*//' | expand -t 20 #| "
   ]
  },
  {
   "cell_type": "code",
   "execution_count": 38,
   "metadata": {},
   "outputs": [
    {
     "name": "stdout",
     "output_type": "stream",
     "text": [
      "chr1      1         2         3\n",
      "chr1      1         3         1\n",
      "chr1      1         5         1\n",
      "chr2      1         2         2\n"
     ]
    }
   ],
   "source": [
    "cat test.bed | sort | uniq -c   |\\\n",
    "    awk '{$(NF+1)=$1;$1=\"\"}1'   |\\\n",
    "    sed -e 's/^[[:space:]]*//'  |\\\n",
    "    sed -e 's/[[:space:]]/\\t/g' |\\\n",
    "    expand -t 10"
   ]
  },
  {
   "cell_type": "code",
   "execution_count": null,
   "metadata": {},
   "outputs": [],
   "source": []
  }
 ],
 "metadata": {
  "kernelspec": {
   "display_name": "Bash",
   "language": "bash",
   "name": "bash"
  },
  "language_info": {
   "codemirror_mode": "shell",
   "file_extension": ".sh",
   "mimetype": "text/x-sh",
   "name": "bash"
  }
 },
 "nbformat": 4,
 "nbformat_minor": 4
}
