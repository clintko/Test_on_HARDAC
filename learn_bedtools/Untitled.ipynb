{
 "cells": [
  {
   "cell_type": "code",
   "execution_count": 1,
   "metadata": {},
   "outputs": [
    {
     "name": "stdout",
     "output_type": "stream",
     "text": [
      "1\n"
     ]
    }
   ],
   "source": [
    "print(1)"
   ]
  },
  {
   "cell_type": "code",
   "execution_count": null,
   "metadata": {},
   "outputs": [],
   "source": []
  },
  {
   "cell_type": "code",
   "execution_count": null,
   "metadata": {},
   "outputs": [],
   "source": [
    "FP_WRK=/data/reddylab/Kuei/out/CombEffect_STARR\n",
    "FP_OUT=${FP_WRK}/data/test_split_bed\n",
    "awk -F $'\\t' '($2 >= 8148987 && $2 <= 8159379)' ${FP_OUT}/chr17.bed | sort | uniq -c > ${FP_OUT}/cnt_chr17.txt\n"
   ]
  },
  {
   "cell_type": "code",
   "execution_count": 19,
   "metadata": {},
   "outputs": [
    {
     "name": "stdout",
     "output_type": "stream",
     "text": [
      "GCR_HUMAN.A.bed\n",
      "GCR_HUMAN.B.bed\n",
      "GCR_HUMAN.C.bed\n",
      "GCR_HUMAN.D.bed\n"
     ]
    }
   ],
   "source": [
    "%%bash\n",
    "FP_WRK=/data/reddylab/Kuei/out\n",
    "FP_ANN=${FP_WRK}/annotation/cistrome/hg38_cistrome\n",
    "ls ${FP_ANN} | grep GCR"
   ]
  },
  {
   "cell_type": "code",
   "execution_count": 20,
   "metadata": {},
   "outputs": [
    {
     "name": "stdout",
     "output_type": "stream",
     "text": [
      "chr1\t10022\t10338\n",
      "chr1\t180626\t181057\n",
      "chr1\t629777\t630092\n",
      "chr1\t818870\t819186\n",
      "chr1\t905200\t905664\n",
      "chr1\t906700\t907241\n",
      "chr1\t916591\t917225\n",
      "chr1\t917373\t917730\n",
      "chr1\t933094\t933441\n",
      "chr1\t940241\t940578\n"
     ]
    }
   ],
   "source": [
    "%%bash\n",
    "FP_WRK=/data/reddylab/Kuei/out\n",
    "FP_ANN=${FP_WRK}/annotation/cistrome/hg38_cistrome\n",
    "head ${FP_ANN}/GCR_HUMAN.A.bed"
   ]
  },
  {
   "cell_type": "code",
   "execution_count": 22,
   "metadata": {},
   "outputs": [
    {
     "name": "stdout",
     "output_type": "stream",
     "text": [
      "3039\n"
     ]
    }
   ],
   "source": [
    "%%bash\n",
    "FP_WRK=/data/reddylab/Kuei/out\n",
    "FP_ANN=${FP_WRK}/annotation/cistrome/hg38_cistrome\n",
    "cat ${FP_ANN}/GCR_HUMAN.A.bed | grep chr17 | wc -l"
   ]
  },
  {
   "cell_type": "code",
   "execution_count": 24,
   "metadata": {},
   "outputs": [
    {
     "name": "stdout",
     "output_type": "stream",
     "text": [
      "Submitted batch job 25346269\n"
     ]
    }
   ],
   "source": [
    "%%bash\n",
    "### set environment\n",
    "module load perl\n",
    "module load gcc\n",
    "module load bedtools2\n",
    "source /data/reddylab/software/miniconda2/bin/activate alex_dev\n",
    "export PATH=/data/reddylab/software/homer/bin/:$PATH\n",
    "\n",
    "### set log file directory\n",
    "FD_LOG=/gpfs/fs1/data/reddylab/Kuei/out/CombEffect_STARR/log\n",
    "\n",
    "### run script using sbatch\n",
    "sbatch -pnew,all \\\n",
    "    --mem 16G \\\n",
    "    -o ${FD_LOG}/test.txt \\\n",
    "    <<'EOF'\n",
    "#!/bin/bash\n",
    "FP_WRK=/data/reddylab/Kuei/out\n",
    "FP_ANN=${FP_WRK}/annotation/cistrome/hg38_cistrome\n",
    "FP_OUT=${FP_WRK}/CombEffect_STARR/data/test_split_bed\n",
    "\n",
    "awk -F $'\\t' '($2 >= 8148987 && $2 <= 8159379)' ${FP_OUT}/chr17.bed |\\\n",
    "    sort    |\\\n",
    "    uniq -c |\\\n",
    "    awk '{$(NF+1)=$1;$1=\"\"}1'   |\\\n",
    "    sed -e 's/^[[:space:]]*//'  |\\\n",
    "    sed -e 's/[[:space:]]/\\t/g'  \\\n",
    "    > ${FP_OUT}/cnt_chr17.txt\n",
    "\n",
    "FP_BED_A=${FP_OUT}/cnt_chr17.txt\n",
    "FP_BED_B=${FP_ANN}/GCR_HUMAN.A.bed\n",
    "bedtools intersect -a $FP_BED_A -b $FP_BED_B -wo > test_chr17.txt\n",
    "\n",
    "EOF"
   ]
  },
  {
   "cell_type": "code",
   "execution_count": 25,
   "metadata": {},
   "outputs": [],
   "source": [
    "%%bash\n",
    "FD_LOG=/gpfs/fs1/data/reddylab/Kuei/out/CombEffect_STARR/log\n",
    "cat ${FD_LOG}/test.txt"
   ]
  },
  {
   "cell_type": "code",
   "execution_count": 26,
   "metadata": {},
   "outputs": [
    {
     "name": "stdout",
     "output_type": "stream",
     "text": [
      "630820 /data/reddylab/Kuei/out/CombEffect_STARR/data/test_split_bed/chr17.bed\n",
      "chr17\t201123\t201925\n",
      "chr17\t201160\t201968\n",
      "chr17\t201202\t202074\n",
      "chr17\t201259\t202052\n",
      "chr17\t201366\t202130\n"
     ]
    }
   ],
   "source": [
    "%%bash\n",
    "FP_WRK=/data/reddylab/Kuei/out/CombEffect_STARR\n",
    "FP_OUT=${FP_WRK}/data/test_split_bed\n",
    "wc -l ${FP_OUT}/chr17.bed\n",
    "head -5 ${FP_OUT}/chr17.bed"
   ]
  },
  {
   "cell_type": "code",
   "execution_count": 34,
   "metadata": {},
   "outputs": [
    {
     "name": "stdout",
     "output_type": "stream",
     "text": [
      "155 /data/reddylab/Kuei/out/CombEffect_STARR/data/test_split_bed/cnt_chr17.txt\n",
      "chr17     8149040   8149982   1\n",
      "chr17     8149115   8150060   1\n",
      "chr17     8149204   8150156   1\n",
      "chr17     8149218   8150168   1\n",
      "chr17     8149267   8150180   1\n",
      "chr17     8149351   8150361   1\n",
      "chr17     8149418   8150427   1\n",
      "chr17     8149468   8150589   1\n",
      "chr17     8149606   8150634   1\n",
      "chr17     8149661   8150552   1\n",
      "chr17     8149759   8150629   1\n",
      "chr17     8149760   8150629   1\n",
      "chr17     8149776   8150701   1\n",
      "chr17     8149807   8150828   1\n",
      "chr17     8149867   8150835   1\n",
      "chr17     8149892   8150882   1\n",
      "chr17     8149982   8150963   1\n",
      "chr17     8149999   8150959   1\n",
      "chr17     8150002   8150977   1\n",
      "chr17     8150062   8151047   1\n",
      "chr17     8150087   8151099   1\n",
      "chr17     8150097   8151053   1\n",
      "chr17     8150098   8151111   1\n",
      "chr17     8150134   8151015   1\n",
      "chr17     8150143   8151082   1\n",
      "chr17     8150166   8151054   1\n",
      "chr17     8150170   8151089   1\n",
      "chr17     8150171   8151112   1\n",
      "chr17     8150329   8151343   1\n",
      "chr17     8150402   8151376   1\n",
      "chr17     8150410   8151356   1\n",
      "chr17     8150421   8151368   1\n",
      "chr17     8150585   8151628   1\n",
      "chr17     8150681   8151651   1\n",
      "chr17     8150924   8151934   1\n",
      "chr17     8150967   8152017   1\n",
      "chr17     8151036   8151950   1\n",
      "chr17     8151038   8152053   1\n",
      "chr17     8151125   8152088   1\n",
      "chr17     8151181   8152112   1\n",
      "chr17     8151181   8152213   1\n",
      "chr17     8151208   8152084   1\n",
      "chr17     8151375   8152364   1\n",
      "chr17     8151391   8152431   1\n",
      "chr17     8151403   8152302   1\n",
      "chr17     8151414   8152536   1\n",
      "chr17     8151422   8152318   1\n",
      "chr17     8151517   8152458   1\n",
      "chr17     8151525   8152432   1\n",
      "chr17     8151570   8152513   1\n",
      "chr17     8151571   8152513   1\n",
      "chr17     8151583   8152453   1\n",
      "chr17     8151605   8152607   1\n",
      "chr17     8151674   8152601   1\n",
      "chr17     8151724   8152705   1\n",
      "chr17     8151803   8152658   1\n",
      "chr17     8151809   8152695   1\n",
      "chr17     8151997   8152925   1\n",
      "chr17     8152016   8152939   1\n",
      "chr17     8152016   8152940   1\n",
      "chr17     8152097   8153079   1\n",
      "chr17     8152124   8153123   1\n",
      "chr17     8152127   8153058   1\n",
      "chr17     8152169   8153149   1\n",
      "chr17     8152175   8153134   1\n",
      "chr17     8152199   8153227   1\n",
      "chr17     8152309   8153359   1\n",
      "chr17     8152319   8153323   1\n",
      "chr17     8152332   8153377   1\n",
      "chr17     8152366   8153333   1\n",
      "chr17     8152454   8153430   1\n",
      "chr17     8152488   8153495   1\n",
      "chr17     8152618   8153485   1\n",
      "chr17     8152651   8153561   1\n",
      "chr17     8152675   8153700   1\n",
      "chr17     8152750   8153748   1\n",
      "chr17     8152819   8153680   1\n",
      "chr17     8153015   8153959   1\n",
      "chr17     8153361   8154250   1\n",
      "chr17     8153381   8154434   1\n",
      "chr17     8153433   8154497   1\n",
      "chr17     8153498   8154497   1\n",
      "chr17     8153554   8154588   1\n",
      "chr17     8153571   8154547   1\n",
      "chr17     8153580   8154507   1\n",
      "chr17     8153649   8154541   1\n",
      "chr17     8153840   8154896   1\n",
      "chr17     8153900   8154868   1\n",
      "chr17     8153927   8154865   1\n",
      "chr17     8153980   8154819   1\n",
      "chr17     8154004   8155019   1\n",
      "chr17     8154109   8154966   1\n",
      "chr17     8154147   8155142   1\n",
      "chr17     8154149   8155118   1\n",
      "chr17     8154194   8155132   1\n",
      "chr17     8154280   8155196   1\n",
      "chr17     8154307   8155326   1\n",
      "chr17     8154511   8155392   1\n",
      "chr17     8154527   8155545   1\n",
      "chr17     8154540   8155505   1\n",
      "chr17     8154564   8155516   1\n",
      "chr17     8154824   8155738   1\n",
      "chr17     8154835   8155683   1\n",
      "chr17     8154960   8155977   1\n",
      "chr17     8155090   8156094   1\n",
      "chr17     8155288   8156155   1\n",
      "chr17     8155628   8156651   1\n",
      "chr17     8155682   8156622   1\n",
      "chr17     8155716   8156636   1\n",
      "chr17     8155729   8156688   1\n",
      "chr17     8155822   8156835   1\n",
      "chr17     8155900   8156797   1\n",
      "chr17     8156010   8156998   1\n",
      "chr17     8156025   8156932   1\n",
      "chr17     8156210   8157096   1\n",
      "chr17     8156225   8157103   1\n",
      "chr17     8156251   8157172   1\n",
      "chr17     8156252   8157213   1\n",
      "chr17     8156271   8157122   1\n",
      "chr17     8156316   8157192   1\n",
      "chr17     8156347   8157365   1\n",
      "chr17     8156349   8157331   1\n",
      "chr17     8156351   8157227   1\n",
      "chr17     8156352   8157285   1\n",
      "chr17     8156357   8157357   1\n",
      "chr17     8156367   8157434   1\n",
      "chr17     8156376   8157458   1\n",
      "chr17     8156384   8157283   1\n",
      "chr17     8156557   8157378   1\n",
      "chr17     8156627   8157654   1\n",
      "chr17     8156630   8157508   1\n",
      "chr17     8156733   8157753   1\n",
      "chr17     8156777   8157775   1\n",
      "chr17     8157154   8158179   1\n",
      "chr17     8157231   8158165   1\n",
      "chr17     8157606   8158539   1\n",
      "chr17     8157728   8158577   1\n",
      "chr17     8157953   8158991   1\n",
      "chr17     8157967   8159052   1\n",
      "chr17     8158030   8158903   1\n",
      "chr17     8158031   8158903   1\n",
      "chr17     8158051   8158951   1\n",
      "chr17     8158103   8159092   1\n",
      "chr17     8158148   8159161   1\n",
      "chr17     8158206   8159259   1\n",
      "chr17     8158223   8159230   1\n",
      "chr17     8158229   8159150   2\n",
      "chr17     8158571   8159503   1\n",
      "chr17     8158876   8159981   1\n",
      "chr17     8158948   8159955   1\n",
      "chr17     8159001   8160009   1\n",
      "chr17     8159008   8159933   1\n",
      "chr17     8159091   8160178   1\n",
      "chr17     8159115   8160020   1\n",
      "chr17     8159263   8160166   1\n"
     ]
    }
   ],
   "source": [
    "%%bash\n",
    "FP_WRK=/data/reddylab/Kuei/out/CombEffect_STARR\n",
    "FP_OUT=${FP_WRK}/data/test_split_bed\n",
    "wc -l ${FP_OUT}/cnt_chr17.txt\n",
    "cat ${FP_OUT}/cnt_chr17.txt | expand -t 10"
   ]
  },
  {
   "cell_type": "code",
   "execution_count": 28,
   "metadata": {},
   "outputs": [
    {
     "name": "stderr",
     "output_type": "stream",
     "text": [
      "wc: /data/reddylab/Kuei/out/CombEffect_STARR/data/test_split_bed/test_chr17.txt: No such file or directory\n",
      "head: cannot open `/data/reddylab/Kuei/out/CombEffect_STARR/data/test_split_bed/test_chr17.txt' for reading: No such file or directory\n"
     ]
    }
   ],
   "source": [
    "%%bash\n",
    "FP_WRK=/data/reddylab/Kuei/out/CombEffect_STARR\n",
    "FP_OUT=${FP_WRK}/data/test_split_bed\n",
    "wc -l ${FP_OUT}/test_chr17.txt\n",
    "head -5 ${FP_OUT}/test_chr17.txt | expand -t 20"
   ]
  },
  {
   "cell_type": "code",
   "execution_count": 35,
   "metadata": {},
   "outputs": [
    {
     "name": "stdout",
     "output_type": "stream",
     "text": [
      "135 test_chr17.txt\n",
      "chr17     8150329   8151343   1         chr17     8151182   8151493   161\n",
      "chr17     8150402   8151376   1         chr17     8151182   8151493   194\n",
      "chr17     8150410   8151356   1         chr17     8151182   8151493   174\n",
      "chr17     8150421   8151368   1         chr17     8151182   8151493   186\n",
      "chr17     8150585   8151628   1         chr17     8151182   8151493   311\n",
      "chr17     8150681   8151651   1         chr17     8151182   8151493   311\n",
      "chr17     8150924   8151934   1         chr17     8151182   8151493   311\n",
      "chr17     8150924   8151934   1         chr17     8151745   8152110   189\n",
      "chr17     8150967   8152017   1         chr17     8151182   8151493   311\n",
      "chr17     8150967   8152017   1         chr17     8151745   8152110   272\n",
      "chr17     8151036   8151950   1         chr17     8151182   8151493   311\n",
      "chr17     8151036   8151950   1         chr17     8151745   8152110   205\n",
      "chr17     8151038   8152053   1         chr17     8151182   8151493   311\n",
      "chr17     8151038   8152053   1         chr17     8151745   8152110   308\n",
      "chr17     8151125   8152088   1         chr17     8151182   8151493   311\n",
      "chr17     8151125   8152088   1         chr17     8151745   8152110   343\n",
      "chr17     8151181   8152112   1         chr17     8151182   8151493   311\n",
      "chr17     8151181   8152112   1         chr17     8151745   8152110   365\n",
      "chr17     8151181   8152213   1         chr17     8151182   8151493   311\n",
      "chr17     8151181   8152213   1         chr17     8151745   8152110   365\n",
      "chr17     8151208   8152084   1         chr17     8151182   8151493   285\n",
      "chr17     8151208   8152084   1         chr17     8151745   8152110   339\n",
      "chr17     8151375   8152364   1         chr17     8151182   8151493   118\n",
      "chr17     8151375   8152364   1         chr17     8151745   8152110   365\n",
      "chr17     8151375   8152364   1         chr17     8152231   8152751   133\n",
      "chr17     8151391   8152431   1         chr17     8151182   8151493   102\n",
      "chr17     8151391   8152431   1         chr17     8151745   8152110   365\n",
      "chr17     8151391   8152431   1         chr17     8152231   8152751   200\n",
      "chr17     8151403   8152302   1         chr17     8151182   8151493   90\n",
      "chr17     8151403   8152302   1         chr17     8151745   8152110   365\n",
      "chr17     8151403   8152302   1         chr17     8152231   8152751   71\n",
      "chr17     8151414   8152536   1         chr17     8151182   8151493   79\n",
      "chr17     8151414   8152536   1         chr17     8151745   8152110   365\n",
      "chr17     8151414   8152536   1         chr17     8152231   8152751   305\n",
      "chr17     8151422   8152318   1         chr17     8151182   8151493   71\n",
      "chr17     8151422   8152318   1         chr17     8151745   8152110   365\n",
      "chr17     8151422   8152318   1         chr17     8152231   8152751   87\n",
      "chr17     8151517   8152458   1         chr17     8151745   8152110   365\n",
      "chr17     8151517   8152458   1         chr17     8152231   8152751   227\n",
      "chr17     8151525   8152432   1         chr17     8151745   8152110   365\n",
      "chr17     8151525   8152432   1         chr17     8152231   8152751   201\n",
      "chr17     8151570   8152513   1         chr17     8151745   8152110   365\n",
      "chr17     8151570   8152513   1         chr17     8152231   8152751   282\n",
      "chr17     8151571   8152513   1         chr17     8151745   8152110   365\n",
      "chr17     8151571   8152513   1         chr17     8152231   8152751   282\n",
      "chr17     8151583   8152453   1         chr17     8151745   8152110   365\n",
      "chr17     8151583   8152453   1         chr17     8152231   8152751   222\n",
      "chr17     8151605   8152607   1         chr17     8151745   8152110   365\n",
      "chr17     8151605   8152607   1         chr17     8152231   8152751   376\n",
      "chr17     8151674   8152601   1         chr17     8151745   8152110   365\n",
      "chr17     8151674   8152601   1         chr17     8152231   8152751   370\n",
      "chr17     8151724   8152705   1         chr17     8151745   8152110   365\n",
      "chr17     8151724   8152705   1         chr17     8152231   8152751   474\n",
      "chr17     8151803   8152658   1         chr17     8151745   8152110   307\n",
      "chr17     8151803   8152658   1         chr17     8152231   8152751   427\n",
      "chr17     8151809   8152695   1         chr17     8151745   8152110   301\n",
      "chr17     8151809   8152695   1         chr17     8152231   8152751   464\n",
      "chr17     8151997   8152925   1         chr17     8151745   8152110   113\n",
      "chr17     8151997   8152925   1         chr17     8152231   8152751   520\n",
      "chr17     8152016   8152939   1         chr17     8151745   8152110   94\n",
      "chr17     8152016   8152939   1         chr17     8152231   8152751   520\n",
      "chr17     8152016   8152940   1         chr17     8151745   8152110   94\n",
      "chr17     8152016   8152940   1         chr17     8152231   8152751   520\n",
      "chr17     8152097   8153079   1         chr17     8151745   8152110   13\n",
      "chr17     8152097   8153079   1         chr17     8152231   8152751   520\n",
      "chr17     8152124   8153123   1         chr17     8152231   8152751   520\n",
      "chr17     8152127   8153058   1         chr17     8152231   8152751   520\n",
      "chr17     8152169   8153149   1         chr17     8152231   8152751   520\n",
      "chr17     8152175   8153134   1         chr17     8152231   8152751   520\n",
      "chr17     8152199   8153227   1         chr17     8152231   8152751   520\n",
      "chr17     8152309   8153359   1         chr17     8152231   8152751   442\n",
      "chr17     8152319   8153323   1         chr17     8152231   8152751   432\n",
      "chr17     8152332   8153377   1         chr17     8152231   8152751   419\n",
      "chr17     8152366   8153333   1         chr17     8152231   8152751   385\n",
      "chr17     8152454   8153430   1         chr17     8152231   8152751   297\n",
      "chr17     8152488   8153495   1         chr17     8152231   8152751   263\n",
      "chr17     8152618   8153485   1         chr17     8152231   8152751   133\n",
      "chr17     8152651   8153561   1         chr17     8152231   8152751   100\n",
      "chr17     8152675   8153700   1         chr17     8152231   8152751   76\n",
      "chr17     8152750   8153748   1         chr17     8152231   8152751   1\n",
      "chr17     8153361   8154250   1         chr17     8153991   8155030   259\n",
      "chr17     8153381   8154434   1         chr17     8153991   8155030   443\n",
      "chr17     8153433   8154497   1         chr17     8153991   8155030   506\n",
      "chr17     8153498   8154497   1         chr17     8153991   8155030   506\n",
      "chr17     8153554   8154588   1         chr17     8153991   8155030   597\n",
      "chr17     8153571   8154547   1         chr17     8153991   8155030   556\n",
      "chr17     8153580   8154507   1         chr17     8153991   8155030   516\n",
      "chr17     8153649   8154541   1         chr17     8153991   8155030   550\n",
      "chr17     8153840   8154896   1         chr17     8153991   8155030   905\n",
      "chr17     8153900   8154868   1         chr17     8153991   8155030   877\n",
      "chr17     8153927   8154865   1         chr17     8153991   8155030   874\n",
      "chr17     8153980   8154819   1         chr17     8153991   8155030   828\n",
      "chr17     8154004   8155019   1         chr17     8153991   8155030   1015\n",
      "chr17     8154109   8154966   1         chr17     8153991   8155030   857\n",
      "chr17     8154147   8155142   1         chr17     8153991   8155030   883\n",
      "chr17     8154149   8155118   1         chr17     8153991   8155030   881\n",
      "chr17     8154194   8155132   1         chr17     8153991   8155030   836\n",
      "chr17     8154280   8155196   1         chr17     8153991   8155030   750\n",
      "chr17     8154307   8155326   1         chr17     8153991   8155030   723\n",
      "chr17     8154511   8155392   1         chr17     8153991   8155030   519\n",
      "chr17     8154527   8155545   1         chr17     8153991   8155030   503\n",
      "chr17     8154540   8155505   1         chr17     8153991   8155030   490\n",
      "chr17     8154564   8155516   1         chr17     8153991   8155030   466\n",
      "chr17     8154824   8155738   1         chr17     8153991   8155030   206\n",
      "chr17     8154835   8155683   1         chr17     8153991   8155030   195\n",
      "chr17     8154960   8155977   1         chr17     8153991   8155030   70\n",
      "chr17     8155288   8156155   1         chr17     8156151   8157163   4\n",
      "chr17     8155628   8156651   1         chr17     8156151   8157163   500\n",
      "chr17     8155682   8156622   1         chr17     8156151   8157163   471\n",
      "chr17     8155716   8156636   1         chr17     8156151   8157163   485\n",
      "chr17     8155729   8156688   1         chr17     8156151   8157163   537\n",
      "chr17     8155822   8156835   1         chr17     8156151   8157163   684\n",
      "chr17     8155900   8156797   1         chr17     8156151   8157163   646\n",
      "chr17     8156010   8156998   1         chr17     8156151   8157163   847\n",
      "chr17     8156025   8156932   1         chr17     8156151   8157163   781\n",
      "chr17     8156210   8157096   1         chr17     8156151   8157163   886\n",
      "chr17     8156225   8157103   1         chr17     8156151   8157163   878\n",
      "chr17     8156251   8157172   1         chr17     8156151   8157163   912\n",
      "chr17     8156252   8157213   1         chr17     8156151   8157163   911\n",
      "chr17     8156271   8157122   1         chr17     8156151   8157163   851\n",
      "chr17     8156316   8157192   1         chr17     8156151   8157163   847\n",
      "chr17     8156347   8157365   1         chr17     8156151   8157163   816\n",
      "chr17     8156349   8157331   1         chr17     8156151   8157163   814\n",
      "chr17     8156351   8157227   1         chr17     8156151   8157163   812\n",
      "chr17     8156352   8157285   1         chr17     8156151   8157163   811\n",
      "chr17     8156357   8157357   1         chr17     8156151   8157163   806\n",
      "chr17     8156367   8157434   1         chr17     8156151   8157163   796\n",
      "chr17     8156376   8157458   1         chr17     8156151   8157163   787\n",
      "chr17     8156384   8157283   1         chr17     8156151   8157163   779\n",
      "chr17     8156557   8157378   1         chr17     8156151   8157163   606\n",
      "chr17     8156627   8157654   1         chr17     8156151   8157163   536\n",
      "chr17     8156630   8157508   1         chr17     8156151   8157163   533\n",
      "chr17     8156733   8157753   1         chr17     8156151   8157163   430\n",
      "chr17     8156777   8157775   1         chr17     8156151   8157163   386\n",
      "chr17     8157154   8158179   1         chr17     8156151   8157163   9\n"
     ]
    }
   ],
   "source": [
    "%%bash\n",
    "FP_WRK=/data/reddylab/Kuei/out/CombEffect_STARR\n",
    "FP_OUT=${FP_WRK}/data/test_split_bed\n",
    "wc -l test_chr17.txt\n",
    "cat test_chr17.txt | expand -t 10"
   ]
  },
  {
   "cell_type": "code",
   "execution_count": null,
   "metadata": {},
   "outputs": [],
   "source": []
  },
  {
   "cell_type": "code",
   "execution_count": null,
   "metadata": {},
   "outputs": [],
   "source": []
  },
  {
   "cell_type": "code",
   "execution_count": null,
   "metadata": {},
   "outputs": [],
   "source": []
  },
  {
   "cell_type": "code",
   "execution_count": 33,
   "metadata": {},
   "outputs": [
    {
     "name": "stdout",
     "output_type": "stream",
     "text": [
      "Submitted batch job 25346135\n"
     ]
    }
   ],
   "source": [
    "%%bash\n",
    "### set environment\n",
    "module load perl\n",
    "module load gcc\n",
    "module load bedtools2\n",
    "source /data/reddylab/software/miniconda2/bin/activate alex_dev\n",
    "export PATH=/data/reddylab/software/homer/bin/:$PATH\n",
    "\n",
    "### set log file directory\n",
    "FD_LOG=/gpfs/fs1/data/reddylab/Kuei/out/CombEffect_STARR/log\n",
    "\n",
    "### run script using sbatch\n",
    "sbatch -pnew,all \\\n",
    "    --mem 16G \\\n",
    "    -o ${FD_LOG}/test.txt \\\n",
    "    <<'EOF'\n",
    "#!/bin/bash\n",
    "FP_WRK=/data/reddylab/Kuei/out\n",
    "FP_ANN=${FP_WRK}/annotation/cistrome/hg38_cistrome\n",
    "FP_OUT=${FP_WRK}/CombEffect_STARR/data/test_split_bed\n",
    "\n",
    "awk -F $'\\t' '($2 >= 8148987 && $2 <= 8159379)' ${FP_OUT}/chr17.bed |\\\n",
    "    sort    |\\\n",
    "    uniq -c  \\\n",
    "    > ${FP_OUT}/cnt_chr17_v1.txt\n",
    "\n",
    "awk -F $'\\t' '($2 >= 8148987 && $2 <= 8159379)' ${FP_OUT}/chr17.bed |\\\n",
    "    bedtools groupby -c 1 -o count |\\\n",
    "    > ${FP_OUT}/cnt_chr17_v2.txt\n",
    "\n",
    "FP_BED_A=${FP_OUT}/cnt_chr17_v2.txt\n",
    "FP_BED_B=${FP_ANN}/GCR_HUMAN.A.bed\n",
    "bedtools intersect -a $FP_BED_A -b $FP_BED_B -wo > test_chr17.txt\n",
    "\n",
    "EOF"
   ]
  },
  {
   "cell_type": "code",
   "execution_count": 34,
   "metadata": {},
   "outputs": [],
   "source": [
    "%%bash\n",
    "FD_LOG=/gpfs/fs1/data/reddylab/Kuei/out/CombEffect_STARR/log\n",
    "cat ${FD_LOG}/test.txt"
   ]
  },
  {
   "cell_type": "code",
   "execution_count": 35,
   "metadata": {},
   "outputs": [
    {
     "name": "stdout",
     "output_type": "stream",
     "text": [
      "155 /data/reddylab/Kuei/out/CombEffect_STARR/data/test_split_bed/cnt_chr17_v1.txt\n",
      "      1 chr17\t8149040\t8149982\n",
      "      1 chr17\t8149115\t8150060\n",
      "      1 chr17\t8149204\t8150156\n",
      "      1 chr17\t8149218\t8150168\n",
      "      1 chr17\t8149267\t8150180\n"
     ]
    }
   ],
   "source": [
    "%%bash\n",
    "FP_WRK=/data/reddylab/Kuei/out/CombEffect_STARR\n",
    "FP_OUT=${FP_WRK}/data/test_split_bed\n",
    "wc -l ${FP_OUT}/cnt_chr17_v1.txt\n",
    "head -5 ${FP_OUT}/cnt_chr17_v1.txt"
   ]
  },
  {
   "cell_type": "code",
   "execution_count": 36,
   "metadata": {},
   "outputs": [
    {
     "name": "stdout",
     "output_type": "stream",
     "text": [
      "0 /data/reddylab/Kuei/out/CombEffect_STARR/data/test_split_bed/cnt_chr17_v2.txt\n"
     ]
    }
   ],
   "source": [
    "%%bash\n",
    "FP_WRK=/data/reddylab/Kuei/out/CombEffect_STARR\n",
    "FP_OUT=${FP_WRK}/data/test_split_bed\n",
    "wc -l ${FP_OUT}/cnt_chr17_v2.txt\n",
    "head -5 ${FP_OUT}/cnt_chr17_v2.txt"
   ]
  },
  {
   "cell_type": "code",
   "execution_count": 13,
   "metadata": {},
   "outputs": [
    {
     "name": "stdout",
     "output_type": "stream",
     "text": [
      "155 /data/reddylab/Kuei/out/CombEffect_STARR/data/test_split_bed/cnt_chr17.txt\n",
      "      1 chr17\t8149040\t8149982\n",
      "      1 chr17\t8149115\t8150060\n",
      "      1 chr17\t8149204\t8150156\n",
      "      1 chr17\t8149218\t8150168\n",
      "      1 chr17\t8149267\t8150180\n"
     ]
    }
   ],
   "source": [
    "%%bash\n",
    "FP_WRK=/data/reddylab/Kuei/out/CombEffect_STARR\n",
    "FP_OUT=${FP_WRK}/data/test_split_bed\n",
    "wc -l ${FP_OUT}/cnt_chr17.txt \n",
    "head -5 ${FP_OUT}/cnt_chr17.txt"
   ]
  },
  {
   "cell_type": "code",
   "execution_count": null,
   "metadata": {},
   "outputs": [],
   "source": []
  }
 ],
 "metadata": {
  "kernelspec": {
   "display_name": "Python 3",
   "language": "python",
   "name": "python3"
  },
  "language_info": {
   "codemirror_mode": {
    "name": "ipython",
    "version": 3
   },
   "file_extension": ".py",
   "mimetype": "text/x-python",
   "name": "python",
   "nbconvert_exporter": "python",
   "pygments_lexer": "ipython3",
   "version": "3.6.12"
  }
 },
 "nbformat": 4,
 "nbformat_minor": 4
}
