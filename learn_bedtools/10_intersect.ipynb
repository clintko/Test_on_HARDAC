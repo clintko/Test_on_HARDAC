{
 "cells": [
  {
   "cell_type": "markdown",
   "metadata": {},
   "source": [
    "**Take a look at the intersect manual**"
   ]
  },
  {
   "cell_type": "code",
   "execution_count": 1,
   "metadata": {},
   "outputs": [],
   "source": [
    "module load bedtools2"
   ]
  },
  {
   "cell_type": "code",
   "execution_count": 15,
   "metadata": {},
   "outputs": [
    {
     "ename": "",
     "evalue": "1",
     "output_type": "error",
     "traceback": []
    }
   ],
   "source": [
    "bedtools intersect -h  >& intersect.log"
   ]
  },
  {
   "cell_type": "code",
   "execution_count": 16,
   "metadata": {},
   "outputs": [
    {
     "name": "stdout",
     "output_type": "stream",
     "text": [
      "\n",
      "Tool:    bedtools intersect (aka intersectBed)\n",
      "Version: v2.25.0\n",
      "Summary: Report overlaps between two feature files.\n",
      "\n",
      "Usage:   bedtools intersect [OPTIONS] -a <bed/gff/vcf/bam> -b <bed/gff/vcf/bam>\n",
      "\n",
      "\tNote: -b may be followed with multiple databases and/or \n",
      "\twildcard (*) character(s). \n",
      "Options: \n",
      "\t-wa\tWrite the original entry in A for each overlap.\n",
      "\n",
      "\t-wb\tWrite the original entry in B for each overlap.\n",
      "\t\t- Useful for knowing _what_ A overlaps. Restricted by -f and -r.\n",
      "\n",
      "\t-loj\tPerform a \"left outer join\". That is, for each feature in A\n",
      "\t\treport each overlap with B.  If no overlaps are found, \n",
      "\t\treport a NULL feature for B.\n",
      "\n",
      "\t-wo\tWrite the original A and B entries plus the number of base\n",
      "\t\tpairs of overlap between the two features.\n",
      "\t\t- Overlaps restricted by -f and -r.\n",
      "\t\t  Only A features with overlap are reported.\n",
      "\n",
      "\t-wao\tWrite the original A and B entries plus the number of base\n",
      "\t\tpairs of overlap between the two features.\n",
      "\t\t- Overlapping features restricted by -f and -r.\n",
      "\t\t  However, A features w/o overlap are also reported\n",
      "\t\t  with a NULL B feature and overlap = 0.\n",
      "\n",
      "\t-u\tWrite the original A entry _once_ if _any_ overlaps found in B.\n",
      "\t\t- In other words, just report the fact >=1 hit was found.\n",
      "\t\t- Overlaps restricted by -f and -r.\n",
      "\n",
      "\t-c\tFor each entry in A, report the number of overlaps with B.\n",
      "\t\t- Reports 0 for A entries that have no overlap with B.\n",
      "\t\t- Overlaps restricted by -f and -r.\n",
      "\n",
      "\t-v\tOnly report those entries in A that have _no overlaps_ with B.\n",
      "\t\t- Similar to \"grep -v\" (an homage).\n",
      "\n",
      "\t-ubam\tWrite uncompressed BAM output. Default writes compressed BAM.\n",
      "\n",
      "\t-s\tRequire same strandedness.  That is, only report hits in B\n",
      "\t\tthat overlap A on the _same_ strand.\n",
      "\t\t- By default, overlaps are reported without respect to strand.\n",
      "\n",
      "\t-S\tRequire different strandedness.  That is, only report hits in B\n",
      "\t\tthat overlap A on the _opposite_ strand.\n",
      "\t\t- By default, overlaps are reported without respect to strand.\n",
      "\n",
      "\t-f\tMinimum overlap required as a fraction of A.\n",
      "\t\t- Default is 1E-9 (i.e., 1bp).\n",
      "\t\t- FLOAT (e.g. 0.50)\n",
      "\n",
      "\t-F\tMinimum overlap required as a fraction of B.\n",
      "\t\t- Default is 1E-9 (i.e., 1bp).\n",
      "\t\t- FLOAT (e.g. 0.50)\n",
      "\n",
      "\t-r\tRequire that the fraction overlap be reciprocal for A AND B.\n",
      "\t\t- In other words, if -f is 0.90 and -r is used, this requires\n",
      "\t\t  that B overlap 90% of A and A _also_ overlaps 90% of B.\n",
      "\n",
      "\t-e\tRequire that the minimum fraction be satisfied for A OR B.\n",
      "\t\t- In other words, if -e is used with -f 0.90 and -F 0.10 this requires\n",
      "\t\t  that either 90% of A is covered OR 10% of  B is covered.\n",
      "\t\t  Without -e, both fractions would have to be satisfied.\n",
      "\n",
      "\t-split\tTreat \"split\" BAM or BED12 entries as distinct BED intervals.\n",
      "\n",
      "\t-g\tProvide a genome file to enforce consistent chromosome sort order\n",
      "\t\tacross input files. Only applies when used with -sorted option.\n",
      "\n",
      "\t-nonamecheck\tFor sorted data, don't throw an error if the file has different naming conventions\n",
      "\t\t\tfor the same chromosome. ex. \"chr1\" vs \"chr01\".\n",
      "\n",
      "\t-sorted\tUse the \"chromsweep\" algorithm for sorted (-k1,1 -k2,2n) input.\n",
      "\n",
      "\t-names\tWhen using multiple databases, provide an alias for each that\n",
      "\t\twill appear instead of a fileId when also printing the DB record.\n",
      "\n",
      "\t-filenames\tWhen using multiple databases, show each complete filename\n",
      "\t\t\tinstead of a fileId when also printing the DB record.\n",
      "\n",
      "\t-sortout\tWhen using multiple databases, sort the output DB hits\n",
      "\t\t\tfor each record.\n",
      "\n",
      "\t-bed\tIf using BAM input, write output as BED.\n",
      "\n",
      "\t-header\tPrint the header from the A file prior to results.\n",
      "\n",
      "\t-nobuf\tDisable buffered output. Using this option will cause each line\n",
      "\t\tof output to be printed as it is generated, rather than saved\n",
      "\t\tin a buffer. This will make printing large output files \n",
      "\t\tnoticeably slower, but can be useful in conjunction with\n",
      "\t\tother software tools and scripts that need to process one\n",
      "\t\tline of bedtools output at a time.\n",
      "\n",
      "\t-iobuf\tSpecify amount of memory to use for input buffer.\n",
      "\t\tTakes an integer argument. Optional suffixes K/M/G supported.\n",
      "\t\tNote: currently has no effect with compressed files.\n",
      "\n",
      "Notes: \n",
      "\t(1) When a BAM file is used for the A file, the alignment is retained if overlaps exist,\n",
      "\tand exlcuded if an overlap cannot be found.  If multiple overlaps exist, they are not\n",
      "\treported, as we are only testing for one or more overlaps.\n",
      "\n"
     ]
    }
   ],
   "source": [
    "cat intersect.log"
   ]
  },
  {
   "cell_type": "code",
   "execution_count": 4,
   "metadata": {},
   "outputs": [],
   "source": [
    "TAB=\"$(printf '\\t')\"\n",
    "\n",
    "cat > A.bed << EOF\n",
    "chr1${TAB}1${TAB}2\n",
    "chr1${TAB}3${TAB}5\n",
    "chr1${TAB}2${TAB}10\n",
    "chr2${TAB}1${TAB}2\n",
    "EOF"
   ]
  },
  {
   "cell_type": "code",
   "execution_count": 5,
   "metadata": {},
   "outputs": [],
   "source": [
    "TAB=\"$(printf '\\t')\"\n",
    "\n",
    "cat > B.bed << EOF\n",
    "chr1${TAB}1${TAB}5\n",
    "chr1${TAB}3${TAB}10\n",
    "chr1${TAB}5${TAB}15\n",
    "EOF"
   ]
  },
  {
   "cell_type": "markdown",
   "metadata": {},
   "source": [
    "## Default Behavior: reports the intervals of each pairwise overlap"
   ]
  },
  {
   "cell_type": "markdown",
   "metadata": {},
   "source": [
    "for regions in chromosome 1\n",
    "```\n",
    "1-2   + 1-5  ===> 1-2\n",
    "1-2   + 3-10 ===> NULL\n",
    "1-2   + 5-15 ===> NULL\n",
    "3-5   + 1-5  ===> 3-5\n",
    "3-5   + 3-10 ===> 3-5\n",
    "3-5   + 5-15 ===> NULL\n",
    "2-10  + 1-5  ===> 2-5\n",
    "2-10  + 3-10 ===> 3-10\n",
    "2-10  + 5-15 ===> 5-10\n",
    "```"
   ]
  },
  {
   "cell_type": "code",
   "execution_count": 6,
   "metadata": {},
   "outputs": [
    {
     "name": "stdout",
     "output_type": "stream",
     "text": [
      "chr1\t1\t2\n",
      "chr1\t3\t5\n",
      "chr1\t3\t5\n",
      "chr1\t2\t5\n",
      "chr1\t3\t10\n",
      "chr1\t5\t10\n"
     ]
    }
   ],
   "source": [
    "bedtools intersect -a A.bed -b B.bed"
   ]
  },
  {
   "cell_type": "markdown",
   "metadata": {},
   "source": [
    "## Reports the original fragments instead of the overlap intervals"
   ]
  },
  {
   "cell_type": "markdown",
   "metadata": {},
   "source": [
    "based on above we already know the overlapped regions include:\n",
    "```\n",
    "1-2   + 1-5  ===> 1-2\n",
    "3-5   + 1-5  ===> 3-5\n",
    "3-5   + 3-10 ===> 3-5\n",
    "2-10  + 1-5  ===> 2-5\n",
    "2-10  + 3-10 ===> 3-10\n",
    "2-10  + 5-15 ===> 5-10\n",
    "```"
   ]
  },
  {
   "cell_type": "markdown",
   "metadata": {},
   "source": [
    "**1. focusing on a**"
   ]
  },
  {
   "cell_type": "code",
   "execution_count": 7,
   "metadata": {},
   "outputs": [
    {
     "name": "stdout",
     "output_type": "stream",
     "text": [
      "chr1\t1\t2\n",
      "chr1\t3\t5\n",
      "chr1\t3\t5\n",
      "chr1\t2\t10\n",
      "chr1\t2\t10\n",
      "chr1\t2\t10\n"
     ]
    }
   ],
   "source": [
    "bedtools intersect -a A.bed -b B.bed -wa"
   ]
  },
  {
   "cell_type": "markdown",
   "metadata": {},
   "source": [
    "**2. focusing on b???**"
   ]
  },
  {
   "cell_type": "code",
   "execution_count": 8,
   "metadata": {},
   "outputs": [
    {
     "name": "stdout",
     "output_type": "stream",
     "text": [
      "chr1\t1\t2\tchr1\t1\t5\n",
      "chr1\t3\t5\tchr1\t1\t5\n",
      "chr1\t3\t5\tchr1\t3\t10\n",
      "chr1\t2\t5\tchr1\t1\t5\n",
      "chr1\t3\t10\tchr1\t3\t10\n",
      "chr1\t5\t10\tchr1\t5\t15\n"
     ]
    }
   ],
   "source": [
    "bedtools intersect -a A.bed -b B.bed -wb"
   ]
  },
  {
   "cell_type": "markdown",
   "metadata": {},
   "source": [
    "**3. Both**"
   ]
  },
  {
   "cell_type": "code",
   "execution_count": 9,
   "metadata": {},
   "outputs": [
    {
     "name": "stdout",
     "output_type": "stream",
     "text": [
      "chr1\t1\t2\tchr1\t1\t5\n",
      "chr1\t3\t5\tchr1\t1\t5\n",
      "chr1\t3\t5\tchr1\t3\t10\n",
      "chr1\t2\t10\tchr1\t1\t5\n",
      "chr1\t2\t10\tchr1\t3\t10\n",
      "chr1\t2\t10\tchr1\t5\t15\n"
     ]
    }
   ],
   "source": [
    "bedtools intersect -a A.bed -b B.bed -wa -wb"
   ]
  },
  {
   "cell_type": "markdown",
   "metadata": {},
   "source": [
    "## Reports the length of overlap intervals"
   ]
  },
  {
   "cell_type": "code",
   "execution_count": 10,
   "metadata": {},
   "outputs": [
    {
     "name": "stdout",
     "output_type": "stream",
     "text": [
      "chr1\t1\t2\tchr1\t1\t5\t1\n",
      "chr1\t3\t5\tchr1\t1\t5\t2\n",
      "chr1\t3\t5\tchr1\t3\t10\t2\n",
      "chr1\t2\t10\tchr1\t1\t5\t3\n",
      "chr1\t2\t10\tchr1\t3\t10\t7\n",
      "chr1\t2\t10\tchr1\t5\t15\t5\n"
     ]
    }
   ],
   "source": [
    "bedtools intersect -a A.bed -b B.bed -wo"
   ]
  },
  {
   "cell_type": "code",
   "execution_count": 11,
   "metadata": {},
   "outputs": [
    {
     "name": "stdout",
     "output_type": "stream",
     "text": [
      "6\n"
     ]
    }
   ],
   "source": [
    "bedtools intersect -a A.bed -b B.bed -wo | wc -l"
   ]
  },
  {
   "cell_type": "markdown",
   "metadata": {},
   "source": [
    "## Count the number of overlaps for regions in A"
   ]
  },
  {
   "cell_type": "code",
   "execution_count": 59,
   "metadata": {},
   "outputs": [
    {
     "name": "stdout",
     "output_type": "stream",
     "text": [
      "chr1\t1\t2\t1\n",
      "chr1\t3\t5\t2\n",
      "chr1\t2\t10\t3\n",
      "chr2\t1\t2\t0\n"
     ]
    }
   ],
   "source": [
    "bedtools intersect -a A.bed -b B.bed -c"
   ]
  },
  {
   "cell_type": "markdown",
   "metadata": {},
   "source": [
    "this is the same as"
   ]
  },
  {
   "cell_type": "code",
   "execution_count": 61,
   "metadata": {},
   "outputs": [
    {
     "name": "stdout",
     "output_type": "stream",
     "text": [
      "      1 chr1\t1\t2\n",
      "      2 chr1\t3\t5\n",
      "      3 chr1\t2\t10\n"
     ]
    }
   ],
   "source": [
    "bedtools intersect -a A.bed -b B.bed -wa | uniq -c"
   ]
  },
  {
   "cell_type": "markdown",
   "metadata": {},
   "source": [
    "## Report regions without overlapping"
   ]
  },
  {
   "cell_type": "code",
   "execution_count": 62,
   "metadata": {},
   "outputs": [
    {
     "name": "stdout",
     "output_type": "stream",
     "text": [
      "chr2\t1\t2\n"
     ]
    }
   ],
   "source": [
    "bedtools intersect -a A.bed -b B.bed -v"
   ]
  },
  {
   "cell_type": "markdown",
   "metadata": {},
   "source": [
    "## Other metric related to overlap: Jaccard index"
   ]
  },
  {
   "cell_type": "markdown",
   "metadata": {},
   "source": [
    "`bedtools jaccard -a A.bed -b B.bed`\n",
    "```\n",
    "Error: Sorted input specified, but the file A.bed has the following out of order record\n",
    "chr1\t2\t10\n",
    "```"
   ]
  },
  {
   "cell_type": "code",
   "execution_count": 67,
   "metadata": {},
   "outputs": [],
   "source": [
    "sort A.bed > A_sort.bed\n",
    "sort B.bed > B_sort.bed"
   ]
  },
  {
   "cell_type": "code",
   "execution_count": 68,
   "metadata": {},
   "outputs": [
    {
     "name": "stdout",
     "output_type": "stream",
     "text": [
      "intersection\tunion-intersection\tjaccard\tn_intersections\n",
      "9\t15\t0.6\t1\n"
     ]
    }
   ],
   "source": [
    "bedtools jaccard -a A_sort.bed -b B_sort.bed"
   ]
  },
  {
   "cell_type": "code",
   "execution_count": null,
   "metadata": {},
   "outputs": [],
   "source": []
  }
 ],
 "metadata": {
  "kernelspec": {
   "display_name": "Bash",
   "language": "bash",
   "name": "bash"
  },
  "language_info": {
   "codemirror_mode": "shell",
   "file_extension": ".sh",
   "mimetype": "text/x-sh",
   "name": "bash"
  }
 },
 "nbformat": 4,
 "nbformat_minor": 4
}
