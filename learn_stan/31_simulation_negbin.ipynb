{
 "cells": [
  {
   "cell_type": "code",
   "execution_count": 1,
   "id": "508f2068-3db4-4add-9a49-f07c059b78e7",
   "metadata": {},
   "outputs": [],
   "source": [
    "suppressMessages(suppressWarnings(library(tidyverse)))"
   ]
  },
  {
   "cell_type": "markdown",
   "id": "a2e547e6-af0f-4a30-aa25-9eedfb7e01f2",
   "metadata": {},
   "source": [
    "https://data.library.virginia.edu/getting-started-with-negative-binomial-regression-modeling/\n",
    "The variance of a negative binomial distribution is a function of its mean and has an additional parameter, k, called the dispersion parameter. Say our count is random variable Y from a negative binomial distribution, then the variance of Y is\n",
    "\n",
    "$$var(Y) = \\mu + \\mu^2 / k$$"
   ]
  },
  {
   "cell_type": "code",
   "execution_count": 2,
   "id": "b2ddc9af-f86a-4572-8d0c-ecfa944efeb1",
   "metadata": {},
   "outputs": [],
   "source": [
    "### let log(var) = 2 * log(mu) + 1\n",
    "get_var = function(x){return(exp(1.2 * log(x) - 1))}\n",
    "\n",
    "### dispersion phi = mu^2 / (var - mu)\n",
    "get_phi = function(m, v){return(m^2 / (v - m))}\n",
    "\n",
    "### generate Y\n",
    "get_Y = function(X, A, B, L, verbose=FALSE){\n",
    "    Y = sapply(seq_len(N), function(i){\n",
    "        ### extract\n",
    "        x = X[i]; a = A[i]; b = B[i]\n",
    "    \n",
    "        ### get mean of NB\n",
    "        m = exp(a + b * x) * L\n",
    "    \n",
    "        ### get variance\n",
    "        v = get_var(m)\n",
    "    \n",
    "        ### get dispersion from mean and variance\n",
    "        phi = get_phi(m, v)\n",
    "        \n",
    "        if(verbose){\n",
    "            cat(round(m,   digits = 2), \n",
    "                round(v,   digits = 2), \n",
    "                round(phi, digits = 2), \"\\n\")\n",
    "        }\n",
    "    \n",
    "        ### generate a value from NB with mean 'm' and variance 'v'\n",
    "        y = MASS::rnegbin(n=1, mu=m, theta=phi)\n",
    "        return(y)\n",
    "    })   \n",
    "    return(Y)\n",
    "}"
   ]
  },
  {
   "cell_type": "code",
   "execution_count": 10,
   "id": "9f681e41-bc9b-4d03-ad6f-f1a1e3b28484",
   "metadata": {},
   "outputs": [
    {
     "data": {
      "text/html": [
       "1.2"
      ],
      "text/latex": [
       "1.2"
      ],
      "text/markdown": [
       "1.2"
      ],
      "text/plain": [
       "[1] 1.2"
      ]
     },
     "metadata": {},
     "output_type": "display_data"
    }
   ],
   "source": [
    "exp(-10.31 + log(1.2)) / exp(-10.31)"
   ]
  },
  {
   "cell_type": "code",
   "execution_count": 11,
   "id": "93682808-12d5-4eab-8efa-1b668be494a0",
   "metadata": {},
   "outputs": [
    {
     "data": {
      "text/html": [
       "0.0399581283565092"
      ],
      "text/latex": [
       "0.0399581283565092"
      ],
      "text/markdown": [
       "0.0399581283565092"
      ],
      "text/plain": [
       "[1] 0.03995813"
      ]
     },
     "metadata": {},
     "output_type": "display_data"
    }
   ],
   "source": [
    "exp(-10.31 + log(1.2)) * 1000"
   ]
  },
  {
   "cell_type": "code",
   "execution_count": null,
   "id": "0b777cad-5ddc-48d4-934e-efb8814817ea",
   "metadata": {},
   "outputs": [],
   "source": [
    "### generate Y\n",
    "Ys = lapply(1:n_points, function(idx){     \n",
    "    print(\"hello\")\n",
    "    Y = get_Y(X, A, B, L, verbose=TRUE)\n",
    "    #Y = get_Y(X, A, B, L, verbose=FALSE)\n",
    "    #Y = suppressWarnings(get_Y(X, A, B, L, verbose=FALSE))\n",
    "    return(Y)\n",
    "})"
   ]
  },
  {
   "cell_type": "code",
   "execution_count": 28,
   "id": "7caafe69-8132-412b-a614-e73b63146915",
   "metadata": {},
   "outputs": [
    {
     "data": {
      "text/html": [
       "30031436.6402129"
      ],
      "text/latex": [
       "30031436.6402129"
      ],
      "text/markdown": [
       "30031436.6402129"
      ],
      "text/plain": [
       "[1] 30031437"
      ]
     },
     "metadata": {},
     "output_type": "display_data"
    }
   ],
   "source": [
    "1200/exp(-10.31 + log(1.2))"
   ]
  },
  {
   "cell_type": "code",
   "execution_count": 40,
   "id": "b6bad67f-8be3-40cf-94ff-bbb3daacf1a1",
   "metadata": {},
   "outputs": [],
   "source": [
    "set.seed(123)\n",
    "\n",
    "n   = 10\n",
    "N   = n * 2\n",
    "s_a = 1\n",
    "s_b = 1\n",
    "n_points = 1000\n",
    "L   = 30031436\n",
    "\n",
    "### generate alpha and beta\n",
    "A = rnorm(N, mean=-10.31,   sd=s_a^0.5)\n",
    "B = rnorm(N, mean=log(1.2), sd=s_b^0.5)\n",
    "\n",
    "### generate X\n",
    "X = c(rep(0, n), rep(1, n))\n",
    "\n",
    "\n",
    "### generate Y\n",
    "#Y = get_Y(X, A, B, L, verbose=TRUE)\n",
    "Ys = lapply(1:n_points, function(idx){     \n",
    "    #print(\"hello\")\n",
    "    #Y = get_Y(X, A, B, L, verbose=TRUE)\n",
    "    Y = get_Y(X, A, B, L, verbose=FALSE)\n",
    "    #Y = suppressWarnings(get_Y(X, A, B, L, verbose=FALSE))\n",
    "    return(Y)\n",
    "})"
   ]
  },
  {
   "cell_type": "code",
   "execution_count": 34,
   "id": "6cfd37d1-502a-4f1b-afef-f5d3d7c63905",
   "metadata": {},
   "outputs": [
    {
     "data": {
      "text/html": [
       "20"
      ],
      "text/latex": [
       "20"
      ],
      "text/markdown": [
       "20"
      ],
      "text/plain": [
       "[1] 20"
      ]
     },
     "metadata": {},
     "output_type": "display_data"
    }
   ],
   "source": [
    "length(Ys[[1]])"
   ]
  },
  {
   "cell_type": "code",
   "execution_count": 35,
   "id": "ba4171e9-a97b-444d-9e27-7ab4666dfd7d",
   "metadata": {},
   "outputs": [
    {
     "name": "stdout",
     "output_type": "stream",
     "text": [
      "[1] 1000   20\n"
     ]
    },
    {
     "data": {
      "text/html": [
       "<table>\n",
       "<tbody>\n",
       "\t<tr><td>580  </td><td>825  </td><td>4702 </td><td>1049 </td><td>1126 </td><td>5645 </td><td>1592 </td><td>286  </td><td>496  </td><td>637  </td><td>6312 </td><td>1314 </td><td>4486 </td><td>3138 </td><td>1583 </td><td>14186</td><td>3405 </td><td>147  </td><td>1839 </td><td>508  </td></tr>\n",
       "\t<tr><td>561  </td><td>780  </td><td>4809 </td><td>1100 </td><td>1202 </td><td>5647 </td><td>1566 </td><td>286  </td><td>487  </td><td>640  </td><td>6318 </td><td>1259 </td><td>4504 </td><td>3266 </td><td>1657 </td><td>14261</td><td>3382 </td><td>174  </td><td>1846 </td><td>531  </td></tr>\n",
       "\t<tr><td>566  </td><td>812  </td><td>4715 </td><td> 995 </td><td>1225 </td><td>5284 </td><td>1555 </td><td>291  </td><td>482  </td><td>628  </td><td>6067 </td><td>1248 </td><td>4541 </td><td>3161 </td><td>1513 </td><td>14174</td><td>3359 </td><td>130  </td><td>1770 </td><td>508  </td></tr>\n",
       "\t<tr><td>597  </td><td>802  </td><td>4932 </td><td>1003 </td><td>1236 </td><td>5432 </td><td>1570 </td><td>275  </td><td>509  </td><td>645  </td><td>6355 </td><td>1362 </td><td>4344 </td><td>3214 </td><td>1538 </td><td>14240</td><td>3366 </td><td>149  </td><td>1842 </td><td>491  </td></tr>\n",
       "\t<tr><td>594  </td><td>768  </td><td>4558 </td><td>1023 </td><td>1107 </td><td>5673 </td><td>1572 </td><td>281  </td><td>532  </td><td>714  </td><td>6290 </td><td>1283 </td><td>4493 </td><td>3136 </td><td>1573 </td><td>14330</td><td>3295 </td><td>172  </td><td>1818 </td><td>507  </td></tr>\n",
       "\t<tr><td>574  </td><td>789  </td><td>4553 </td><td>1039 </td><td>1091 </td><td>5382 </td><td>1637 </td><td>284  </td><td>505  </td><td>630  </td><td>6258 </td><td>1329 </td><td>4208 </td><td>3257 </td><td>1534 </td><td>14271</td><td>3378 </td><td>147  </td><td>1806 </td><td>545  </td></tr>\n",
       "</tbody>\n",
       "</table>\n"
      ],
      "text/latex": [
       "\\begin{tabular}{llllllllllllllllllll}\n",
       "\t 580   & 825   & 4702  & 1049  & 1126  & 5645  & 1592  & 286   & 496   & 637   & 6312  & 1314  & 4486  & 3138  & 1583  & 14186 & 3405  & 147   & 1839  & 508  \\\\\n",
       "\t 561   & 780   & 4809  & 1100  & 1202  & 5647  & 1566  & 286   & 487   & 640   & 6318  & 1259  & 4504  & 3266  & 1657  & 14261 & 3382  & 174   & 1846  & 531  \\\\\n",
       "\t 566   & 812   & 4715  &  995  & 1225  & 5284  & 1555  & 291   & 482   & 628   & 6067  & 1248  & 4541  & 3161  & 1513  & 14174 & 3359  & 130   & 1770  & 508  \\\\\n",
       "\t 597   & 802   & 4932  & 1003  & 1236  & 5432  & 1570  & 275   & 509   & 645   & 6355  & 1362  & 4344  & 3214  & 1538  & 14240 & 3366  & 149   & 1842  & 491  \\\\\n",
       "\t 594   & 768   & 4558  & 1023  & 1107  & 5673  & 1572  & 281   & 532   & 714   & 6290  & 1283  & 4493  & 3136  & 1573  & 14330 & 3295  & 172   & 1818  & 507  \\\\\n",
       "\t 574   & 789   & 4553  & 1039  & 1091  & 5382  & 1637  & 284   & 505   & 630   & 6258  & 1329  & 4208  & 3257  & 1534  & 14271 & 3378  & 147   & 1806  & 545  \\\\\n",
       "\\end{tabular}\n"
      ],
      "text/markdown": [
       "\n",
       "| 580   | 825   | 4702  | 1049  | 1126  | 5645  | 1592  | 286   | 496   | 637   | 6312  | 1314  | 4486  | 3138  | 1583  | 14186 | 3405  | 147   | 1839  | 508   |\n",
       "| 561   | 780   | 4809  | 1100  | 1202  | 5647  | 1566  | 286   | 487   | 640   | 6318  | 1259  | 4504  | 3266  | 1657  | 14261 | 3382  | 174   | 1846  | 531   |\n",
       "| 566   | 812   | 4715  |  995  | 1225  | 5284  | 1555  | 291   | 482   | 628   | 6067  | 1248  | 4541  | 3161  | 1513  | 14174 | 3359  | 130   | 1770  | 508   |\n",
       "| 597   | 802   | 4932  | 1003  | 1236  | 5432  | 1570  | 275   | 509   | 645   | 6355  | 1362  | 4344  | 3214  | 1538  | 14240 | 3366  | 149   | 1842  | 491   |\n",
       "| 594   | 768   | 4558  | 1023  | 1107  | 5673  | 1572  | 281   | 532   | 714   | 6290  | 1283  | 4493  | 3136  | 1573  | 14330 | 3295  | 172   | 1818  | 507   |\n",
       "| 574   | 789   | 4553  | 1039  | 1091  | 5382  | 1637  | 284   | 505   | 630   | 6258  | 1329  | 4208  | 3257  | 1534  | 14271 | 3378  | 147   | 1806  | 545   |\n",
       "\n"
      ],
      "text/plain": [
       "     [,1] [,2] [,3] [,4] [,5] [,6] [,7] [,8] [,9] [,10] [,11] [,12] [,13] [,14]\n",
       "[1,] 580  825  4702 1049 1126 5645 1592 286  496  637   6312  1314  4486  3138 \n",
       "[2,] 561  780  4809 1100 1202 5647 1566 286  487  640   6318  1259  4504  3266 \n",
       "[3,] 566  812  4715  995 1225 5284 1555 291  482  628   6067  1248  4541  3161 \n",
       "[4,] 597  802  4932 1003 1236 5432 1570 275  509  645   6355  1362  4344  3214 \n",
       "[5,] 594  768  4558 1023 1107 5673 1572 281  532  714   6290  1283  4493  3136 \n",
       "[6,] 574  789  4553 1039 1091 5382 1637 284  505  630   6258  1329  4208  3257 \n",
       "     [,15] [,16] [,17] [,18] [,19] [,20]\n",
       "[1,] 1583  14186 3405  147   1839  508  \n",
       "[2,] 1657  14261 3382  174   1846  531  \n",
       "[3,] 1513  14174 3359  130   1770  508  \n",
       "[4,] 1538  14240 3366  149   1842  491  \n",
       "[5,] 1573  14330 3295  172   1818  507  \n",
       "[6,] 1534  14271 3378  147   1806  545  "
      ]
     },
     "metadata": {},
     "output_type": "display_data"
    }
   ],
   "source": [
    "dat = do.call(rbind, Ys)\n",
    "print(dim(dat))\n",
    "head(dat)"
   ]
  },
  {
   "cell_type": "markdown",
   "id": "5792565e-8ea4-4f51-a9e1-3fac8ab806e9",
   "metadata": {},
   "source": [
    "https://stackoverflow.com/questions/25099825/row-wise-variance-of-a-matrix-in-r"
   ]
  },
  {
   "cell_type": "code",
   "execution_count": 36,
   "id": "bd7a2eac-0ec4-4e37-9df7-7abda7a19868",
   "metadata": {},
   "outputs": [],
   "source": [
    "rowVars <- function(x, ...) {\n",
    "  rowSums((x - rowMeans(x, ...))^2, ...)/(dim(x)[2] - 1)\n",
    "}"
   ]
  },
  {
   "cell_type": "code",
   "execution_count": 37,
   "id": "5e51a861-beba-4f25-8d49-1e7cc91e2cb1",
   "metadata": {},
   "outputs": [
    {
     "name": "stdout",
     "output_type": "stream",
     "text": [
      "[1] 1000   24\n"
     ]
    },
    {
     "data": {
      "text/html": [
       "<table>\n",
       "<thead><tr><th scope=col>V1</th><th scope=col>V2</th><th scope=col>V3</th><th scope=col>V4</th><th scope=col>V5</th><th scope=col>V6</th><th scope=col>V7</th><th scope=col>V8</th><th scope=col>V9</th><th scope=col>V10</th><th scope=col>...</th><th scope=col>V15</th><th scope=col>V16</th><th scope=col>V17</th><th scope=col>V18</th><th scope=col>V19</th><th scope=col>V20</th><th scope=col>Mean</th><th scope=col>Var</th><th scope=col>log10mu</th><th scope=col>log10var</th></tr></thead>\n",
       "<tbody>\n",
       "\t<tr><td>580     </td><td>825     </td><td>4702    </td><td>1049    </td><td>1126    </td><td>5645    </td><td>1592    </td><td>286     </td><td>496     </td><td>637     </td><td>...     </td><td>1583    </td><td>14186   </td><td>3405    </td><td>147     </td><td>1839    </td><td>508     </td><td>2692.80 </td><td>10849896</td><td>3.430204</td><td>7.035426</td></tr>\n",
       "\t<tr><td>561     </td><td>780     </td><td>4809    </td><td>1100    </td><td>1202    </td><td>5647    </td><td>1566    </td><td>286     </td><td>487     </td><td>640     </td><td>...     </td><td>1657    </td><td>14261   </td><td>3382    </td><td>174     </td><td>1846    </td><td>531     </td><td>2713.80 </td><td>10958650</td><td>3.433578</td><td>7.039757</td></tr>\n",
       "\t<tr><td>566     </td><td>812     </td><td>4715    </td><td> 995    </td><td>1225    </td><td>5284    </td><td>1555    </td><td>291     </td><td>482     </td><td>628     </td><td>...     </td><td>1513    </td><td>14174   </td><td>3359    </td><td>130     </td><td>1770    </td><td>508     </td><td>2651.20 </td><td>10686063</td><td>3.423442</td><td>7.028818</td></tr>\n",
       "\t<tr><td>597     </td><td>802     </td><td>4932    </td><td>1003    </td><td>1236    </td><td>5432    </td><td>1570    </td><td>275     </td><td>509     </td><td>645     </td><td>...     </td><td>1538    </td><td>14240   </td><td>3366    </td><td>149     </td><td>1842    </td><td>491     </td><td>2695.10 </td><td>10888388</td><td>3.430575</td><td>7.036964</td></tr>\n",
       "\t<tr><td>594     </td><td>768     </td><td>4558    </td><td>1023    </td><td>1107    </td><td>5673    </td><td>1572    </td><td>281     </td><td>532     </td><td>714     </td><td>...     </td><td>1573    </td><td>14330   </td><td>3295    </td><td>172     </td><td>1818    </td><td>507     </td><td>2685.95 </td><td>10985952</td><td>3.429098</td><td>7.040838</td></tr>\n",
       "\t<tr><td>574     </td><td>789     </td><td>4553    </td><td>1039    </td><td>1091    </td><td>5382    </td><td>1637    </td><td>284     </td><td>505     </td><td>630     </td><td>...     </td><td>1534    </td><td>14271   </td><td>3378    </td><td>147     </td><td>1806    </td><td>545     </td><td>2660.85 </td><td>10788279</td><td>3.425020</td><td>7.032952</td></tr>\n",
       "</tbody>\n",
       "</table>\n"
      ],
      "text/latex": [
       "\\begin{tabular}{r|llllllllllllllllllllllll}\n",
       " V1 & V2 & V3 & V4 & V5 & V6 & V7 & V8 & V9 & V10 & ... & V15 & V16 & V17 & V18 & V19 & V20 & Mean & Var & log10mu & log10var\\\\\n",
       "\\hline\n",
       "\t 580      & 825      & 4702     & 1049     & 1126     & 5645     & 1592     & 286      & 496      & 637      & ...      & 1583     & 14186    & 3405     & 147      & 1839     & 508      & 2692.80  & 10849896 & 3.430204 & 7.035426\\\\\n",
       "\t 561      & 780      & 4809     & 1100     & 1202     & 5647     & 1566     & 286      & 487      & 640      & ...      & 1657     & 14261    & 3382     & 174      & 1846     & 531      & 2713.80  & 10958650 & 3.433578 & 7.039757\\\\\n",
       "\t 566      & 812      & 4715     &  995     & 1225     & 5284     & 1555     & 291      & 482      & 628      & ...      & 1513     & 14174    & 3359     & 130      & 1770     & 508      & 2651.20  & 10686063 & 3.423442 & 7.028818\\\\\n",
       "\t 597      & 802      & 4932     & 1003     & 1236     & 5432     & 1570     & 275      & 509      & 645      & ...      & 1538     & 14240    & 3366     & 149      & 1842     & 491      & 2695.10  & 10888388 & 3.430575 & 7.036964\\\\\n",
       "\t 594      & 768      & 4558     & 1023     & 1107     & 5673     & 1572     & 281      & 532      & 714      & ...      & 1573     & 14330    & 3295     & 172      & 1818     & 507      & 2685.95  & 10985952 & 3.429098 & 7.040838\\\\\n",
       "\t 574      & 789      & 4553     & 1039     & 1091     & 5382     & 1637     & 284      & 505      & 630      & ...      & 1534     & 14271    & 3378     & 147      & 1806     & 545      & 2660.85  & 10788279 & 3.425020 & 7.032952\\\\\n",
       "\\end{tabular}\n"
      ],
      "text/markdown": [
       "\n",
       "| V1 | V2 | V3 | V4 | V5 | V6 | V7 | V8 | V9 | V10 | ... | V15 | V16 | V17 | V18 | V19 | V20 | Mean | Var | log10mu | log10var |\n",
       "|---|---|---|---|---|---|---|---|---|---|---|---|---|---|---|---|---|---|---|---|---|\n",
       "| 580      | 825      | 4702     | 1049     | 1126     | 5645     | 1592     | 286      | 496      | 637      | ...      | 1583     | 14186    | 3405     | 147      | 1839     | 508      | 2692.80  | 10849896 | 3.430204 | 7.035426 |\n",
       "| 561      | 780      | 4809     | 1100     | 1202     | 5647     | 1566     | 286      | 487      | 640      | ...      | 1657     | 14261    | 3382     | 174      | 1846     | 531      | 2713.80  | 10958650 | 3.433578 | 7.039757 |\n",
       "| 566      | 812      | 4715     |  995     | 1225     | 5284     | 1555     | 291      | 482      | 628      | ...      | 1513     | 14174    | 3359     | 130      | 1770     | 508      | 2651.20  | 10686063 | 3.423442 | 7.028818 |\n",
       "| 597      | 802      | 4932     | 1003     | 1236     | 5432     | 1570     | 275      | 509      | 645      | ...      | 1538     | 14240    | 3366     | 149      | 1842     | 491      | 2695.10  | 10888388 | 3.430575 | 7.036964 |\n",
       "| 594      | 768      | 4558     | 1023     | 1107     | 5673     | 1572     | 281      | 532      | 714      | ...      | 1573     | 14330    | 3295     | 172      | 1818     | 507      | 2685.95  | 10985952 | 3.429098 | 7.040838 |\n",
       "| 574      | 789      | 4553     | 1039     | 1091     | 5382     | 1637     | 284      | 505      | 630      | ...      | 1534     | 14271    | 3378     | 147      | 1806     | 545      | 2660.85  | 10788279 | 3.425020 | 7.032952 |\n",
       "\n"
      ],
      "text/plain": [
       "  V1  V2  V3   V4   V5   V6   V7   V8  V9  V10 ... V15  V16   V17  V18 V19  V20\n",
       "1 580 825 4702 1049 1126 5645 1592 286 496 637 ... 1583 14186 3405 147 1839 508\n",
       "2 561 780 4809 1100 1202 5647 1566 286 487 640 ... 1657 14261 3382 174 1846 531\n",
       "3 566 812 4715  995 1225 5284 1555 291 482 628 ... 1513 14174 3359 130 1770 508\n",
       "4 597 802 4932 1003 1236 5432 1570 275 509 645 ... 1538 14240 3366 149 1842 491\n",
       "5 594 768 4558 1023 1107 5673 1572 281 532 714 ... 1573 14330 3295 172 1818 507\n",
       "6 574 789 4553 1039 1091 5382 1637 284 505 630 ... 1534 14271 3378 147 1806 545\n",
       "  Mean    Var      log10mu  log10var\n",
       "1 2692.80 10849896 3.430204 7.035426\n",
       "2 2713.80 10958650 3.433578 7.039757\n",
       "3 2651.20 10686063 3.423442 7.028818\n",
       "4 2695.10 10888388 3.430575 7.036964\n",
       "5 2685.95 10985952 3.429098 7.040838\n",
       "6 2660.85 10788279 3.425020 7.032952"
      ]
     },
     "metadata": {},
     "output_type": "display_data"
    }
   ],
   "source": [
    "dat = do.call(rbind, Ys)\n",
    "dat = dat %>% \n",
    "    as.data.frame %>% \n",
    "    na.omit %>%\n",
    "    mutate(Mean = rowMeans(.), \n",
    "           Var  = rowVars(.)) %>%\n",
    "    mutate(\n",
    "        log10mu  = log10(Mean), \n",
    "        log10var = log10(Var)\n",
    "    ) \n",
    "\n",
    "###\n",
    "print(dim(dat))\n",
    "head(dat)"
   ]
  },
  {
   "cell_type": "code",
   "execution_count": 38,
   "id": "18f21ef6-c05b-4a6f-8d83-425f3aa866da",
   "metadata": {},
   "outputs": [
    {
     "data": {
      "image/png": "[encoded data removed]",
      "text/plain": [
       "plot without title"
      ]
     },
     "metadata": {},
     "output_type": "display_data"
    }
   ],
   "source": [
    "options(repr.plot.height=4, repr.plot.width=4)\n",
    "ggplot(dat, aes(x=log10mu, y=log10var)) + \n",
    "    geom_point(size=0.1) + \n",
    "    geom_abline(slope = 1) +\n",
    "    \n",
    "    theme_bw()"
   ]
  },
  {
   "cell_type": "code",
   "execution_count": 244,
   "id": "7d3ec1ce-beac-448b-b7b0-530cef4f2898",
   "metadata": {},
   "outputs": [
    {
     "data": {
      "text/html": [
       "22026.4657948067"
      ],
      "text/latex": [
       "22026.4657948067"
      ],
      "text/markdown": [
       "22026.4657948067"
      ],
      "text/plain": [
       "[1] 22026.47"
      ]
     },
     "metadata": {},
     "output_type": "display_data"
    }
   ],
   "source": [
    "exp(10)"
   ]
  },
  {
   "cell_type": "code",
   "execution_count": null,
   "id": "3fde85aa-6bfb-4e71-9448-8fe4138d6bc9",
   "metadata": {},
   "outputs": [],
   "source": []
  },
  {
   "cell_type": "code",
   "execution_count": null,
   "id": "274ae4cc-4ead-4764-b52e-bbdd84ab0b86",
   "metadata": {},
   "outputs": [],
   "source": []
  },
  {
   "cell_type": "code",
   "execution_count": null,
   "id": "d54f85ea-ecbe-4ed7-b1c8-3d814ec43c81",
   "metadata": {},
   "outputs": [],
   "source": [
    "### let log(var) = 2 * log(mu) + 1\n",
    "get_var = function(x){return(exp(1.2 * log(x) - 1))}\n",
    "\n",
    "### dispersion phi = mu^2 / (var - mu)\n",
    "get_phi = function(m, v){return(m^2 / (v - m))}"
   ]
  },
  {
   "cell_type": "code",
   "execution_count": 15,
   "id": "785220e0-dd96-459f-8182-efe15f6faaff",
   "metadata": {},
   "outputs": [],
   "source": [
    "alpha_true = -10.31\n",
    "beta_true  = log(1.2)\n",
    "\n",
    "m0 = 1000\n",
    "m1 = 1200\n",
    "\n",
    "v0 = 3687\n",
    "v1 = 4109"
   ]
  },
  {
   "cell_type": "code",
   "execution_count": 17,
   "id": "9d7d6400-1f6c-4e01-b0f7-f6a36aa16dab",
   "metadata": {},
   "outputs": [],
   "source": [
    "phi0 = get_phi(m0, v0)\n",
    "phi1 = get_phi(m1, v1)\n",
    "\n",
    "y0 = MASS::rnegbin(n=10, mu=m0, theta=phi0)\n",
    "y1 = MASS::rnegbin(n=10, mu=m1, theta=phi1)"
   ]
  },
  {
   "cell_type": "code",
   "execution_count": 18,
   "id": "aaadb339-d2c4-4c12-893e-281f9a3ac081",
   "metadata": {},
   "outputs": [
    {
     "data": {
      "text/html": [
       "<ol class=list-inline>\n",
       "\t<li>969</li>\n",
       "\t<li>1002</li>\n",
       "\t<li>978</li>\n",
       "\t<li>1052</li>\n",
       "\t<li>1000</li>\n",
       "\t<li>967</li>\n",
       "\t<li>934</li>\n",
       "\t<li>977</li>\n",
       "\t<li>1021</li>\n",
       "\t<li>956</li>\n",
       "</ol>\n"
      ],
      "text/latex": [
       "\\begin{enumerate*}\n",
       "\\item 969\n",
       "\\item 1002\n",
       "\\item 978\n",
       "\\item 1052\n",
       "\\item 1000\n",
       "\\item 967\n",
       "\\item 934\n",
       "\\item 977\n",
       "\\item 1021\n",
       "\\item 956\n",
       "\\end{enumerate*}\n"
      ],
      "text/markdown": [
       "1. 969\n",
       "2. 1002\n",
       "3. 978\n",
       "4. 1052\n",
       "5. 1000\n",
       "6. 967\n",
       "7. 934\n",
       "8. 977\n",
       "9. 1021\n",
       "10. 956\n",
       "\n",
       "\n"
      ],
      "text/plain": [
       " [1]  969 1002  978 1052 1000  967  934  977 1021  956"
      ]
     },
     "metadata": {},
     "output_type": "display_data"
    }
   ],
   "source": [
    "y0"
   ]
  },
  {
   "cell_type": "code",
   "execution_count": 19,
   "id": "13836e5c-8979-48d9-8eff-c51256f6574b",
   "metadata": {},
   "outputs": [
    {
     "data": {
      "text/html": [
       "<ol class=list-inline>\n",
       "\t<li>1233</li>\n",
       "\t<li>1134</li>\n",
       "\t<li>1268</li>\n",
       "\t<li>1129</li>\n",
       "\t<li>1206</li>\n",
       "\t<li>1229</li>\n",
       "\t<li>1144</li>\n",
       "\t<li>1147</li>\n",
       "\t<li>1211</li>\n",
       "\t<li>1193</li>\n",
       "</ol>\n"
      ],
      "text/latex": [
       "\\begin{enumerate*}\n",
       "\\item 1233\n",
       "\\item 1134\n",
       "\\item 1268\n",
       "\\item 1129\n",
       "\\item 1206\n",
       "\\item 1229\n",
       "\\item 1144\n",
       "\\item 1147\n",
       "\\item 1211\n",
       "\\item 1193\n",
       "\\end{enumerate*}\n"
      ],
      "text/markdown": [
       "1. 1233\n",
       "2. 1134\n",
       "3. 1268\n",
       "4. 1129\n",
       "5. 1206\n",
       "6. 1229\n",
       "7. 1144\n",
       "8. 1147\n",
       "9. 1211\n",
       "10. 1193\n",
       "\n",
       "\n"
      ],
      "text/plain": [
       " [1] 1233 1134 1268 1129 1206 1229 1144 1147 1211 1193"
      ]
     },
     "metadata": {},
     "output_type": "display_data"
    }
   ],
   "source": [
    "y1"
   ]
  },
  {
   "cell_type": "code",
   "execution_count": 25,
   "id": "63e22176-c965-4622-b057-2c8094ca5797",
   "metadata": {},
   "outputs": [
    {
     "data": {
      "image/png": "[encoded data removed]",
      "text/plain": [
       "Plot with title “density.default(x = y0)”"
      ]
     },
     "metadata": {},
     "output_type": "display_data"
    }
   ],
   "source": [
    "y0 = MASS::rnegbin(n=100, mu=m0, theta=phi0)\n",
    "y1 = MASS::rnegbin(n=100, mu=m1, theta=phi1)\n",
    "\n",
    "plot(density(y0), xlim = c(800, 1400))\n",
    "lines(density(y1))"
   ]
  },
  {
   "cell_type": "code",
   "execution_count": null,
   "id": "4ddbdc7d-7c26-45b3-ae1c-90c0ebbb9b73",
   "metadata": {},
   "outputs": [],
   "source": []
  },
  {
   "cell_type": "code",
   "execution_count": 26,
   "id": "ae09ba7d-1719-44ca-a446-29ffc9b18550",
   "metadata": {},
   "outputs": [
    {
     "data": {
      "text/html": [
       "30031436.6402129"
      ],
      "text/latex": [
       "30031436.6402129"
      ],
      "text/markdown": [
       "30031436.6402129"
      ],
      "text/plain": [
       "[1] 30031437"
      ]
     },
     "metadata": {},
     "output_type": "display_data"
    }
   ],
   "source": [
    "1000/exp(-10.31)"
   ]
  },
  {
   "cell_type": "code",
   "execution_count": null,
   "id": "c5bc7f0c-442a-436d-8bae-a56da3edbae5",
   "metadata": {},
   "outputs": [],
   "source": []
  }
 ],
 "metadata": {
  "kernelspec": {
   "display_name": "R",
   "language": "R",
   "name": "ir"
  },
  "language_info": {
   "codemirror_mode": "r",
   "file_extension": ".r",
   "mimetype": "text/x-r-source",
   "name": "R",
   "pygments_lexer": "r",
   "version": "3.6.1"
  }
 },
 "nbformat": 4,
 "nbformat_minor": 5
}
