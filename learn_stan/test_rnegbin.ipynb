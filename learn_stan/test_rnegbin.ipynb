{
 "cells": [
  {
   "cell_type": "code",
   "execution_count": 2,
   "id": "0ec5c52f-c7cb-410b-b076-b68439800171",
   "metadata": {},
   "outputs": [
    {
     "name": "stderr",
     "output_type": "stream",
     "text": [
      "Registered S3 methods overwritten by 'ggplot2':\n",
      "  method         from \n",
      "  [.quosures     rlang\n",
      "  c.quosures     rlang\n",
      "  print.quosures rlang\n"
     ]
    }
   ],
   "source": [
    "library(ggplot2)"
   ]
  },
  {
   "cell_type": "markdown",
   "id": "7ed44200-5433-4a2d-8408-d838947fe4df",
   "metadata": {},
   "source": [
    "[rnegbin {MASS}](https://stat.ethz.ch/R-manual/R-devel/library/MASS/html/rnegbin.html)\n",
    "\n",
    "Function to generate random outcomes from a Negative Binomial distribution, with mean mu and variance mu + mu^2/theta.\n",
    "\n",
    "`rnegbin(n, mu = n, theta = stop(\"'theta' must be specified\"))`\n",
    "\n",
    "```\n",
    "Arguments\n",
    "n\n",
    "If a scalar, the number of sample values required. If a vector, length(n) is the number required and n is used as the mean vector if mu is not specified.\n",
    "\n",
    "mu\n",
    "The vector of means. Short vectors are recycled.\n",
    "\n",
    "theta\n",
    "Vector of values of the theta parameter. Short vectors are recycled.\n",
    "\n",
    "Details\n",
    "The function uses the representation of the Negative Binomial distribution as a continuous mixture of Poisson distributions with Gamma distributed means. Unlike rnbinom the index can be arbitrary.\n",
    "\n",
    "Value\n",
    "Vector of random Negative Binomial variate values.\n",
    "\n",
    "Side Effects\n",
    "Changes .Random.seed in the usual way.\n",
    "\n",
    "Examples\n",
    "# Negative Binomials with means fitted(fm) and theta = 4.5\n",
    "fm <- glm.nb(Days ~ ., data = quine)\n",
    "dummy <- rnegbin(fitted(fm), theta = 4.5)\n",
    "```"
   ]
  },
  {
   "cell_type": "markdown",
   "id": "45b9bb46-63f9-44ab-8cb6-2201c56c0065",
   "metadata": {},
   "source": [
    "Note: more info\n",
    "- [ZERO-INFLATED NEGATIVE BINOMIAL REGRESSION | R DATA ANALYSIS EXAMPLES](https://stats.idre.ucla.edu/r/dae/zinb/)"
   ]
  },
  {
   "cell_type": "markdown",
   "id": "e3b2e3b2-fbe8-41b2-84ec-fd2828d08799",
   "metadata": {},
   "source": [
    "```\n",
    "var = mu + mu^2/theta\n",
    "=> mu^2/theta = var - mu\n",
    "=> mu^2/(var - mu) = theta\n",
    "```"
   ]
  },
  {
   "cell_type": "code",
   "execution_count": 4,
   "id": "3a09fdbc-b008-4e83-97e9-bdd0ad8d262f",
   "metadata": {},
   "outputs": [
    {
     "name": "stdout",
     "output_type": "stream",
     "text": [
      "[1] 1.074349\n"
     ]
    }
   ],
   "source": [
    "m = 17\n",
    "v = 286\n",
    "theta = m^2 / (v - m)\n",
    "print(theta)"
   ]
  },
  {
   "cell_type": "code",
   "execution_count": 5,
   "id": "ff0cd58f-d56d-48cf-8897-2e0347439dea",
   "metadata": {},
   "outputs": [
    {
     "data": {
      "text/html": [
       "286"
      ],
      "text/latex": [
       "286"
      ],
      "text/markdown": [
       "286"
      ],
      "text/plain": [
       "[1] 286"
      ]
     },
     "metadata": {},
     "output_type": "display_data"
    }
   ],
   "source": [
    "m + m^2 / theta"
   ]
  },
  {
   "cell_type": "code",
   "execution_count": 9,
   "id": "4ba86f23-208f-4894-aa8f-04da7e4f9cf9",
   "metadata": {},
   "outputs": [],
   "source": [
    "n = 1000\n",
    "x = MASS::rnegbin(n, mu=m, theta=theta)"
   ]
  },
  {
   "cell_type": "code",
   "execution_count": 10,
   "id": "c69762f3-aeab-43ed-b8d5-079dd9ff63fe",
   "metadata": {},
   "outputs": [
    {
     "data": {
      "image/png": "[encoded data removed]",
      "text/plain": [
       "plot without title"
      ]
     },
     "metadata": {},
     "output_type": "display_data"
    }
   ],
   "source": [
    "options(repr.plot.height=3, repr.plot.width=6)\n",
    "qplot(x, binwidth = 1) + theme_bw()"
   ]
  },
  {
   "cell_type": "code",
   "execution_count": null,
   "id": "bc54467b-4736-410c-80f2-c46f72ed2166",
   "metadata": {},
   "outputs": [],
   "source": []
  }
 ],
 "metadata": {
  "kernelspec": {
   "display_name": "R",
   "language": "R",
   "name": "ir"
  },
  "language_info": {
   "codemirror_mode": "r",
   "file_extension": ".r",
   "mimetype": "text/x-r-source",
   "name": "R",
   "pygments_lexer": "r",
   "version": "3.6.1"
  }
 },
 "nbformat": 4,
 "nbformat_minor": 5
}
