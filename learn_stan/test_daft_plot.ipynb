{
 "cells": [
  {
   "cell_type": "markdown",
   "id": "a9cef4ac-2d3a-4d72-8372-f80ab9b706bd",
   "metadata": {},
   "source": [
    "https://docs.daft-pgm.org/en/latest/examples/classic/"
   ]
  },
  {
   "cell_type": "code",
   "execution_count": 1,
   "id": "14e07199-4468-42ae-a7b3-316b29393d9d",
   "metadata": {},
   "outputs": [
    {
     "data": {
      "text/plain": [
       "<Axes:>"
      ]
     },
     "execution_count": 1,
     "metadata": {},
     "output_type": "execute_result"
    },
    {
     "data": {
      "image/png": "[encoded data removed]",
      "text/plain": [
       "<Figure size 127.087x116.22 with 1 Axes>"
      ]
     },
     "metadata": {},
     "output_type": "display_data"
    }
   ],
   "source": [
    "import daft\n",
    "\n",
    "# Instantiate the PGM.\n",
    "pgm = daft.PGM()\n",
    "\n",
    "# Hierarchical parameters.\n",
    "pgm.add_node(\"alpha\", r\"$\\alpha$\", 0.5, 2, fixed=True)\n",
    "pgm.add_node(\"beta\", r\"$\\beta$\", 1.5, 2)\n",
    "\n",
    "# Latent variable.\n",
    "pgm.add_node(\"w\", r\"$w_n$\", 1, 1)\n",
    "\n",
    "# Data.\n",
    "pgm.add_node(\"x\", r\"$x_n$\", 2, 1, observed=True)\n",
    "\n",
    "# Add in the edges.\n",
    "pgm.add_edge(\"alpha\", \"beta\")\n",
    "pgm.add_edge(\"beta\", \"w\")\n",
    "pgm.add_edge(\"w\", \"x\")\n",
    "pgm.add_edge(\"beta\", \"x\")\n",
    "\n",
    "# And a plate.\n",
    "pgm.add_plate([0.5, 0.5, 2, 1], label=r\"$n = 1, \\cdots, N$\", shift=-0.1)\n",
    "\n",
    "# Render and save.\n",
    "pgm.render()"
   ]
  },
  {
   "cell_type": "code",
   "execution_count": null,
   "id": "b0b88b00-fd40-40e0-8ff9-97043cc72183",
   "metadata": {},
   "outputs": [],
   "source": []
  }
 ],
 "metadata": {
  "kernelspec": {
   "display_name": "Python 3",
   "language": "python",
   "name": "python3"
  },
  "language_info": {
   "codemirror_mode": {
    "name": "ipython",
    "version": 3
   },
   "file_extension": ".py",
   "mimetype": "text/x-python",
   "name": "python",
   "nbconvert_exporter": "python",
   "pygments_lexer": "ipython3",
   "version": "3.7.3"
  }
 },
 "nbformat": 4,
 "nbformat_minor": 5
}
