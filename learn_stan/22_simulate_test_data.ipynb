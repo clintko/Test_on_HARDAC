{
 "cells": [
  {
   "cell_type": "markdown",
   "id": "1fdc2e74-3269-445b-aef9-0f7f9c6ecd23",
   "metadata": {},
   "source": [
    "## Set Environment"
   ]
  },
  {
   "cell_type": "code",
   "execution_count": 39,
   "id": "1734812a-acec-42dc-ac98-618ce28e41d6",
   "metadata": {},
   "outputs": [],
   "source": [
    "library(rjson)"
   ]
  },
  {
   "cell_type": "markdown",
   "id": "fac8dee4-4692-491a-9dc8-50df5afae0de",
   "metadata": {},
   "source": [
    "```\n",
    "betas <- vector()\n",
    "alpha <- 10\n",
    "sigma <- 10\n",
    "for(i in 1:numRegressions) {\n",
    "    B <- rnorm(1,0,betaSD)\n",
    "    betas <- c(betas,unlist(B))\n",
    "    for(j in 1:numPoints) {\n",
    "        X <- runif(1,0,30)\n",
    "        Y <- rnorm(1,X*B+alpha,sd=sigma)\n",
    "        cat(paste(X,Y,sep=\"\\t\"))\n",
    "        if(j<numPoints) cat(\"\\t\")\n",
    "    }\n",
    "    cat(\"\\n\")\n",
    "}\n",
    "```"
   ]
  },
  {
   "cell_type": "markdown",
   "id": "836a44bb-e157-44a7-82f8-08e49b9ce2e7",
   "metadata": {},
   "source": [
    "## Test rnorm function with multiple mean values"
   ]
  },
  {
   "cell_type": "code",
   "execution_count": 33,
   "id": "0d2a7c62-2724-4e05-906d-804cf35ee044",
   "metadata": {},
   "outputs": [
    {
     "data": {
      "image/png": "[encoded data removed]",
      "text/plain": [
       "plot without title"
      ]
     },
     "metadata": {},
     "output_type": "display_data"
    }
   ],
   "source": [
    "options(repr.plot.height=4, repr.plot.width=4)\n",
    "plot(1:10, rnorm(n=10, mean=1:10, sd=0.5), pch=20, \n",
    "     xlim=c(0.5,10.5), ylim=c(0.5,10.5),\n",
    "     xlab=\"x\",         ylab=\"y\")"
   ]
  },
  {
   "cell_type": "markdown",
   "id": "cb27a5f5-128f-4919-b682-75894971f70e",
   "metadata": {},
   "source": [
    "## Test simulate a sample"
   ]
  },
  {
   "cell_type": "code",
   "execution_count": 19,
   "id": "6c2af258-59c4-4545-bf36-6e88e5426c2c",
   "metadata": {},
   "outputs": [],
   "source": [
    "library(rjson)"
   ]
  },
  {
   "cell_type": "code",
   "execution_count": 35,
   "id": "4790e467-cf5e-4e51-aa7e-5466b2d6550f",
   "metadata": {},
   "outputs": [
    {
     "name": "stdout",
     "output_type": "stream",
     "text": [
      " [1] 0.2875775 0.7883051 0.4089769 0.8830174 0.9404673 0.0455565 0.5281055\n",
      " [8] 0.8924190 0.5514350 0.4566147\n",
      " [1] 27.438227 15.397467 -2.241635  4.014489  6.483848 22.286374 14.126244\n",
      " [8] 14.900134 11.658262  4.898203\n"
     ]
    }
   ],
   "source": [
    "numPoints = 10\n",
    "alpha = 10\n",
    "sigma = 10\n",
    "SEED  = 123\n",
    "\n",
    "set.seed(SEED)\n",
    "b  = 1\n",
    "xs = runif(n=numPoints, min=0, max=1)\n",
    "ys = rnorm(n=numPoints, mean=xs * b + alpha, sd=sigma)\n",
    "\n",
    "print(xs)\n",
    "print(ys)"
   ]
  },
  {
   "cell_type": "markdown",
   "id": "ea4314d6-5c08-4325-bb44-c0f76040ba9e",
   "metadata": {},
   "source": [
    "**Double check the results**"
   ]
  },
  {
   "cell_type": "code",
   "execution_count": 36,
   "id": "2c3d4541-28fa-4ac3-8f5d-127f8a243b9b",
   "metadata": {},
   "outputs": [
    {
     "name": "stdout",
     "output_type": "stream",
     "text": [
      " [1] 0.2875775 0.7883051 0.4089769 0.8830174 0.9404673 0.0455565 0.5281055\n",
      " [8] 0.8924190 0.5514350 0.4566147\n",
      " [1] 27.438227 15.397467 -2.241635  4.014489  6.483848 22.286374 14.126244\n",
      " [8] 14.900134 11.658262  4.898203\n"
     ]
    }
   ],
   "source": [
    "numPoints = 10\n",
    "alpha = 10\n",
    "sigma = 10\n",
    "SEED  = 123\n",
    "\n",
    "set.seed(SEED)\n",
    "b  = 1\n",
    "xs = runif(n=numPoints, min=0, max=1)\n",
    "ys = sapply(xs, function(x){\n",
    "    rnorm(n=1, mean=x * b + alpha, sd=sigma)\n",
    "}) # end sapply\n",
    "\n",
    "print(xs)\n",
    "print(ys)"
   ]
  },
  {
   "cell_type": "markdown",
   "id": "7d2fb4da-d4ec-4c80-9f97-b597bbad273c",
   "metadata": {},
   "source": [
    "**Store into a json file**"
   ]
  },
  {
   "cell_type": "markdown",
   "id": "d3ebc591-fda5-4d9c-b7dd-8b06dab85106",
   "metadata": {},
   "source": [
    "https://rfaqs.com/reading-and-writing-json-files-in-r/"
   ]
  },
  {
   "cell_type": "code",
   "execution_count": 45,
   "id": "575ed294-8f8c-43d0-bc00-b8fc572c3f91",
   "metadata": {},
   "outputs": [],
   "source": [
    "lst = list(N=numPoints, X=xs, Y=ys, psi=1)\n",
    "tmp = toJSON(lst)\n",
    "write(tmp, \"./regression_normal/input_test.json\")"
   ]
  },
  {
   "cell_type": "markdown",
   "id": "8ec0e904-946a-483e-8e74-35ca7e4daef6",
   "metadata": {},
   "source": [
    "## Try different true betas"
   ]
  },
  {
   "cell_type": "code",
   "execution_count": 48,
   "id": "4b596cc5-46e6-4b42-87f7-ada74223a511",
   "metadata": {},
   "outputs": [
    {
     "data": {
      "text/html": [
       "'A C D'"
      ],
      "text/latex": [
       "'A C D'"
      ],
      "text/markdown": [
       "'A C D'"
      ],
      "text/plain": [
       "[1] \"A C D\""
      ]
     },
     "metadata": {},
     "output_type": "display_data"
    }
   ],
   "source": [
    "paste(\"A\", \"C\", \"D\")"
   ]
  },
  {
   "cell_type": "code",
   "execution_count": 57,
   "id": "4178305e-7a91-4a78-8eed-38d02d4eb696",
   "metadata": {},
   "outputs": [],
   "source": [
    "### set parameters\n",
    "numPoints = 10\n",
    "alpha = 10\n",
    "sigma = 1\n",
    "PSI   = 1\n",
    "SEED  = 1234\n",
    "fdiry = \"./regression_normal\"\n",
    "### simulation with different true beta\n",
    "set.seed(SEED)\n",
    "bs = c(0.001, 0.01, 0.1, 1, 10)\n",
    "for (idx in seq_along(bs)){\n",
    "    ### simulation\n",
    "    b = bs[idx]\n",
    "    xs = runif(n=numPoints, min=0, max=1)\n",
    "    ys = rnorm(n=numPoints, mean=xs * b + alpha, sd=sigma)\n",
    "    \n",
    "    ### wrap up\n",
    "    lst = list(N=numPoints, X=xs, Y=ys, psi=PSI, B=b)\n",
    "    tmp = toJSON(lst)\n",
    "    \n",
    "    ### save\n",
    "    fname = paste0(\"input_b\", idx, \".json\")\n",
    "    write(tmp, file.path(fdiry, fname))\n",
    "}"
   ]
  },
  {
   "cell_type": "code",
   "execution_count": null,
   "id": "c201dba8-18c9-4a94-8dc1-0eae0635c929",
   "metadata": {},
   "outputs": [],
   "source": []
  },
  {
   "cell_type": "code",
   "execution_count": null,
   "id": "527a2abb-82e7-4a9b-ae6b-3457bb958471",
   "metadata": {},
   "outputs": [],
   "source": []
  },
  {
   "cell_type": "code",
   "execution_count": null,
   "id": "506c8d76-8798-4803-b965-04b9c838dd9f",
   "metadata": {},
   "outputs": [],
   "source": []
  },
  {
   "cell_type": "code",
   "execution_count": 12,
   "id": "0b1ab4bc-799b-452e-93df-9652d4e99cc3",
   "metadata": {},
   "outputs": [],
   "source": [
    "numRegressions = 5\n",
    "betaSD = 0.5\n",
    "numPoints = 10"
   ]
  },
  {
   "cell_type": "code",
   "execution_count": 13,
   "id": "ef0eafcb-f27c-496c-b746-f1701ff5398b",
   "metadata": {},
   "outputs": [
    {
     "name": "stdout",
     "output_type": "stream",
     "text": [
      "16.3811436994001\t10.6307175399087\t12.321683219634\t-2.12000111611423\t3.61033589579165\t8.30250132623966\t17.9890113137662\t13.7884899314312\t15.1279826299287\t-2.17078222064479\t1.3888342352584\t0.309793563424861\t3.23330809129402\t18.2966697419278\t26.8656254885718\t6.48603648942789\t19.5353091065772\t3.66029095096925\t2.74311949498951\t12.1855565023005\n",
      "19.531121221371\t-5.03802129993927\t5.50270585343242\t-2.21807393488172\t19.5868115499616\t-11.2563379593484\t29.5393833098933\t-23.8122510813098\t0.0245947251096368\t27.6473289572849\t5.31753743067384\t-6.93820209380844\t11.6756402375177\t6.4076153619939\t6.39376602368429\t-11.1496421520282\t11.00778226275\t15.7495508243023\t2.61666202917695\t5.35573927658754\n",
      "8.36479839636013\t10.6164563748492\t13.2743927277625\t10.444161237625\t15.0901855202392\t-1.09507146398542\t14.0723127219826\t18.1122500462657\t19.9905866291374\t22.3479483418215\t22.5658586947247\t8.27333474866603\t5.47748409910128\t19.6002783623897\t18.1043143174611\t8.85800171189866\t17.5041881133802\t-11.3196392709101\t13.5162614705041\t12.124735186278\n",
      "4.55113562755287\t3.4896614922513\t13.4313488518819\t4.042968758257\t16.7250514123589\t-4.42925448447343\t10.5216592736542\t-5.40049185100624\t14.0062938281335\t1.20213844100726\t13.18143050652\t-16.5740661363873\t7.09382831119001\t-6.71653442813581\t4.72324827220291\t18.072886399815\t10.5264675314538\t4.49003027958124\t15.5248263012618\t1.68122037857505\n",
      "26.9876934215426\t20.0625376128881\t0.231646278407425\t8.02965729815906\t5.82020946079865\t-3.35602354043998\t13.5758112533949\t10.6599617593476\t15.842176694423\t20.5697971913135\t2.19429952790961\t7.68729634117246\t4.96076532639563\t8.27478569501976\t26.8833752232604\t22.9335232791573\t4.41993992775679\t26.8504674118629\t22.7624921221286\t13.204444087886\n"
     ]
    }
   ],
   "source": [
    "betas <- vector()\n",
    "alpha <- 10\n",
    "sigma <- 10\n",
    "for(i in 1:numRegressions) {\n",
    "    B <- rnorm(1,0,betaSD)\n",
    "    betas <- c(betas,unlist(B))\n",
    "    for(j in 1:numPoints) {\n",
    "        X <- runif(1,0,30)\n",
    "        Y <- rnorm(1,X*B+alpha,sd=sigma)\n",
    "        cat(paste(X,Y,sep=\"\\t\"))\n",
    "        if(j<numPoints) cat(\"\\t\")\n",
    "    }\n",
    "    cat(\"\\n\")\n",
    "}"
   ]
  },
  {
   "cell_type": "code",
   "execution_count": null,
   "id": "fcd13afb-3ecb-4fb8-913b-fd99693b7716",
   "metadata": {},
   "outputs": [],
   "source": [
    "write.table(unlist(betas),file=betaFile,row.names=F,col.names=F,\n",
    "quote=F,sep=\"\\t\")"
   ]
  }
 ],
 "metadata": {
  "kernelspec": {
   "display_name": "R",
   "language": "R",
   "name": "ir"
  },
  "language_info": {
   "codemirror_mode": "r",
   "file_extension": ".r",
   "mimetype": "text/x-r-source",
   "name": "R",
   "pygments_lexer": "r",
   "version": "3.6.1"
  }
 },
 "nbformat": 4,
 "nbformat_minor": 5
}
