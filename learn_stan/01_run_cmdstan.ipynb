{
 "cells": [
  {
   "cell_type": "markdown",
   "metadata": {},
   "source": [
    "## Load CmdStan"
   ]
  },
  {
   "cell_type": "code",
   "execution_count": 1,
   "metadata": {},
   "outputs": [],
   "source": [
    "module load gcc\n",
    "module load tbb\n",
    "STAN_PATH=/data/reddylab/Kuei/exe/cmdstan"
   ]
  },
  {
   "cell_type": "code",
   "execution_count": 9,
   "metadata": {},
   "outputs": [],
   "source": [
    "cat > ./ex_school/schools.stan << EOF\n",
    "data {\n",
    "    int<lower=0> J;         // number of schools\n",
    "    real y[J];              // estimated treatment effects\n",
    "    real<lower=0> sigma[J]; // standard error of effect estimates\n",
    "}\n",
    "parameters {\n",
    "    real mu;                // population treatment effect\n",
    "    real<lower=0> tau;      // standard deviation in treatment effects\n",
    "    vector[J] eta;          // unscaled deviation from mu by school\n",
    "}\n",
    "transformed parameters {\n",
    "    vector[J] theta = mu + tau * eta; // school treatment effects\n",
    "}\n",
    "model {\n",
    "    target += normal_lpdf(eta | 0, 1);       // prior log-density\n",
    "    target += normal_lpdf(y | theta, sigma); // log-likelihood\n",
    "}\n",
    "\n",
    "EOF"
   ]
  },
  {
   "cell_type": "code",
   "execution_count": 10,
   "metadata": {},
   "outputs": [
    {
     "name": "stdout",
     "output_type": "stream",
     "text": [
      "data {\n",
      "    int<lower=0> J;         // number of schools\n",
      "    real y[J];              // estimated treatment effects\n",
      "    real<lower=0> sigma[J]; // standard error of effect estimates\n",
      "}\n",
      "parameters {\n",
      "    real mu;                // population treatment effect\n",
      "    real<lower=0> tau;      // standard deviation in treatment effects\n",
      "    vector[J] eta;          // unscaled deviation from mu by school\n",
      "}\n",
      "transformed parameters {\n",
      "    vector[J] theta = mu + tau * eta; // school treatment effects\n",
      "}\n",
      "model {\n",
      "    target += normal_lpdf(eta | 0, 1);       // prior log-density\n",
      "    target += normal_lpdf(y | theta, sigma); // log-likelihood\n",
      "}\n",
      "\n"
     ]
    }
   ],
   "source": [
    "cat ./ex_school/schools.stan"
   ]
  },
  {
   "cell_type": "code",
   "execution_count": 13,
   "metadata": {},
   "outputs": [
    {
     "name": "stdout",
     "output_type": "stream",
     "text": [
      "/gpfs/fs1/data/reddylab/Kuei/learn/learn_stan\n"
     ]
    }
   ],
   "source": [
    "FD_WRK=$(pwd)\n",
    "echo $FD_WRK"
   ]
  },
  {
   "cell_type": "code",
   "execution_count": 14,
   "metadata": {},
   "outputs": [
    {
     "name": "stdout",
     "output_type": "stream",
     "text": [
      "make: Entering directory `/gpfs/fs1/data/reddylab/Kuei/exe/cmdstan'\n",
      "\n",
      "--- Translating Stan model to C++ code ---\n",
      "bin/stanc  --o=/gpfs/fs1/data/reddylab/Kuei/learn/learn_stan/ex_school/schools.hpp /gpfs/fs1/data/reddylab/Kuei/learn/learn_stan/ex_school/schools.stan\n",
      "\n",
      "--- Compiling, linking C++ code ---\n",
      "g++ -std=c++1y -pthread -D_REENTRANT -Wno-sign-compare -Wno-ignored-attributes      -I stan/lib/stan_math/lib/tbb_2020.3/include   -O3 -I src -I stan/src -I lib/rapidjson_1.1.0/ -I lib/CLI11-1.9.1/ -I stan/lib/stan_math/ -I stan/lib/stan_math/lib/eigen_3.3.9 -I stan/lib/stan_math/lib/boost_1.75.0 -I stan/lib/stan_math/lib/sundials_5.7.0/include    -DBOOST_DISABLE_ASSERTS         -c -Wno-ignored-attributes   -x c++ -o /gpfs/fs1/data/reddylab/Kuei/learn/learn_stan/ex_school/schools.o /gpfs/fs1/data/reddylab/Kuei/learn/learn_stan/ex_school/schools.hpp\n",
      "g++ -std=c++1y -pthread -D_REENTRANT -Wno-sign-compare -Wno-ignored-attributes      -I stan/lib/stan_math/lib/tbb_2020.3/include   -O3 -I src -I stan/src -I lib/rapidjson_1.1.0/ -I lib/CLI11-1.9.1/ -I stan/lib/stan_math/ -I stan/lib/stan_math/lib/eigen_3.3.9 -I stan/lib/stan_math/lib/boost_1.75.0 -I stan/lib/stan_math/lib/sundials_5.7.0/include    -DBOOST_DISABLE_ASSERTS               -Wl,-L,\"/nfs/software/helmod/apps/Core/tbb/4.4-fasrc02/lib\" -Wl,-rpath,\"/nfs/software/helmod/apps/Core/tbb/4.4-fasrc02/lib\" -ltbb    /gpfs/fs1/data/reddylab/Kuei/learn/learn_stan/ex_school/schools.o src/cmdstan/main.o        -Wl,-L,\"/nfs/software/helmod/apps/Core/tbb/4.4-fasrc02/lib\" -Wl,-rpath,\"/nfs/software/helmod/apps/Core/tbb/4.4-fasrc02/lib\" -ltbb stan/lib/stan_math/lib/sundials_5.7.0/lib/libsundials_nvecserial.a stan/lib/stan_math/lib/sundials_5.7.0/lib/libsundials_cvodes.a stan/lib/stan_math/lib/sundials_5.7.0/lib/libsundials_idas.a stan/lib/stan_math/lib/sundials_5.7.0/lib/libsundials_kinsol.a   -o /gpfs/fs1/data/reddylab/Kuei/learn/learn_stan/ex_school/schools\n",
      "rm -f /gpfs/fs1/data/reddylab/Kuei/learn/learn_stan/ex_school/schools.o\n",
      "make: Leaving directory `/gpfs/fs1/data/reddylab/Kuei/exe/cmdstan'\n"
     ]
    }
   ],
   "source": [
    "make -C $STAN_PATH ${FD_WRK}/ex_school/schools"
   ]
  },
  {
   "cell_type": "code",
   "execution_count": null,
   "metadata": {},
   "outputs": [],
   "source": []
  },
  {
   "cell_type": "code",
   "execution_count": 1,
   "metadata": {},
   "outputs": [],
   "source": [
    "module load gcc"
   ]
  },
  {
   "cell_type": "code",
   "execution_count": 2,
   "metadata": {},
   "outputs": [],
   "source": [
    "cat > ./ex_school/schools_dat.json << EOF\n",
    "{\n",
    "    \"J\" : 8,\n",
    "    \"y\" : [28, 8, -3, 7, -1, 1, 18, 12],\n",
    "    \"sigma\" : [15, 10, 16, 11, 9, 11, 10, 18]\n",
    "}\n",
    "EOF"
   ]
  },
  {
   "cell_type": "code",
   "execution_count": 3,
   "metadata": {},
   "outputs": [],
   "source": [
    "cat > ./ex_school/schools_dat.txt << EOF\n",
    "{\n",
    "    \"J\" : 8,\n",
    "    \"y\" : [28, 8, -3, 7, -1, 1, 18, 12],\n",
    "    \"sigma\" : [15, 10, 16, 11, 9, 11, 10, 18]\n",
    "}\n",
    "EOF"
   ]
  },
  {
   "cell_type": "code",
   "execution_count": 4,
   "metadata": {},
   "outputs": [
    {
     "name": "stdout",
     "output_type": "stream",
     "text": [
      "{\n",
      "    \"J\" : 8,\n",
      "    \"y\" : [28, 8, -3, 7, -1, 1, 18, 12],\n",
      "    \"sigma\" : [15, 10, 16, 11, 9, 11, 10, 18]\n",
      "}\n"
     ]
    }
   ],
   "source": [
    "cat ./ex_school/schools_dat.json"
   ]
  },
  {
   "cell_type": "code",
   "execution_count": 5,
   "metadata": {},
   "outputs": [
    {
     "name": "stdout",
     "output_type": "stream",
     "text": [
      "{\n",
      "    \"J\" : 8,\n",
      "    \"y\" : [28, 8, -3, 7, -1, 1, 18, 12],\n",
      "    \"sigma\" : [15, 10, 16, 11, 9, 11, 10, 18]\n",
      "}\n"
     ]
    }
   ],
   "source": [
    "cat ./ex_school/schools_dat.txt"
   ]
  },
  {
   "cell_type": "code",
   "execution_count": 6,
   "metadata": {},
   "outputs": [
    {
     "name": "stdout",
     "output_type": "stream",
     "text": [
      "method = sample (Default)\n",
      "  sample\n",
      "    num_samples = 1000 (Default)\n",
      "    num_warmup = 1000 (Default)\n",
      "    save_warmup = 0 (Default)\n",
      "    thin = 1 (Default)\n",
      "    adapt\n",
      "      engaged = 1 (Default)\n",
      "      gamma = 0.050000000000000003 (Default)\n",
      "      delta = 0.80000000000000004 (Default)\n",
      "      kappa = 0.75 (Default)\n",
      "      t0 = 10 (Default)\n",
      "      init_buffer = 75 (Default)\n",
      "      term_buffer = 50 (Default)\n",
      "      window = 25 (Default)\n",
      "    algorithm = hmc (Default)\n",
      "      hmc\n",
      "        engine = nuts (Default)\n",
      "          nuts\n",
      "            max_depth = 10 (Default)\n",
      "        metric = diag_e (Default)\n",
      "        metric_file =  (Default)\n",
      "        stepsize = 1 (Default)\n",
      "        stepsize_jitter = 0 (Default)\n",
      "id = 0 (Default)\n",
      "data\n",
      "  file = ./ex_school/schools_dat.json\n",
      "init = 2 (Default)\n",
      "random\n",
      "  seed = 2996198087 (Default)\n",
      "output\n",
      "  file = ./ex_school/output.csv\n",
      "  diagnostic_file =  (Default)\n",
      "  refresh = 100 (Default)\n",
      "  sig_figs = -1 (Default)\n",
      "  profile_file = profile.csv (Default)\n",
      "\n",
      "\n",
      "Gradient evaluation took 7e-05 seconds\n",
      "1000 transitions using 10 leapfrog steps per transition would take 0.7 seconds.\n",
      "Adjust your expectations accordingly!\n",
      "\n",
      "\n",
      "Iteration:    1 / 2000 [  0%]  (Warmup)\n",
      "Iteration:  100 / 2000 [  5%]  (Warmup)\n",
      "Iteration:  200 / 2000 [ 10%]  (Warmup)\n",
      "Iteration:  300 / 2000 [ 15%]  (Warmup)\n",
      "Iteration:  400 / 2000 [ 20%]  (Warmup)\n",
      "Iteration:  500 / 2000 [ 25%]  (Warmup)\n",
      "Iteration:  600 / 2000 [ 30%]  (Warmup)\n",
      "Iteration:  700 / 2000 [ 35%]  (Warmup)\n",
      "Iteration:  800 / 2000 [ 40%]  (Warmup)\n",
      "Iteration:  900 / 2000 [ 45%]  (Warmup)\n",
      "Iteration: 1000 / 2000 [ 50%]  (Warmup)\n",
      "Iteration: 1001 / 2000 [ 50%]  (Sampling)\n",
      "Iteration: 1100 / 2000 [ 55%]  (Sampling)\n",
      "Iteration: 1200 / 2000 [ 60%]  (Sampling)\n",
      "Iteration: 1300 / 2000 [ 65%]  (Sampling)\n",
      "Iteration: 1400 / 2000 [ 70%]  (Sampling)\n",
      "Iteration: 1500 / 2000 [ 75%]  (Sampling)\n",
      "Iteration: 1600 / 2000 [ 80%]  (Sampling)\n",
      "Iteration: 1700 / 2000 [ 85%]  (Sampling)\n",
      "Iteration: 1800 / 2000 [ 90%]  (Sampling)\n",
      "Iteration: 1900 / 2000 [ 95%]  (Sampling)\n",
      "Iteration: 2000 / 2000 [100%]  (Sampling)\n",
      "\n",
      " Elapsed Time: 0.057 seconds (Warm-up)\n",
      "               0.084 seconds (Sampling)\n",
      "               0.141 seconds (Total)\n",
      "\n"
     ]
    }
   ],
   "source": [
    "./ex_school/schools sample \\\n",
    "    data   file=./ex_school/schools_dat.json \\\n",
    "    output file=./ex_school/output.csv"
   ]
  },
  {
   "cell_type": "code",
   "execution_count": 7,
   "metadata": {},
   "outputs": [
    {
     "name": "stdout",
     "output_type": "stream",
     "text": [
      "method = sample (Default)\n",
      "  sample\n",
      "    num_samples = 1000 (Default)\n",
      "    num_warmup = 1000 (Default)\n",
      "    save_warmup = 0 (Default)\n",
      "    thin = 1 (Default)\n",
      "    adapt\n",
      "      engaged = 1 (Default)\n",
      "      gamma = 0.050000000000000003 (Default)\n",
      "      delta = 0.80000000000000004 (Default)\n",
      "      kappa = 0.75 (Default)\n",
      "      t0 = 10 (Default)\n",
      "      init_buffer = 75 (Default)\n",
      "      term_buffer = 50 (Default)\n",
      "      window = 25 (Default)\n",
      "    algorithm = hmc (Default)\n",
      "      hmc\n",
      "        engine = nuts (Default)\n",
      "          nuts\n",
      "            max_depth = 10 (Default)\n",
      "        metric = diag_e (Default)\n",
      "        metric_file =  (Default)\n",
      "        stepsize = 1 (Default)\n",
      "        stepsize_jitter = 0 (Default)\n",
      "id = 0 (Default)\n",
      "data\n",
      "  file = ./ex_school/schools_dat.txt\n",
      "init = 2 (Default)\n",
      "random\n",
      "  seed = 2996204312 (Default)\n",
      "output\n",
      "  file = ./ex_school/output.csv\n",
      "  diagnostic_file =  (Default)\n",
      "  refresh = 100 (Default)\n",
      "  sig_figs = -1 (Default)\n",
      "  profile_file = profile.csv (Default)\n",
      "\n",
      "Exception: variable does not exist; processing stage=data initialization; variable name=J; base type=int (in '/gpfs/fs1/data/reddylab/Kuei/learn/learn_stan/ex_school/schools.stan', line 2, column 4 to column 19)\n"
     ]
    },
    {
     "ename": "",
     "evalue": "1",
     "output_type": "error",
     "traceback": []
    }
   ],
   "source": [
    "./ex_school/schools sample \\\n",
    "    data   file=./ex_school/schools_dat.txt \\\n",
    "    output file=./ex_school/output.csv"
   ]
  },
  {
   "cell_type": "code",
   "execution_count": 16,
   "metadata": {},
   "outputs": [
    {
     "name": "stdout",
     "output_type": "stream",
     "text": [
      "Inference for Stan model: schools_model\n",
      "1 chains: each with iter=(1000); warmup=(0); thin=(1); 1000 iterations saved.\n",
      "\n",
      "Warmup took 0.063 seconds\n",
      "Sampling took 0.071 seconds\n",
      "\n",
      "                    Mean     MCSE   StdDev     5%    50%   95%    N_Eff  N_Eff/s    R_hat\n",
      "\n",
      "lp__            -4.0e+01     0.18      2.8    -45    -39   -36      248     3490      1.0\n",
      "accept_stat__       0.81  9.5e-03  2.4e-01   0.23   0.92   1.0  6.4e+02  9.0e+03  1.0e+00\n",
      "stepsize__          0.42      nan  1.2e-15   0.42   0.42  0.42      nan      nan      nan\n",
      "treedepth__          3.0  1.4e-02  3.7e-01    3.0    3.0   4.0  7.5e+02  1.1e+04  1.0e+00\n",
      "n_leapfrog__         8.9  1.3e-01  3.6e+00    7.0    7.0    15  7.8e+02  1.1e+04  1.0e+00\n",
      "divergent__         0.00      nan  0.0e+00   0.00   0.00  0.00      nan      nan      nan\n",
      "energy__              45  2.3e-01  3.7e+00     40     45    51  2.6e+02  3.6e+03  1.0e+00\n",
      "\n",
      "mu               7.6e+00     0.27      5.4  -0.80    7.5    17      392     5523      1.0\n",
      "tau              6.3e+00     0.30      5.3   0.48    5.0    17      304     4276      1.0\n",
      "eta[1]           3.8e-01    0.032     0.98   -1.2   0.40   2.0      926    13037      1.0\n",
      "eta[2]           2.4e-02    0.030     0.88   -1.5  0.027   1.5      864    12173      1.0\n",
      "eta[3]          -1.5e-01    0.035     0.92   -1.6  -0.16   1.4      687     9676     1.00\n",
      "eta[4]           9.3e-03    0.032     0.90   -1.4  0.012   1.5      809    11401      1.0\n",
      "eta[5]          -2.7e-01    0.040     0.89   -1.7  -0.33   1.3      512     7212     1.00\n",
      "eta[6]          -2.2e-01    0.032     0.93   -1.7  -0.25   1.3      846    11922     1.00\n",
      "eta[7]           3.7e-01    0.033     0.89   -1.1   0.38   1.9      736    10372     1.00\n",
      "eta[8]           4.5e-02    0.033     1.00   -1.5  0.069   1.7      896    12625     1.00\n",
      "theta[1]         1.1e+01     0.31      8.1   0.20    9.9    26      689     9707     1.00\n",
      "theta[2]         7.6e+00     0.19      6.0   -1.8    7.5    18      990    13948     1.00\n",
      "theta[3]         6.1e+00     0.29      7.7   -7.0    6.5    18      720    10134      1.0\n",
      "theta[4]         7.7e+00     0.19      6.5   -2.6    7.6    18     1160    16343     1.00\n",
      "theta[5]         5.0e+00     0.23      6.1   -5.9    5.4    14      737    10377      1.0\n",
      "theta[6]         5.8e+00     0.23      7.1   -6.2    6.0    17      983    13846     1.00\n",
      "theta[7]         1.0e+01     0.24      7.0   0.46    9.7    24      880    12394      1.0\n",
      "theta[8]         8.1e+00     0.36      8.7   -5.2    7.9    23      580     8172     1.00\n",
      "\n",
      "Samples were drawn using hmc with nuts.\n",
      "For each parameter, N_Eff is a crude measure of effective sample size,\n",
      "and R_hat is the potential scale reduction factor on split chains (at \n",
      "convergence, R_hat=1).\n"
     ]
    }
   ],
   "source": [
    "${STAN_PATH}/bin/stansummary ./ex_school/output.csv"
   ]
  },
  {
   "cell_type": "code",
   "execution_count": null,
   "metadata": {},
   "outputs": [],
   "source": []
  }
 ],
 "metadata": {
  "kernelspec": {
   "display_name": "Bash",
   "language": "bash",
   "name": "bash"
  },
  "language_info": {
   "codemirror_mode": "shell",
   "file_extension": ".sh",
   "mimetype": "text/x-sh",
   "name": "bash"
  }
 },
 "nbformat": 4,
 "nbformat_minor": 4
}
