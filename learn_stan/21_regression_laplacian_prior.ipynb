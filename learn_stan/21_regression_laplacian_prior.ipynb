{
 "cells": [
  {
   "cell_type": "code",
   "execution_count": 1,
   "metadata": {},
   "outputs": [],
   "source": [
    "%%bash\n",
    "mkdir -p ./laplacian_prior"
   ]
  },
  {
   "cell_type": "code",
   "execution_count": 2,
   "metadata": {},
   "outputs": [],
   "source": [
    "%%bash\n",
    "cat > ./laplacian_prior/laplacian_prior.stan << EOF\n",
    "data {\n",
    "    real psi;\n",
    "}\n",
    "\n",
    "parameters {\n",
    "    real B;\n",
    "    real<lower=0.001> s;\n",
    "}\n",
    "\n",
    "model {\n",
    "    B ~ normal(0,s);\n",
    "    s ~ exponential(psi);\n",
    "}\n",
    "EOF"
   ]
  },
  {
   "cell_type": "code",
   "execution_count": 3,
   "metadata": {},
   "outputs": [
    {
     "name": "stdout",
     "output_type": "stream",
     "text": [
      "/gpfs/fs1/data/reddylab/Kuei/learn/learn_stan\n",
      "make: Entering directory `/gpfs/fs1/data/reddylab/Kuei/exe/cmdstan'\n",
      "\n",
      "--- Translating Stan model to C++ code ---\n",
      "bin/stanc  --o=/gpfs/fs1/data/reddylab/Kuei/learn/learn_stan/laplacian_prior/laplacian_prior.hpp /gpfs/fs1/data/reddylab/Kuei/learn/learn_stan/laplacian_prior/laplacian_prior.stan\n",
      "\n",
      "--- Compiling, linking C++ code ---\n",
      "g++ -std=c++1y -pthread -D_REENTRANT -Wno-sign-compare -Wno-ignored-attributes      -I stan/lib/stan_math/lib/tbb_2020.3/include   -O3 -I src -I stan/src -I lib/rapidjson_1.1.0/ -I lib/CLI11-1.9.1/ -I stan/lib/stan_math/ -I stan/lib/stan_math/lib/eigen_3.3.9 -I stan/lib/stan_math/lib/boost_1.75.0 -I stan/lib/stan_math/lib/sundials_5.7.0/include    -DBOOST_DISABLE_ASSERTS         -c -Wno-ignored-attributes   -x c++ -o /gpfs/fs1/data/reddylab/Kuei/learn/learn_stan/laplacian_prior/laplacian_prior.o /gpfs/fs1/data/reddylab/Kuei/learn/learn_stan/laplacian_prior/laplacian_prior.hpp\n",
      "g++ -std=c++1y -pthread -D_REENTRANT -Wno-sign-compare -Wno-ignored-attributes      -I stan/lib/stan_math/lib/tbb_2020.3/include   -O3 -I src -I stan/src -I lib/rapidjson_1.1.0/ -I lib/CLI11-1.9.1/ -I stan/lib/stan_math/ -I stan/lib/stan_math/lib/eigen_3.3.9 -I stan/lib/stan_math/lib/boost_1.75.0 -I stan/lib/stan_math/lib/sundials_5.7.0/include    -DBOOST_DISABLE_ASSERTS               -Wl,-L,\"/nfs/software/helmod/apps/Core/tbb/4.4-fasrc02/lib\" -Wl,-rpath,\"/nfs/software/helmod/apps/Core/tbb/4.4-fasrc02/lib\" -ltbb    /gpfs/fs1/data/reddylab/Kuei/learn/learn_stan/laplacian_prior/laplacian_prior.o src/cmdstan/main.o        -Wl,-L,\"/nfs/software/helmod/apps/Core/tbb/4.4-fasrc02/lib\" -Wl,-rpath,\"/nfs/software/helmod/apps/Core/tbb/4.4-fasrc02/lib\" -ltbb stan/lib/stan_math/lib/sundials_5.7.0/lib/libsundials_nvecserial.a stan/lib/stan_math/lib/sundials_5.7.0/lib/libsundials_cvodes.a stan/lib/stan_math/lib/sundials_5.7.0/lib/libsundials_idas.a stan/lib/stan_math/lib/sundials_5.7.0/lib/libsundials_kinsol.a   -o /gpfs/fs1/data/reddylab/Kuei/learn/learn_stan/laplacian_prior/laplacian_prior\n",
      "rm -f /gpfs/fs1/data/reddylab/Kuei/learn/learn_stan/laplacian_prior/laplacian_prior.o\n",
      "make: Leaving directory `/gpfs/fs1/data/reddylab/Kuei/exe/cmdstan'\n"
     ]
    }
   ],
   "source": [
    "%%bash\n",
    "### load modules\n",
    "module load gcc\n",
    "module load tbb\n",
    "\n",
    "### set directory\n",
    "STAN_PATH=/data/reddylab/Kuei/exe/cmdstan\n",
    "FD_WRK=$(pwd)\n",
    "echo $FD_WRK\n",
    "\n",
    "### compile model\n",
    "make -C $STAN_PATH ${FD_WRK}/laplacian_prior/laplacian_prior"
   ]
  },
  {
   "cell_type": "code",
   "execution_count": 4,
   "metadata": {},
   "outputs": [],
   "source": [
    "import numpy as np\n",
    "import json"
   ]
  },
  {
   "cell_type": "code",
   "execution_count": 5,
   "metadata": {},
   "outputs": [],
   "source": [
    "### generate data file\n",
    "for idx, psi in enumerate([0.1, 1, 10]):\n",
    "    dct = {\"psi\": psi}\n",
    "    \n",
    "    ### store the data\n",
    "    fpath = \"./laplacian_prior/psi\" + str(idx) + \".json\"\n",
    "    with open(fpath, \"w\") as file:\n",
    "        json.dump(dct, file)"
   ]
  },
  {
   "cell_type": "code",
   "execution_count": 8,
   "metadata": {},
   "outputs": [
    {
     "name": "stdout",
     "output_type": "stream",
     "text": [
      "./laplacian_prior/psi0.json\n",
      "./laplacian_prior/psi1.json\n",
      "./laplacian_prior/psi2.json\n"
     ]
    }
   ],
   "source": [
    "%%bash\n",
    "ls ./laplacian_prior/psi*"
   ]
  },
  {
   "cell_type": "code",
   "execution_count": 10,
   "metadata": {},
   "outputs": [
    {
     "name": "stdout",
     "output_type": "stream",
     "text": [
      "{\"psi\": 0.1}{\"psi\": 1}{\"psi\": 10}"
     ]
    }
   ],
   "source": [
    "%%bash\n",
    "cat ./laplacian_prior/psi*"
   ]
  },
  {
   "cell_type": "code",
   "execution_count": 11,
   "metadata": {},
   "outputs": [],
   "source": [
    "%%bash\n",
    "module load gcc\n",
    "./laplacian_prior/laplacian_prior sample \\\n",
    "    thin=1 num_samples=1000 num_warmup=50 \\\n",
    "    data   file=./laplacian_prior/psi0.json \\\n",
    "    output file=./laplacian_prior/output0.csv > ./laplacian_prior/log0.txt"
   ]
  },
  {
   "cell_type": "code",
   "execution_count": 12,
   "metadata": {},
   "outputs": [],
   "source": [
    "%%bash\n",
    "module load gcc\n",
    "./laplacian_prior/laplacian_prior sample \\\n",
    "    thin=1 num_samples=1000 num_warmup=50 \\\n",
    "    data   file=./laplacian_prior/psi1.json \\\n",
    "    output file=./laplacian_prior/output1.csv > ./laplacian_prior/log1.txt"
   ]
  },
  {
   "cell_type": "code",
   "execution_count": 13,
   "metadata": {},
   "outputs": [],
   "source": [
    "%%bash\n",
    "module load gcc\n",
    "./laplacian_prior/laplacian_prior sample \\\n",
    "    thin=1 num_samples=1000 num_warmup=50 \\\n",
    "    data   file=./laplacian_prior/psi2.json \\\n",
    "    output file=./laplacian_prior/output2.csv > ./laplacian_prior/log2.txt"
   ]
  },
  {
   "cell_type": "code",
   "execution_count": 14,
   "metadata": {},
   "outputs": [
    {
     "name": "stdout",
     "output_type": "stream",
     "text": [
      "method = sample (Default)\n",
      "  sample\n",
      "    num_samples = 1000 (Default)\n",
      "    num_warmup = 50\n",
      "    save_warmup = 0 (Default)\n",
      "    thin = 1 (Default)\n",
      "    adapt\n",
      "      engaged = 1 (Default)\n",
      "      gamma = 0.050000000000000003 (Default)\n",
      "      delta = 0.80000000000000004 (Default)\n",
      "      kappa = 0.75 (Default)\n",
      "      t0 = 10 (Default)\n",
      "      init_buffer = 75 (Default)\n",
      "      term_buffer = 50 (Default)\n",
      "      window = 25 (Default)\n",
      "    algorithm = hmc (Default)\n",
      "      hmc\n",
      "        engine = nuts (Default)\n",
      "          nuts\n",
      "            max_depth = 10 (Default)\n",
      "        metric = diag_e (Default)\n",
      "        metric_file =  (Default)\n",
      "        stepsize = 1 (Default)\n",
      "        stepsize_jitter = 0 (Default)\n",
      "id = 0 (Default)\n",
      "data\n",
      "  file = ./laplacian_prior/psi0.json\n",
      "init = 2 (Default)\n",
      "random\n",
      "  seed = 3005149479 (Default)\n",
      "output\n",
      "  file = ./laplacian_prior/output0.csv\n",
      "  diagnostic_file =  (Default)\n",
      "  refresh = 100 (Default)\n",
      "  sig_figs = -1 (Default)\n",
      "  profile_file = profile.csv (Default)\n",
      "\n",
      "\n",
      "Gradient evaluation took 4.5e-05 seconds\n",
      "1000 transitions using 10 leapfrog steps per transition would take 0.45 seconds.\n",
      "Adjust your expectations accordingly!\n",
      "\n",
      "\n",
      "WARNING: There aren't enough warmup iterations to fit the\n",
      "         three stages of adaptation as currently configured.\n",
      "         Reducing each adaptation stage to 15%/75%/10% of\n",
      "         the given number of warmup iterations:\n",
      "           init_buffer = 7\n",
      "           adapt_window = 38\n",
      "           term_buffer = 5\n",
      "\n",
      "Iteration:    1 / 1050 [  0%]  (Warmup)\n",
      "Iteration:   51 / 1050 [  4%]  (Sampling)\n",
      "Iteration:  150 / 1050 [ 14%]  (Sampling)\n",
      "Iteration:  250 / 1050 [ 23%]  (Sampling)\n",
      "Iteration:  350 / 1050 [ 33%]  (Sampling)\n",
      "Iteration:  450 / 1050 [ 42%]  (Sampling)\n",
      "Iteration:  550 / 1050 [ 52%]  (Sampling)\n",
      "Iteration:  650 / 1050 [ 61%]  (Sampling)\n",
      "Iteration:  750 / 1050 [ 71%]  (Sampling)\n",
      "Iteration:  850 / 1050 [ 80%]  (Sampling)\n",
      "Iteration:  950 / 1050 [ 90%]  (Sampling)\n",
      "Iteration: 1050 / 1050 [100%]  (Sampling)\n",
      "\n",
      " Elapsed Time: 0.005 seconds (Warm-up)\n",
      "               0.049 seconds (Sampling)\n",
      "               0.054 seconds (Total)\n",
      "\n"
     ]
    }
   ],
   "source": [
    "cat ./laplacian_prior/log0.txt"
   ]
  },
  {
   "cell_type": "code",
   "execution_count": 15,
   "metadata": {},
   "outputs": [
    {
     "name": "stdout",
     "output_type": "stream",
     "text": [
      "method = sample (Default)\n",
      "  sample\n",
      "    num_samples = 1000 (Default)\n",
      "    num_warmup = 50\n",
      "    save_warmup = 0 (Default)\n",
      "    thin = 1 (Default)\n",
      "    adapt\n",
      "      engaged = 1 (Default)\n",
      "      gamma = 0.050000000000000003 (Default)\n",
      "      delta = 0.80000000000000004 (Default)\n",
      "      kappa = 0.75 (Default)\n",
      "      t0 = 10 (Default)\n",
      "      init_buffer = 75 (Default)\n",
      "      term_buffer = 50 (Default)\n",
      "      window = 25 (Default)\n",
      "    algorithm = hmc (Default)\n",
      "      hmc\n",
      "        engine = nuts (Default)\n",
      "          nuts\n",
      "            max_depth = 10 (Default)\n",
      "        metric = diag_e (Default)\n",
      "        metric_file =  (Default)\n",
      "        stepsize = 1 (Default)\n",
      "        stepsize_jitter = 0 (Default)\n",
      "id = 0 (Default)\n",
      "data\n",
      "  file = ./laplacian_prior/psi1.json\n",
      "init = 2 (Default)\n",
      "random\n",
      "  seed = 3005158512 (Default)\n",
      "output\n",
      "  file = ./laplacian_prior/output1.csv\n",
      "  diagnostic_file =  (Default)\n",
      "  refresh = 100 (Default)\n",
      "  sig_figs = -1 (Default)\n",
      "  profile_file = profile.csv (Default)\n",
      "\n",
      "\n",
      "Gradient evaluation took 1.3e-05 seconds\n",
      "1000 transitions using 10 leapfrog steps per transition would take 0.13 seconds.\n",
      "Adjust your expectations accordingly!\n",
      "\n",
      "\n",
      "WARNING: There aren't enough warmup iterations to fit the\n",
      "         three stages of adaptation as currently configured.\n",
      "         Reducing each adaptation stage to 15%/75%/10% of\n",
      "         the given number of warmup iterations:\n",
      "           init_buffer = 7\n",
      "           adapt_window = 38\n",
      "           term_buffer = 5\n",
      "\n",
      "Iteration:    1 / 1050 [  0%]  (Warmup)\n",
      "Iteration:   51 / 1050 [  4%]  (Sampling)\n",
      "Iteration:  150 / 1050 [ 14%]  (Sampling)\n",
      "Iteration:  250 / 1050 [ 23%]  (Sampling)\n",
      "Iteration:  350 / 1050 [ 33%]  (Sampling)\n",
      "Iteration:  450 / 1050 [ 42%]  (Sampling)\n",
      "Iteration:  550 / 1050 [ 52%]  (Sampling)\n",
      "Iteration:  650 / 1050 [ 61%]  (Sampling)\n",
      "Iteration:  750 / 1050 [ 71%]  (Sampling)\n",
      "Iteration:  850 / 1050 [ 80%]  (Sampling)\n",
      "Iteration:  950 / 1050 [ 90%]  (Sampling)\n",
      "Iteration: 1050 / 1050 [100%]  (Sampling)\n",
      "\n",
      " Elapsed Time: 0.001 seconds (Warm-up)\n",
      "               0.035 seconds (Sampling)\n",
      "               0.036 seconds (Total)\n",
      "\n"
     ]
    }
   ],
   "source": [
    "cat ./laplacian_prior/log1.txt"
   ]
  },
  {
   "cell_type": "code",
   "execution_count": 16,
   "metadata": {},
   "outputs": [
    {
     "name": "stdout",
     "output_type": "stream",
     "text": [
      "method = sample (Default)\n",
      "  sample\n",
      "    num_samples = 1000 (Default)\n",
      "    num_warmup = 50\n",
      "    save_warmup = 0 (Default)\n",
      "    thin = 1 (Default)\n",
      "    adapt\n",
      "      engaged = 1 (Default)\n",
      "      gamma = 0.050000000000000003 (Default)\n",
      "      delta = 0.80000000000000004 (Default)\n",
      "      kappa = 0.75 (Default)\n",
      "      t0 = 10 (Default)\n",
      "      init_buffer = 75 (Default)\n",
      "      term_buffer = 50 (Default)\n",
      "      window = 25 (Default)\n",
      "    algorithm = hmc (Default)\n",
      "      hmc\n",
      "        engine = nuts (Default)\n",
      "          nuts\n",
      "            max_depth = 10 (Default)\n",
      "        metric = diag_e (Default)\n",
      "        metric_file =  (Default)\n",
      "        stepsize = 1 (Default)\n",
      "        stepsize_jitter = 0 (Default)\n",
      "id = 0 (Default)\n",
      "data\n",
      "  file = ./laplacian_prior/psi2.json\n",
      "init = 2 (Default)\n",
      "random\n",
      "  seed = 3005167328 (Default)\n",
      "output\n",
      "  file = ./laplacian_prior/output2.csv\n",
      "  diagnostic_file =  (Default)\n",
      "  refresh = 100 (Default)\n",
      "  sig_figs = -1 (Default)\n",
      "  profile_file = profile.csv (Default)\n",
      "\n",
      "\n",
      "Gradient evaluation took 1.4e-05 seconds\n",
      "1000 transitions using 10 leapfrog steps per transition would take 0.14 seconds.\n",
      "Adjust your expectations accordingly!\n",
      "\n",
      "\n",
      "WARNING: There aren't enough warmup iterations to fit the\n",
      "         three stages of adaptation as currently configured.\n",
      "         Reducing each adaptation stage to 15%/75%/10% of\n",
      "         the given number of warmup iterations:\n",
      "           init_buffer = 7\n",
      "           adapt_window = 38\n",
      "           term_buffer = 5\n",
      "\n",
      "Iteration:    1 / 1050 [  0%]  (Warmup)\n",
      "Iteration:   51 / 1050 [  4%]  (Sampling)\n",
      "Iteration:  150 / 1050 [ 14%]  (Sampling)\n",
      "Iteration:  250 / 1050 [ 23%]  (Sampling)\n",
      "Iteration:  350 / 1050 [ 33%]  (Sampling)\n",
      "Iteration:  450 / 1050 [ 42%]  (Sampling)\n",
      "Iteration:  550 / 1050 [ 52%]  (Sampling)\n",
      "Iteration:  650 / 1050 [ 61%]  (Sampling)\n",
      "Iteration:  750 / 1050 [ 71%]  (Sampling)\n",
      "Iteration:  850 / 1050 [ 80%]  (Sampling)\n",
      "Iteration:  950 / 1050 [ 90%]  (Sampling)\n",
      "Iteration: 1050 / 1050 [100%]  (Sampling)\n",
      "\n",
      " Elapsed Time: 0.001 seconds (Warm-up)\n",
      "               0.031 seconds (Sampling)\n",
      "               0.032 seconds (Total)\n",
      "\n"
     ]
    }
   ],
   "source": [
    "cat ./laplacian_prior/log2.txt"
   ]
  },
  {
   "cell_type": "code",
   "execution_count": null,
   "metadata": {},
   "outputs": [],
   "source": []
  }
 ],
 "metadata": {
  "kernelspec": {
   "display_name": "Python 3",
   "language": "python",
   "name": "python3"
  },
  "language_info": {
   "codemirror_mode": {
    "name": "ipython",
    "version": 3
   },
   "file_extension": ".py",
   "mimetype": "text/x-python",
   "name": "python",
   "nbconvert_exporter": "python",
   "pygments_lexer": "ipython3",
   "version": "3.6.12"
  }
 },
 "nbformat": 4,
 "nbformat_minor": 4
}
