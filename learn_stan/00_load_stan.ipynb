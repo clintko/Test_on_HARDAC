{
 "cells": [
  {
   "cell_type": "markdown",
   "metadata": {},
   "source": [
    "# Load and check if I am able to use stan on HARDAC"
   ]
  },
  {
   "cell_type": "code",
   "execution_count": 5,
   "metadata": {},
   "outputs": [
    {
     "name": "stdout",
     "output_type": "stream",
     "text": [
      "\n",
      "-------------------- /nfs/software/helmod/modulefiles/Core ---------------------\n",
      "   AmpliconNoise/1.27-fasrc01              gcc/4.7.4-fasrc01\n",
      "   Anaconda/1.9.2-fasrc01                  gcc/4.8.2-fasrc01\n",
      "   Anaconda/2.1.0-fasrc01                  gcc/4.9.3-fasrc01\n",
      "   Anaconda/2.5.0-fasrc01                  gcc/5.2.0-fasrc02\n",
      "   Anaconda/4.3.0-fasrc01           (D)    gcc/5.3.0-fasrc01\n",
      "   Anaconda3/2.1.0-fasrc01                 gcc/6.2.0-fasrc01\n",
      "   Anaconda3/4.3.0-gcb01                   gcc/7.1.0-fasrc01\n",
      "   Anaconda3/5.0.1-gcb01                   gcc/7.3.0-gcb01                 (D)\n",
      "   Anaconda3/2019.10-gcb01                 gcta/1.26.0-gcb01\n",
      "   Anaconda3/2019.10-gcb02          (D)    gd/2.0.28-fasrc01\n",
      "   BEAST/2.4.2-gcb01                       gdal/1.11.1-fasrc01\n",
      "   BSMAP/2.90-gcb01                        gdal/2.4.1-gcb01                (D)\n",
      "   CLAPACK/3.2.1-gcb01                     ghc/7.6.1-fasrc01\n",
      "   GATK/4.0.2.1-gcb01                      ghc/7.8.3-fasrc01               (D)\n",
      "   GATK/4.1.0.0-gcb01                      glib/2.20.4-fasrc01\n",
      "   GATK/4.1.0.0-gcb02                      glib/2.32.4-fasrc01             (D)\n",
      "   GATK/4.1.3.0-gcb01               (D)    glibc/2.14-gcb01\n",
      "   GenomeAnalysisTK/3.1.1-gcb01            glibc/2.17-gcb01\n",
      "   GenomeAnalysisTK/3.5-gcb01              glibc/2.18-gcb01\n",
      "   GenomeAnalysisTK/3.7-gcb01              glibc/2.20-gcb01                (D)\n",
      "   GenomeAnalysisTK/4.0.2.1-fasrc01        gmp/5.1.3-fasrc01\n",
      "   GenomeAnalysisTK/4.0.2.1-gcb01          gmp/6.0.0-fasrc01\n",
      "   GenomeAnalysisTK/4.1.0.0-gcb01          gmp/6.0.0-fasrc02\n",
      "   GenomeAnalysisTK/4.1.0.0-gcb02          gmp/6.1.0-fasrc01\n",
      "   GenomeAnalysisTK/4.1.3.0-gcb01   (D)    gmp/6.1.1-fasrc02\n",
      "   HISAT2/2.1.0-gcb01                      gmp/6.1.2-fasrc01               (D)\n",
      "   HTSeq/0.6.1-fasrc01                     gnuplot/4.6.4-fasrc02\n",
      "   IGV/2.3.61-gcb01                        golang/1.10.3-gcb01\n",
      "   ImageMagick/7.0.1-gcb01                 gperf/3.0.4-fasrc01\n",
      "   JAGS/4.1.0-fasrc01                      gperf/3.0.4-fasrc02             (D)\n",
      "   MACS/1.4.2-fasrc01                      gsl/1.16-fasrc02\n",
      "   MUMmer/3.23-gcb01                       gsl/1.16-fasrc03\n",
      "   MaSuRCA/3.2.3-gcb01                     gsl/2.5-fasrc01                 (D)\n",
      "   OpenBLAS/0.2.20-gcb01                   gstreamer/0.10.30-fasrc01\n",
      "   PBSuite/15.8.24-gcb01                   gtool/0.7.5-gcb01\n",
      "   ParsInsert/1.04-fasrc01                 hdf5/1.8.12-fasrc04\n",
      "   R/3.1.0-fasrc01                         hdf5/1.8.12-fasrc08\n",
      "   R/3.2.0-gcb01                           hdf5/1.8.17-fasrc02             (D)\n",
      "   R/3.2.2-fasrc03                         htslib/1.1-fasrc01\n",
      "   R/3.3.0-fasrc01                         htslib/1.2.1-gcb01\n",
      "   R/3.3.1-gcb01                           htslib/1.3.1-gcb01\n",
      "   R/3.4.0-gcb01                           htslib/1.9-fasrc01              (D)\n",
      "   R/3.4.2-fasrc01                         hyphy/20161104-gcb01\n",
      "   R/3.5.1-gcb01                           icu4c/54.1-fasrc01\n",
      "   R/3.5.3-gcb01                           infernal/1.0.2-fasrc01\n",
      "   R/3.5.3-gcb02                           java/1.7.0_60-fasrc01\n",
      "   R/3.6.1-gcb01                           java/1.8.0_45-fasrc01\n",
      "   R/3.6.1-gcb02                           java/9-gcb01                    (D)\n",
      "   R/3.6.1-gcb03                    (D)    jdk/1.7.0_60-fasrc01\n",
      "   R_core/3.1.0-fasrc01                    jdk/1.8.0_45-fasrc01\n",
      "   R_core/3.2.2-fasrc02                    jdk/9-gcb01                     (D)\n",
      "   R_core/3.2.2-fasrc03                    jpeg/6b-fasrc02\n",
      "   R_core/3.3.0-fasrc01                    kallisto/0.42.4-gcb01\n",
      "   R_core/3.3.1-gcb01                      kentUtils/v302-gcb01\n",
      "   R_core/3.4.0-gcb01                      lapack/3.6.1-gcb01\n",
      "   R_core/3.4.2-fasrc01                    libffi/3.2.1-fasrc01\n",
      "   R_core/3.5.1-gcb01                      libpng/1.5.21-fasrc01\n",
      "   R_core/3.5.3-gcb01                      libpng/1.6.23-fasrc01           (D)\n",
      "   R_core/3.5.3-gcb02                      libtool/2.4.6-gcb01\n",
      "   R_core/3.6.1-gcb01                      libxml2/2.7.8-fasrc01\n",
      "   R_core/3.6.1-gcb02                      libxml2/2.7.8-fasrc02           (D)\n",
      "   R_core/3.6.1-gcb03               (D)    llvm/3.5.1-fasrc02\n",
      "   R_packages/3.1.0-fasrc01                lynx/2.8.8-gcb01\n",
      "   R_packages/3.2.2-fasrc03                macs2/2.1.0.20140616-fasrc01\n",
      "   R_packages/3.3.0-fasrc01                macs2/2.1.2.20181108-gcb01      (D)\n",
      "   R_packages/3.3.0-fasrc02                matlab/R2014b-gcb01\n",
      "   R_packages/3.3.1-gcb01                  matlab/R2015a-gcb01\n",
      "   R_packages/3.4.0-gcb01                  matlab/R2017b-gcb01\n",
      "   R_packages/3.4.2-fasrc01                matlab/R2018b-gcb01\n",
      "   R_packages/3.5.1-gcb01                  matlab/R2020a-fasrc01           (D)\n",
      "   R_packages/3.5.3-gcb01                  mbuffer/20180625-gcb01\n",
      "   R_packages/3.5.3-gcb02                  meraculous/2.0.5-gcb01\n",
      "   R_packages/3.6.1-gcb01                  mongodb/2.7.4-fasrc01\n",
      "   R_packages/3.6.1-gcb02                  mongodb/3.2.8-gcb01             (D)\n",
      "   R_packages/3.6.1-gcb03           (D)    mothur/1.25.0-fasrc01\n",
      "   Rmpi/0.6.6-gcb01                        mpc/1.0.1-fasrc01\n",
      "   Rmpi/0.6.9-gcb01                 (D)    mpc/1.0.2-fasrc01\n",
      "   STAR/2.5.0c-fasrc01                     mpc/1.0.2-fasrc03\n",
      "   STAR/2.7.2b-gcb01                (D)    mpc/1.0.3-fasrc01\n",
      "   SeqPrep/1.1-fasrc01                     mpc/1.0.3-fasrc04\n",
      "   StringTie/2.0.5-gcb01                   mpc/1.0.3-fasrc06               (D)\n",
      "   StringTie/2.1.1-gcb01            (D)    mpfr/3.1.2-fasrc01\n",
      "   TrimGalore/0.4.1-gcb01                  mpfr/3.1.2-fasrc02\n",
      "   TrimGalore/0.6.5-fasrc01         (D)    mpfr/3.1.3-fasrc01\n",
      "   VEP/84-gcb01                            mpfr/3.1.4-fasrc02\n",
      "   autoconf/2.69-fasrc01                   mpfr/3.1.5-fasrc01              (D)\n",
      "   automake/1.15.1-gcb01                   muscle/3.8.31-fasrc01\n",
      "   bazel/20160330-fasrc01                  ncbi-blast/2.2.22-fasrc01\n",
      "   bcftools/1.2-fasrc01                    ncbi-blast/2.3.0+-gcb01         (D)\n",
      "   bcftools/1.3.1-gcb01                    netcdf/4.3.2-fasrc03\n",
      "   bcftools/1.10.2-fasrc01          (D)    node/8.11.3-gcb01\n",
      "   bcl2fastq2/v2.20.0.422-gcb01            openmpi/1.10.7-gcb01\n",
      "   bcl2fastq2/2.15.0.4-fasrc02             openmpi/3.1.3-gcb01             (D)\n",
      "   bcl2fastq2/2.17.1.14-gcb01       (D)    orc/0.4.24-fasrc01\n",
      "   beagle/2.1.2-gcb01                      parallel/20160322-fasrc01\n",
      "   bedops/2.4.35-gcb01                     pcre/8.37-fasrc02\n",
      "   bedtools2/2.19.1-gcb01                  perl/5.10.1-fasrc01\n",
      "   bedtools2/2.25.0-fasrc01         (D)    perl/5.10.1-fasrc04             (D)\n",
      "   binutils/2.26-fasrc02                   perl-modules/5.10.1-fasrc11\n",
      "   bioawk/1.0-gcb01                        phred/020425-gcb01\n",
      "   bismark/0.17.0-gcb01                    picard-tools/2.4.1-gcb01\n",
      "   blasr/20170124-gcb01                    pigz/2.3.4-gcb01\n",
      "   blasr/20171009-gcb01                    plink/1.07-fasrc01\n",
      "   blasr/20171011-gcb01             (D)    plink/1.90-fasrc01\n",
      "   blat/3.5-gcb01                          plink/1.90.3.36-gcb01           (D)\n",
      "   boost/1.54.0-fasrc01                    postgresql/9.4.1-fasrc02\n",
      "   boost/1.55.0-fasrc01                    pplacer/1.0.0-fasrc01\n",
      "   boost/1.59.0-gcb01               (D)    python/2.7.6-fasrc01\n",
      "   bowtie/1.1.1-fasrc01                    python/2.7.8-fasrc02\n",
      "   bowtie2/2.2.2-fasrc01                   python/2.7.9-fasrc01\n",
      "   bowtie2/2.2.4-fasrc01                   python/2.7.11-fasrc01\n",
      "   bowtie2/2.3.4.3-gcb01                   python/3.4.1-fasrc01\n",
      "   bowtie2/2.3.5.1-gcb01            (D)    python/3.6.3-gcb01\n",
      "   bwa/0.7.12-gcb01                        python/3.7.4-gcb01              (D)\n",
      "   bzip2/1.0.6-fasrc01                     qiime/1.9.1-fasrc01\n",
      "   cairo/1.8.8-fasrc01                     qiime-dependencies/1.9-fasrc01\n",
      "   cairo/1.12.18-fasrc01            (D)    qiime-packages/1.9.1-fasrc01\n",
      "   canu/1.7.1-gcb01                        qpy/2.7.10-fasrc01\n",
      "   cd-hit/3.1.1-fasrc01                    qt/5.5.1-fasrc01\n",
      "   cdbfasta/1.0.0-fasrc01                  qt-creator/3.5.1-fasrc01\n",
      "   cellranger/3.0.1-gcb01                  raxml/7.3.0-fasrc01\n",
      "   cellranger/3.1.0-gcb01           (D)    raxml/8.2.11-fasrc01            (D)\n",
      "   cellranger_atac/1.1.0-gcb01             readline/6.3-fasrc01\n",
      "   cfitsio/3390-fasrc01                    root/5.34.05-gcb01\n",
      "   chimeraslayer/2011.05.19-fasrc01        root/6.02.10-fasrc01            (D)\n",
      "   clearcut/1.0.9-fasrc01                  rsem/1.3.2-gcb01\n",
      "   cmake/2.8.12.2-fasrc01                  rtax/0.984-fasrc01\n",
      "   cmake/3.5.2-fasrc01              (D)    ruby/2.1.1-fasrc01\n",
      "   cmdstan/2.12.0-fasrc01                  sambamba/0.6.7-gcb01\n",
      "   coreutils/8.25-gcb01                    samblaster/0.1.24-gcb01\n",
      "   cuda/7.5-fasrc01                        samtools/0.1.19-fasrc01\n",
      "   cudnn/7.0-fasrc01                       samtools/1.1-fasrc02\n",
      "   cufflinks/2.2.1-fasrc01                 samtools/1.2-fasrc01\n",
      "   curl/7.45.0-fasrc01                     samtools/1.3.1-gcb01\n",
      "   cutadapt/1.8.1-gcb01                    samtools/1.9-gcb01\n",
      "   cutadapt/1.8.3-gcb01                    samtools/1.10-gcb01             (D)\n",
      "   cutadapt/2.3-gcb01               (D)    scalapack/2.0.2-gcb01\n",
      "   cwl-utils/0.2-gcb01                     scons/2.3.6-fasrc01\n",
      "   cwltool/1.0.20180711112827-gcb01        singularity/2.3.1-gcb01\n",
      "   cwltool/1.0.20191022103248-gcb01 (D)    singularity/2.4.2-gcb01         (D)\n",
      "   cytoscape/2.7.0-fasrc01                 snpEff/4.1-gcb01\n",
      "   ddsclient/2.1.2-gcb01                   snpEff/4.3i-gcb01               (D)\n",
      "   ddsclient/2.1.3-gcb01                   snptest/2.5.2-gcb01\n",
      "   ddsclient/2.1.4-gcb01                   spark/2.3.0-gcb01\n",
      "   ddsclient/2.2.0-gcb01                   speedseq/0.1.2-gcb03\n",
      "   ddsclient/2.2.1-gcb01                   sqlite/3.12.2-gcb01\n",
      "   ddsclient/2.3.1-gcb01                   sratoolkit/2.7.0-fasrc01\n",
      "   ddsclient/2.3.2-gcb01                   sratoolkit/2.8.1-gcb01\n",
      "   ddsclient/2.3.3-gcb01                   sratoolkit/2.9.6-gcb01\n",
      "   ddsclient/2.3.4-gcb01                   sratoolkit/2.10.8-gcb01         (D)\n",
      "   ddsclient/2.4.0-gcb01                   stampy/1.0.28-fasrc01\n",
      "   ddsclient/2.4.1-gcb01                   szip/2.1-fasrc01\n",
      "   ddsclient/2.4.2-gcb01                   szip/2.1-fasrc02                (D)\n",
      "   ddsclient/2.4.3-gcb01                   tabix/0.2.6-fasrc01\n",
      "   ddsclient/2.4.4-gcb01                   tbb/4.4-fasrc02\n",
      "   ddsclient/2.4.5-gcb01                   tensorflow/20160511-fasrc02\n",
      "   ddsclient/2.4.6-gcb01                   texlive/20170520-gcb01\n",
      "   ddsclient/2.4.7-gcb01                   toil/3.21.0-gcb01\n",
      "   ddsclient/2.4.8-gcb01                   toil/3.24.0-gcb01               (D)\n",
      "   ddsclient/3.0.0-gcb01                   tophat/2.0.13-gcb01\n",
      "   ddsclient/3.1.0-gcb01                   trinityrnaseq/2.0.6-fasrc01\n",
      "   ddsclient/3.1.1-gcb01                   trinityrnaseq/2.6.6-gcb01       (D)\n",
      "   ddsclient/3.2.0-gcb01                   ucsc/20150820-fasrc01\n",
      "   ddsclient/3.3.0-gcb01            (D)    udunits/2.2.26-gcb01\n",
      "   deepTools/2.0-gcb01                     unixODBC/2.3.6-gcb01\n",
      "   deepTools/3.4.3-gcb01            (D)    usearch/5.2.236-fasrc01\n",
      "   drm_tools/1.1.29-gcb01                  usearch/9.0.2132-gcb01          (D)\n",
      "   ea-utils/1.1.2.537-fasrc01              vawk/0.0.1-gcb01\n",
      "   eigen/3.2.2-fasrc01                     vcflib/2015Feb18-fasrc01\n",
      "   emacs/24.3-fasrc01                      vcftools/0.1.11-fasrc01\n",
      "   emboss/6.6.0-fasrc01                    vcftools/0.1.12b-gcb01\n",
      "   expat/2.1.0-fasrc01                     vcftools/0.1.13-gcb01\n",
      "   expat/2.1.0-fasrc03                     vcftools/0.1.15-gcb01           (D)\n",
      "   expat/2.2.7-gcb01                (D)    velvet/1.2.10-fasrc04\n",
      "   fastqc/0.11.2-fasrc01                   virtualenv/12.1.1-fasrc02\n",
      "   fastqc/0.11.5-fasrc01            (D)    virtualenvwrapper/4.6.0-fasrc01\n",
      "   fftw/3.3.5-fasrc01                      xz/5.2.2-fasrc01\n",
      "   fftw/3.3.8-gcb01                 (D)    xz/5.2.2-gcb01                  (D)\n",
      "   flex/2.6.0-fasrc01                      zlib/1.2.8-fasrc02\n",
      "   fontconfig/2.12.0-fasrc01               zlib/1.2.8-fasrc05\n",
      "   freebayes/2015Feb18-fasrc01             zlib/1.2.8-fasrc06\n",
      "   freetype/2.6.3-fasrc01                  zlib/1.2.8-fasrc07              (D)\n",
      "\n",
      "------------- /nfs/software/helmod/apps/lmod/lmod/modulefiles/Core -------------\n",
      "   lmod/5.9.3    settarg/5.9.3\n",
      "\n",
      "  Where:\n",
      "   (D):  Default Module\n",
      "\n",
      "Use \"module spider\" to find all possible modules.\n",
      "Use \"module keyword key1 key2 ...\" to search for all possible modules matching\n",
      "any of the \"keys\".\n",
      "\n"
     ]
    }
   ],
   "source": [
    "module avail"
   ]
  },
  {
   "cell_type": "markdown",
   "metadata": {},
   "source": [
    "## Quick example"
   ]
  },
  {
   "cell_type": "markdown",
   "metadata": {},
   "source": [
    "To run stan model, you will need:\n",
    "1. *.stan\n",
    "2. *.json\n",
    "3. compile stan file\n",
    "4. ./stan.model sample data file=*.json"
   ]
  },
  {
   "cell_type": "markdown",
   "metadata": {},
   "source": [
    "### 1. create a stan file"
   ]
  },
  {
   "cell_type": "code",
   "execution_count": 1,
   "metadata": {},
   "outputs": [],
   "source": [
    "cat > bernoulli.stan << EOF\n",
    "data { \n",
    "  int<lower=0> N; \n",
    "  int<lower=0,upper=1> y[N];\n",
    "} \n",
    "parameters {\n",
    "  real<lower=0,upper=1> theta;\n",
    "} \n",
    "model {\n",
    "  theta ~ beta(1,1);  // uniform prior on interval 0,1\n",
    "  y ~ bernoulli(theta);\n",
    "}\n",
    "EOF"
   ]
  },
  {
   "cell_type": "code",
   "execution_count": 2,
   "metadata": {},
   "outputs": [
    {
     "name": "stdout",
     "output_type": "stream",
     "text": [
      "data { \n",
      "  int<lower=0> N; \n",
      "  int<lower=0,upper=1> y[N];\n",
      "} \n",
      "parameters {\n",
      "  real<lower=0,upper=1> theta;\n",
      "} \n",
      "model {\n",
      "  theta ~ beta(1,1);  // uniform prior on interval 0,1\n",
      "  y ~ bernoulli(theta);\n",
      "}\n"
     ]
    }
   ],
   "source": [
    "cat bernoulli.stan"
   ]
  },
  {
   "cell_type": "markdown",
   "metadata": {},
   "source": [
    "### 2. create a data file in json format"
   ]
  },
  {
   "cell_type": "code",
   "execution_count": 3,
   "metadata": {},
   "outputs": [],
   "source": [
    "cat > data.json << EOF\n",
    "{\n",
    "    \"N\" : 10,\n",
    "    \"y\" : [0,1,0,0,0,0,0,0,0,1]\n",
    "}\n",
    "EOF"
   ]
  },
  {
   "cell_type": "code",
   "execution_count": 4,
   "metadata": {},
   "outputs": [
    {
     "name": "stdout",
     "output_type": "stream",
     "text": [
      "{\n",
      "    \"N\" : 10,\n",
      "    \"y\" : [0,1,0,0,0,0,0,0,0,1]\n",
      "}\n"
     ]
    }
   ],
   "source": [
    "cat data.json"
   ]
  },
  {
   "cell_type": "markdown",
   "metadata": {},
   "source": [
    "### 3. compile stan file"
   ]
  },
  {
   "cell_type": "code",
   "execution_count": 3,
   "metadata": {},
   "outputs": [
    {
     "name": "stdout",
     "output_type": "stream",
     "text": [
      "/gpfs/fs1/data/reddylab/Kuei/learn/learn_stan/cmdstan-2.26.1\n"
     ]
    }
   ],
   "source": [
    "cd cmdstan-2.26.1\n",
    "pwd"
   ]
  },
  {
   "cell_type": "code",
   "execution_count": 6,
   "metadata": {},
   "outputs": [
    {
     "name": "stdout",
     "output_type": "stream",
     "text": [
      "/gpfs/fs1/data/reddylab/Kuei/learn/learn_stan/cmdstan-2.26.1\n"
     ]
    }
   ],
   "source": [
    "pwd"
   ]
  },
  {
   "cell_type": "code",
   "execution_count": 8,
   "metadata": {},
   "outputs": [
    {
     "name": "stdout",
     "output_type": "stream",
     "text": [
      "data { \n",
      "  int<lower=0> N; \n",
      "  int<lower=0,upper=1> y[N];\n",
      "} \n",
      "parameters {\n",
      "  real<lower=0,upper=1> theta;\n",
      "} \n",
      "model {\n",
      "  theta ~ beta(1,1);  // uniform prior on interval 0,1\n",
      "  y ~ bernoulli(theta);\n",
      "}\n"
     ]
    }
   ],
   "source": [
    "cat ../bernoulli.stan"
   ]
  },
  {
   "cell_type": "code",
   "execution_count": 16,
   "metadata": {},
   "outputs": [
    {
     "name": "stdout",
     "output_type": "stream",
     "text": [
      "\n",
      "--- Translating Stan model to C++ code ---\n",
      "bin/stanc  --o=../bernoulli.hpp ../bernoulli.stan\n",
      "\n",
      "--- Compiling, linking C++ code ---\n",
      "g++ -std=c++1y -pthread -D_REENTRANT -Wno-sign-compare -Wno-ignored-attributes      -I stan/lib/stan_math/lib/tbb_2019_U8/include   -O3 -I src -I stan/src -I lib/rapidjson_1.1.0/ -I lib/CLI11-1.9.1/ -I stan/lib/stan_math/ -I stan/lib/stan_math/lib/eigen_3.3.9 -I stan/lib/stan_math/lib/boost_1.72.0 -I stan/lib/stan_math/lib/sundials_5.6.1/include    -DBOOST_DISABLE_ASSERTS         -c -Wno-ignored-attributes   -x c++ -o ../bernoulli.o ../bernoulli.hpp\n",
      "g++ -std=c++1y -pthread -D_REENTRANT -Wno-sign-compare -Wno-ignored-attributes      -I stan/lib/stan_math/lib/tbb_2019_U8/include   -O3 -I src -I stan/src -I lib/rapidjson_1.1.0/ -I lib/CLI11-1.9.1/ -I stan/lib/stan_math/ -I stan/lib/stan_math/lib/eigen_3.3.9 -I stan/lib/stan_math/lib/boost_1.72.0 -I stan/lib/stan_math/lib/sundials_5.6.1/include    -DBOOST_DISABLE_ASSERTS               -Wl,-L,\"/nfs/software/helmod/apps/Core/tbb/4.4-fasrc02/lib\" -Wl,-rpath,\"/nfs/software/helmod/apps/Core/tbb/4.4-fasrc02/lib -ltbb\"    ../bernoulli.o src/cmdstan/main.o         stan/lib/stan_math/lib/sundials_5.6.1/lib/libsundials_nvecserial.a stan/lib/stan_math/lib/sundials_5.6.1/lib/libsundials_cvodes.a stan/lib/stan_math/lib/sundials_5.6.1/lib/libsundials_idas.a stan/lib/stan_math/lib/sundials_5.6.1/lib/libsundials_kinsol.a   -o ../bernoulli\n",
      "../bernoulli.o: In function `tbb::internal::task_scheduler_observer_v3::~task_scheduler_observer_v3()':\n",
      "bernoulli.hpp:(.text._ZN3tbb8internal26task_scheduler_observer_v3D2Ev[_ZN3tbb8internal26task_scheduler_observer_v3D5Ev]+0x11): undefined reference to `tbb::internal::task_scheduler_observer_v3::observe(bool)'\n",
      "../bernoulli.o: In function `tbb::internal::task_scheduler_observer_v3::~task_scheduler_observer_v3()':\n",
      "bernoulli.hpp:(.text._ZN3tbb8internal26task_scheduler_observer_v3D0Ev[_ZN3tbb8internal26task_scheduler_observer_v3D5Ev]+0x15): undefined reference to `tbb::internal::task_scheduler_observer_v3::observe(bool)'\n",
      "../bernoulli.o: In function `tbb::interface6::task_scheduler_observer::~task_scheduler_observer()':\n",
      "bernoulli.hpp:(.text._ZN3tbb10interface623task_scheduler_observerD2Ev[_ZN3tbb10interface623task_scheduler_observerD5Ev]+0x15): undefined reference to `tbb::internal::task_scheduler_observer_v3::observe(bool)'\n",
      "bernoulli.hpp:(.text._ZN3tbb10interface623task_scheduler_observerD2Ev[_ZN3tbb10interface623task_scheduler_observerD5Ev]+0x30): undefined reference to `tbb::internal::task_scheduler_observer_v3::observe(bool)'\n",
      "../bernoulli.o: In function `tbb::interface6::task_scheduler_observer::~task_scheduler_observer()':\n",
      "bernoulli.hpp:(.text._ZN3tbb10interface623task_scheduler_observerD0Ev[_ZN3tbb10interface623task_scheduler_observerD5Ev]+0x15): undefined reference to `tbb::internal::task_scheduler_observer_v3::observe(bool)'\n",
      "../bernoulli.o:bernoulli.hpp:(.text._ZN3tbb10interface623task_scheduler_observerD0Ev[_ZN3tbb10interface623task_scheduler_observerD5Ev]+0x2f): more undefined references to `tbb::internal::task_scheduler_observer_v3::observe(bool)' follow\n",
      "src/cmdstan/main.o: In function `cmdstan::command(int, char const**)':\n",
      "main.cpp:(.text+0x629a): undefined reference to `tbb::task_scheduler_init::initialize(int, unsigned long)'\n",
      "src/cmdstan/main.o: In function `tbb::task_scheduler_init::~task_scheduler_init()':\n",
      "main.cpp:(.text._ZN3tbb19task_scheduler_initD2Ev[_ZN3tbb19task_scheduler_initD5Ev]+0x7): undefined reference to `tbb::task_scheduler_init::terminate()'\n",
      "src/cmdstan/main.o: In function `_GLOBAL__sub_I__ZN7cmdstan18write_compile_infoERN4stan9callbacks6writerERSt6vectorINSt7__cxx1112basic_stringIcSt11char_traitsIcESaIcEEESaISA_EE':\n",
      "main.cpp:(.text.startup+0x32a): undefined reference to `tbb::internal::task_scheduler_observer_v3::observe(bool)'\n",
      "collect2: error: ld returned 1 exit status\n",
      "make: *** [../bernoulli] Error 1\n"
     ]
    },
    {
     "ename": "",
     "evalue": "2",
     "output_type": "error",
     "traceback": []
    }
   ],
   "source": [
    "make ../bernoulli"
   ]
  },
  {
   "cell_type": "code",
   "execution_count": 1,
   "metadata": {},
   "outputs": [],
   "source": [
    "module load gcc\n",
    "module load tbb"
   ]
  },
  {
   "cell_type": "code",
   "execution_count": 4,
   "metadata": {},
   "outputs": [
    {
     "name": "stdout",
     "output_type": "stream",
     "text": [
      "\n",
      "--- Compiling, linking C++ code ---\n",
      "g++ -std=c++1y -pthread -D_REENTRANT -Wno-sign-compare -Wno-ignored-attributes      -I stan/lib/stan_math/lib/tbb_2019_U8/include   -O3 -I src -I stan/src -I lib/rapidjson_1.1.0/ -I lib/CLI11-1.9.1/ -I stan/lib/stan_math/ -I stan/lib/stan_math/lib/eigen_3.3.9 -I stan/lib/stan_math/lib/boost_1.72.0 -I stan/lib/stan_math/lib/sundials_5.6.1/include    -DBOOST_DISABLE_ASSERTS         -c -Wno-ignored-attributes   -x c++ -o examples/bernoulli/bernoulli.o examples/bernoulli/bernoulli.hpp\n",
      "g++ -std=c++1y -pthread -D_REENTRANT -Wno-sign-compare -Wno-ignored-attributes      -I stan/lib/stan_math/lib/tbb_2019_U8/include   -O3 -I src -I stan/src -I lib/rapidjson_1.1.0/ -I lib/CLI11-1.9.1/ -I stan/lib/stan_math/ -I stan/lib/stan_math/lib/eigen_3.3.9 -I stan/lib/stan_math/lib/boost_1.72.0 -I stan/lib/stan_math/lib/sundials_5.6.1/include    -DBOOST_DISABLE_ASSERTS               -Wl,-L,\"/nfs/software/helmod/apps/Core/tbb/4.4-fasrc02/lib\" -Wl,-rpath,\"/nfs/software/helmod/apps/Core/tbb/4.4-fasrc02/lib -ltbb\"    examples/bernoulli/bernoulli.o src/cmdstan/main.o         stan/lib/stan_math/lib/sundials_5.6.1/lib/libsundials_nvecserial.a stan/lib/stan_math/lib/sundials_5.6.1/lib/libsundials_cvodes.a stan/lib/stan_math/lib/sundials_5.6.1/lib/libsundials_idas.a stan/lib/stan_math/lib/sundials_5.6.1/lib/libsundials_kinsol.a   -o examples/bernoulli/bernoulli\n",
      "examples/bernoulli/bernoulli.o: In function `tbb::internal::task_scheduler_observer_v3::~task_scheduler_observer_v3()':\n",
      "bernoulli.hpp:(.text._ZN3tbb8internal26task_scheduler_observer_v3D2Ev[_ZN3tbb8internal26task_scheduler_observer_v3D5Ev]+0x11): undefined reference to `tbb::internal::task_scheduler_observer_v3::observe(bool)'\n",
      "examples/bernoulli/bernoulli.o: In function `tbb::internal::task_scheduler_observer_v3::~task_scheduler_observer_v3()':\n",
      "bernoulli.hpp:(.text._ZN3tbb8internal26task_scheduler_observer_v3D0Ev[_ZN3tbb8internal26task_scheduler_observer_v3D5Ev]+0x15): undefined reference to `tbb::internal::task_scheduler_observer_v3::observe(bool)'\n",
      "examples/bernoulli/bernoulli.o: In function `tbb::interface6::task_scheduler_observer::~task_scheduler_observer()':\n",
      "bernoulli.hpp:(.text._ZN3tbb10interface623task_scheduler_observerD2Ev[_ZN3tbb10interface623task_scheduler_observerD5Ev]+0x15): undefined reference to `tbb::internal::task_scheduler_observer_v3::observe(bool)'\n",
      "bernoulli.hpp:(.text._ZN3tbb10interface623task_scheduler_observerD2Ev[_ZN3tbb10interface623task_scheduler_observerD5Ev]+0x30): undefined reference to `tbb::internal::task_scheduler_observer_v3::observe(bool)'\n",
      "examples/bernoulli/bernoulli.o: In function `tbb::interface6::task_scheduler_observer::~task_scheduler_observer()':\n",
      "bernoulli.hpp:(.text._ZN3tbb10interface623task_scheduler_observerD0Ev[_ZN3tbb10interface623task_scheduler_observerD5Ev]+0x15): undefined reference to `tbb::internal::task_scheduler_observer_v3::observe(bool)'\n",
      "examples/bernoulli/bernoulli.o:bernoulli.hpp:(.text._ZN3tbb10interface623task_scheduler_observerD0Ev[_ZN3tbb10interface623task_scheduler_observerD5Ev]+0x2f): more undefined references to `tbb::internal::task_scheduler_observer_v3::observe(bool)' follow\n",
      "src/cmdstan/main.o: In function `cmdstan::command(int, char const**)':\n",
      "main.cpp:(.text+0x629a): undefined reference to `tbb::task_scheduler_init::initialize(int, unsigned long)'\n",
      "src/cmdstan/main.o: In function `tbb::task_scheduler_init::~task_scheduler_init()':\n",
      "main.cpp:(.text._ZN3tbb19task_scheduler_initD2Ev[_ZN3tbb19task_scheduler_initD5Ev]+0x7): undefined reference to `tbb::task_scheduler_init::terminate()'\n",
      "src/cmdstan/main.o: In function `_GLOBAL__sub_I__ZN7cmdstan18write_compile_infoERN4stan9callbacks6writerERSt6vectorINSt7__cxx1112basic_stringIcSt11char_traitsIcESaIcEEESaISA_EE':\n",
      "main.cpp:(.text.startup+0x32a): undefined reference to `tbb::internal::task_scheduler_observer_v3::observe(bool)'\n",
      "collect2: error: ld returned 1 exit status\n",
      "make: *** [examples/bernoulli/bernoulli] Error 1\n"
     ]
    },
    {
     "ename": "",
     "evalue": "2",
     "output_type": "error",
     "traceback": []
    }
   ],
   "source": [
    "make examples/bernoulli/bernoulli"
   ]
  },
  {
   "cell_type": "markdown",
   "metadata": {},
   "source": [
    "### 3. compile stan file"
   ]
  },
  {
   "cell_type": "markdown",
   "metadata": {},
   "source": [
    "**Before loading cmdstan**"
   ]
  },
  {
   "cell_type": "code",
   "execution_count": 10,
   "metadata": {},
   "outputs": [
    {
     "name": "stdout",
     "output_type": "stream",
     "text": [
      "make: *** No rule to make target `bernoulli'.  Stop.\n"
     ]
    },
    {
     "ename": "",
     "evalue": "2",
     "output_type": "error",
     "traceback": []
    }
   ],
   "source": [
    "make bernoulli"
   ]
  },
  {
   "cell_type": "code",
   "execution_count": 9,
   "metadata": {},
   "outputs": [
    {
     "name": "stdout",
     "output_type": "stream",
     "text": [
      "make: Nothing to be done for `bernoulli.stan'.\n"
     ]
    }
   ],
   "source": [
    "make bernoulli.stan"
   ]
  },
  {
   "cell_type": "markdown",
   "metadata": {},
   "source": [
    "**after loading cmdstan**"
   ]
  },
  {
   "cell_type": "code",
   "execution_count": 11,
   "metadata": {},
   "outputs": [],
   "source": [
    "module load cmdstan"
   ]
  },
  {
   "cell_type": "code",
   "execution_count": 14,
   "metadata": {},
   "outputs": [
    {
     "name": "stdout",
     "output_type": "stream",
     "text": [
      "make: Nothing to be done for `bernoulli.stan'.\n"
     ]
    }
   ],
   "source": [
    "make bernoulli.stan"
   ]
  },
  {
   "cell_type": "code",
   "execution_count": 15,
   "metadata": {},
   "outputs": [
    {
     "name": "stdout",
     "output_type": "stream",
     "text": [
      "make: *** No rule to make target `bernoulli'.  Stop.\n"
     ]
    },
    {
     "ename": "",
     "evalue": "2",
     "output_type": "error",
     "traceback": []
    }
   ],
   "source": [
    "make bernoulli"
   ]
  },
  {
   "cell_type": "code",
   "execution_count": 16,
   "metadata": {},
   "outputs": [
    {
     "name": "stdout",
     "output_type": "stream",
     "text": [
      "/usr/bin/make\n"
     ]
    }
   ],
   "source": [
    "which make"
   ]
  },
  {
   "cell_type": "code",
   "execution_count": 17,
   "metadata": {},
   "outputs": [
    {
     "name": "stdout",
     "output_type": "stream",
     "text": [
      "/nfs/software/helmod/apps/Core/cmdstan/2.12.0-fasrc01/bin/stanc\n"
     ]
    }
   ],
   "source": [
    "which stanc"
   ]
  },
  {
   "cell_type": "code",
   "execution_count": 18,
   "metadata": {},
   "outputs": [
    {
     "name": "stdout",
     "output_type": "stream",
     "text": [
      "cmdstan  libstanc.a  print  stan  stanc  stansummary\n"
     ]
    }
   ],
   "source": [
    "ls /nfs/software/helmod/apps/Core/cmdstan/2.12.0-fasrc01/bin"
   ]
  },
  {
   "cell_type": "code",
   "execution_count": 19,
   "metadata": {},
   "outputs": [
    {
     "name": "stdout",
     "output_type": "stream",
     "text": [
      "2.12.0-fasrc01\n"
     ]
    }
   ],
   "source": [
    "ls /nfs/software/helmod/apps/Core/cmdstan"
   ]
  },
  {
   "cell_type": "code",
   "execution_count": 32,
   "metadata": {},
   "outputs": [
    {
     "name": "stdout",
     "output_type": "stream",
     "text": [
      "/nfs/software/helmod/apps/Core/cmdstan/2.12.0-fasrc01/make/command\n"
     ]
    }
   ],
   "source": [
    "ls /nfs/software/helmod/apps/Core/cmdstan/2.12.0-fasrc01/make/command"
   ]
  },
  {
   "cell_type": "code",
   "execution_count": 36,
   "metadata": {},
   "outputs": [
    {
     "name": "stdout",
     "output_type": "stream",
     "text": [
      "/nfs/software/helmod/apps/Core/cmdstan/2.12.0-fasrc01/stan_2.12.0/lib/stan_math_2.12.0/make\n",
      "/nfs/software/helmod/apps/Core/cmdstan/2.12.0-fasrc01/stan_2.12.0/make\n",
      "/nfs/software/helmod/apps/Core/cmdstan/2.12.0-fasrc01/make\n"
     ]
    }
   ],
   "source": [
    "find /nfs/software/helmod/apps/Core/cmdstan -name make"
   ]
  },
  {
   "cell_type": "code",
   "execution_count": 37,
   "metadata": {},
   "outputs": [
    {
     "name": "stdout",
     "output_type": "stream",
     "text": [
      "bash: /nfs/software/helmod/apps/Core/cmdstan/2.12.0-fasrc01/stan_2.12.0/lib/stan_math_2.12.0/make: is a directory\n"
     ]
    },
    {
     "ename": "",
     "evalue": "126",
     "output_type": "error",
     "traceback": []
    }
   ],
   "source": [
    "/nfs/software/helmod/apps/Core/cmdstan/2.12.0-fasrc01/stan_2.12.0/lib/stan_math_2.12.0/make"
   ]
  },
  {
   "cell_type": "code",
   "execution_count": 38,
   "metadata": {},
   "outputs": [
    {
     "name": "stdout",
     "output_type": "stream",
     "text": [
      "bash: /nfs/software/helmod/apps/Core/cmdstan/2.12.0-fasrc01/stan_2.12.0/make: is a directory\n"
     ]
    },
    {
     "ename": "",
     "evalue": "126",
     "output_type": "error",
     "traceback": []
    }
   ],
   "source": [
    "/nfs/software/helmod/apps/Core/cmdstan/2.12.0-fasrc01/stan_2.12.0/make"
   ]
  },
  {
   "cell_type": "code",
   "execution_count": 39,
   "metadata": {},
   "outputs": [
    {
     "name": "stdout",
     "output_type": "stream",
     "text": [
      "bash: /nfs/software/helmod/apps/Core/cmdstan/2.12.0-fasrc01/make: is a directory\n"
     ]
    },
    {
     "ename": "",
     "evalue": "126",
     "output_type": "error",
     "traceback": []
    }
   ],
   "source": [
    "/nfs/software/helmod/apps/Core/cmdstan/2.12.0-fasrc01/make"
   ]
  },
  {
   "cell_type": "code",
   "execution_count": 42,
   "metadata": {},
   "outputs": [
    {
     "name": "stdout",
     "output_type": "stream",
     "text": [
      "------------------------------------------------------------\n",
      "make build\n",
      "make: *** No rule to make target `build'.  Stop.\n",
      "make build failed\n",
      "exit now (05/25/21 17:32:40 EDT)\n"
     ]
    },
    {
     "ename": "",
     "evalue": "2",
     "output_type": "error",
     "traceback": []
    }
   ],
   "source": [
    "python /nfs/software/helmod/apps/Core/cmdstan/2.12.0-fasrc01/runCmdStanTests.py ."
   ]
  },
  {
   "cell_type": "code",
   "execution_count": 44,
   "metadata": {},
   "outputs": [
    {
     "name": "stdout",
     "output_type": "stream",
     "text": [
      "Using built-in specs.\n",
      "Target: x86_64-redhat-linux\n",
      "Configured with: ../configure --prefix=/usr --mandir=/usr/share/man --infodir=/usr/share/info --with-bugurl=http://bugzilla.redhat.com/bugzilla --enable-bootstrap --enable-shared --enable-threads=posix --enable-checking=release --with-system-zlib --enable-__cxa_atexit --disable-libunwind-exceptions --enable-gnu-unique-object --enable-languages=c,c++,objc,obj-c++,java,fortran,ada --enable-java-awt=gtk --disable-dssi --with-java-home=/usr/lib/jvm/java-1.5.0-gcj-1.5.0.0/jre --enable-libgcj-multifile --enable-java-maintainer-mode --with-ecj-jar=/usr/share/java/eclipse-ecj.jar --disable-libjava-multilib --with-ppl --with-cloog --with-tune=generic --with-arch_32=i686 --build=x86_64-redhat-linux\n",
      "Thread model: posix\n",
      "gcc version 4.4.7 20120313 (Red Hat 4.4.7-17) (GCC) \n"
     ]
    }
   ],
   "source": [
    "g++ -v"
   ]
  },
  {
   "cell_type": "code",
   "execution_count": 43,
   "metadata": {},
   "outputs": [
    {
     "name": "stdout",
     "output_type": "stream",
     "text": [
      "bash: mingw32-make: command not found\n"
     ]
    },
    {
     "ename": "",
     "evalue": "127",
     "output_type": "error",
     "traceback": []
    }
   ],
   "source": [
    "mingw32-make"
   ]
  },
  {
   "cell_type": "code",
   "execution_count": 40,
   "metadata": {},
   "outputs": [
    {
     "name": "stdout",
     "output_type": "stream",
     "text": [
      "/data/reddylab/Kuei/envs/jupyterhub/bin/python\n"
     ]
    }
   ],
   "source": [
    "which python "
   ]
  },
  {
   "cell_type": "code",
   "execution_count": 34,
   "metadata": {},
   "outputs": [
    {
     "name": "stdout",
     "output_type": "stream",
     "text": [
      "#!/usr/bin/python\n",
      "\n",
      "\"\"\"\n",
      "replacement for runtest target in Makefile\n",
      "arg 1:  test dir or test file\n",
      "\"\"\"\n",
      "\n",
      "import os\n",
      "import os.path\n",
      "import platform\n",
      "import sys\n",
      "import subprocess\n",
      "import time\n",
      "\n",
      "winsfx = \".exe\"\n",
      "testsfx = \"_test.cpp\"\n",
      "debug = False\n",
      "batchSize = 25\n",
      "\n",
      "def usage():\n",
      "    sys.stdout.write('usage: %s <path/test/dir(/files)>\\n' % sys.argv[0])\n",
      "    sys.stdout.write('or\\n')\n",
      "    sys.stdout.write('       %s -j<#cores> <path/test/dir(/files)>\\n' % sys.argv[0])\n",
      "    sys.exit(0)\n",
      "\n",
      "def stopErr(msg, returncode):\n",
      "    sys.stderr.write('%s\\n' % msg)\n",
      "    sys.stderr.write('exit now (%s)\\n' % time.strftime('%x %X %Z'))\n",
      "    sys.exit(returncode)\n",
      "\n",
      "def isWin():\n",
      "    if (platform.system().lower().startswith(\"windows\")\n",
      "        or os.name.lower().startswith(\"windows\")):\n",
      "        return True\n",
      "    return False\n",
      "\n",
      "# set up good makefile target name    \n",
      "def mungeName(name):\n",
      "    if (debug):\n",
      "        print(\"munge input: %s\" % name)\n",
      "    if (name.startswith(\"src\")):\n",
      "        name = name.replace(\"src/\",\"\",1)\n",
      "    if (name.endswith(testsfx)):\n",
      "        name = name.replace(testsfx,\"_test\")\n",
      "        if (isWin()):\n",
      "            name += winsfx\n",
      "            name = name.replace(\"\\\\\",\"/\")\n",
      "\n",
      "    name = name.replace(\" \", \"\\\\ \").replace(\"(\",\"\\\\(\").replace(\")\",\"\\\\)\")\n",
      "    if (debug):\n",
      "        print(\"munge return: %s\" % name)\n",
      "    return name\n",
      "\n",
      "\n",
      "def doCommand(command):\n",
      "    print(\"------------------------------------------------------------\")\n",
      "    print(\"%s\" % command)\n",
      "    p1 = subprocess.Popen(command,shell=True)\n",
      "    p1.wait()\n",
      "    if (not(p1.returncode == None) and not(p1.returncode == 0)):\n",
      "        stopErr('%s failed' % command, p1.returncode)\n",
      "\n",
      "def makeTest(name, j):\n",
      "    target = mungeName(name)\n",
      "    if (j == None):\n",
      "        command = 'make %s' % target\n",
      "    else:\n",
      "        command = 'make -j%d %s' % (j,target)\n",
      "    doCommand(command)\n",
      "\n",
      "def makeBuild(j):\n",
      "    if (j == None):\n",
      "        command = 'make build'\n",
      "    else:\n",
      "        command = 'make -j%d build' % j\n",
      "    doCommand(command)\n",
      "\n",
      "\n",
      "def makeTestModel(target, j):\n",
      "    if (j == None):\n",
      "        command = 'make %s' % target\n",
      "    else:\n",
      "        command = 'make -j%d %s' % (j,target)\n",
      "    doCommand(command)\n",
      "\n",
      "    \n",
      "def makeTests(dirname, filenames, j):\n",
      "    targets = list()\n",
      "    for name in filenames:\n",
      "        if (not name.endswith(testsfx)):\n",
      "            continue\n",
      "        target = \"/\".join([dirname,name])\n",
      "        target = mungeName(target)\n",
      "        targets.append(target)\n",
      "    if (len(targets) > 0):\n",
      "        if (debug):\n",
      "            print('# targets: %d' % len(targets))\n",
      "        startIdx = 0\n",
      "        endIdx = batchSize\n",
      "        while (startIdx < len(targets)):\n",
      "            if (j == None):\n",
      "                command = 'make %s' % ' '.join(targets[startIdx:endIdx])\n",
      "            else:\n",
      "                command = 'make -j%d %s' % (j,' '.join(targets[startIdx:endIdx]))\n",
      "            if (debug):\n",
      "                print('start %d, end %d' % (startIdx,endIdx))\n",
      "                print(command)\n",
      "            doCommand(command)\n",
      "            startIdx = endIdx\n",
      "            endIdx = startIdx + batchSize\n",
      "            if (endIdx > len(targets)):\n",
      "                endIdx = len(targets)\n",
      "         \n",
      "\n",
      "def runTest(name):\n",
      "    executable = mungeName(name).replace(\"/\",os.sep)\n",
      "    xml = mungeName(name).replace(winsfx, \"\")\n",
      "    command = '%s --gtest_output=\"xml:%s.xml\"' % (executable, xml)\n",
      "    doCommand(command)\n",
      "\n",
      "def main():\n",
      "    if (len(sys.argv) < 2):\n",
      "        usage()\n",
      "\n",
      "    argsIdx = 1\n",
      "    j = None\n",
      "    if (sys.argv[1].startswith(\"-j\")):\n",
      "        argsIdx = 2\n",
      "        if (len(sys.argv) < 3):\n",
      "            usage()\n",
      "        else:\n",
      "            j = sys.argv[1].replace(\"-j\",\"\")\n",
      "            try:\n",
      "                jprime = int(j)\n",
      "                if (jprime < 1 or jprime > 16):\n",
      "                    stopErr(\"bad value for -j flag\",-1)                    \n",
      "                j = jprime\n",
      "            except ValueError:\n",
      "                stopErr(\"bad value for -j flag\",-1)\n",
      "\n",
      "\n",
      "    # pass 0:  make build\n",
      "    makeBuild(j)\n",
      "\n",
      "    # pass 1:  call make to compile test targets\n",
      "    for i in range(argsIdx,len(sys.argv)):\n",
      "        testname = sys.argv[i]\n",
      "        if (debug):\n",
      "            print(\"testname: %s\" % testname)\n",
      "        if (not(os.path.exists(testname))):\n",
      "            stopErr('%s: no such file or directory' % testname,-1)\n",
      "        if (not(os.path.isdir(testname))):\n",
      "            if (not(testname.endswith(testsfx))):\n",
      "                stopErr('%s: not a testfile' % testname,-1)\n",
      "            if (debug):\n",
      "                print(\"make single test: %s\" % testname)\n",
      "            makeTest(testname,j)\n",
      "        else:\n",
      "            for root, dirs, files in os.walk(testname):\n",
      "                if (debug):\n",
      "                    print(\"make root: %s\" % root)\n",
      "                makeTests(root,files,j)\n",
      "\n",
      "    # pass 2:  run test targets\n",
      "    for i in range(argsIdx,len(sys.argv)):\n",
      "        testname = sys.argv[i]\n",
      "        if (not(os.path.isdir(testname))):\n",
      "            if (debug):\n",
      "                print(\"run single test: %s\" % testname)\n",
      "            runTest(testname)\n",
      "        else:\n",
      "            for root, dirs, files in os.walk(testname):\n",
      "                for name in files:\n",
      "                    if (name.endswith(testsfx)):\n",
      "                        if (debug):\n",
      "                            print(\"run dir,test: %s,%s\" % (root,name))\n",
      "                        runTest(os.sep.join([root,name]))\n",
      "\n",
      "    \n",
      "if __name__ == \"__main__\":\n",
      "    main()\n"
     ]
    }
   ],
   "source": [
    "cat /nfs/software/helmod/apps/Core/cmdstan/2.12.0-fasrc01/runCmdStanTests.py"
   ]
  },
  {
   "cell_type": "code",
   "execution_count": 26,
   "metadata": {},
   "outputs": [
    {
     "name": "stdout",
     "output_type": "stream",
     "text": [
      "diff_manual.sh\tlib\t  make\t    README.md\t       runTests.py\n",
      "doc\t\tlicenses  makefile  RELEASE-NOTES.txt  src\n"
     ]
    }
   ],
   "source": [
    "ls /nfs/software/helmod/apps/Core/cmdstan/2.12.0-fasrc01/stan_2.12.0"
   ]
  },
  {
   "cell_type": "code",
   "execution_count": 30,
   "metadata": {},
   "outputs": [
    {
     "name": "stdout",
     "output_type": "stream",
     "text": [
      "total 1152\n",
      "-rw-r--r--. 1 root root   315 Nov 14  2017 cpplint\n",
      "-rw-r--r--. 1 root root   538 Nov 14  2017 detect_cc\n",
      "-rw-r--r--. 1 root root   566 Nov 14  2017 detect_os\n",
      "-rw-r--r--. 1 root root    77 Nov 14  2017 doxygen\n",
      "-rw-r--r--. 1 root root   448 Nov 14  2017 libstan\n",
      "-rw-r--r--. 1 root root  1765 Nov 14  2017 manual\n",
      "-rw-r--r--. 1 root root   799 Nov 14  2017 os_linux\n",
      "-rw-r--r--. 1 root root   845 Nov 14  2017 os_mac\n",
      "-rw-r--r--. 1 root root   995 Nov 14  2017 os_win\n",
      "-rw-r--r--. 1 root root 10771 Nov 14  2017 tests\n"
     ]
    }
   ],
   "source": [
    "ls -l /nfs/software/helmod/apps/Core/cmdstan/2.12.0-fasrc01/stan_2.12.0/make"
   ]
  },
  {
   "cell_type": "code",
   "execution_count": 25,
   "metadata": {},
   "outputs": [
    {
     "name": "stdout",
     "output_type": "stream",
     "text": [
      "bernoulli.data.R  bernoulli.stan\n"
     ]
    }
   ],
   "source": [
    "ls /nfs/software/helmod/apps/Core/cmdstan/2.12.0-fasrc01/examples/bernoulli"
   ]
  },
  {
   "cell_type": "code",
   "execution_count": 20,
   "metadata": {},
   "outputs": [
    {
     "name": "stdout",
     "output_type": "stream",
     "text": [
      "bin  examples  make\t modulefile.lua  runCmdStanTests.py  stan_2.12.0\n",
      "doc  LICENSE   makefile  README.md\t src\t\t     test-all.sh\n"
     ]
    }
   ],
   "source": [
    "ls /nfs/software/helmod/apps/Core/cmdstan/2.12.0-fasrc01"
   ]
  },
  {
   "cell_type": "code",
   "execution_count": 22,
   "metadata": {},
   "outputs": [
    {
     "name": "stdout",
     "output_type": "stream",
     "text": [
      "command  libstan  models  os_linux  os_mac  os_win  tests\n"
     ]
    }
   ],
   "source": [
    "ls /nfs/software/helmod/apps/Core/cmdstan/2.12.0-fasrc01/make"
   ]
  },
  {
   "cell_type": "code",
   "execution_count": 23,
   "metadata": {},
   "outputs": [
    {
     "name": "stdout",
     "output_type": "stream",
     "text": [
      "<a href=\"http://mc-stan.org\">\n",
      "<img src=\"https://raw.githubusercontent.com/stan-dev/logos/master/logo.png\" width=200 alt=\"Stan Logo\"/>\n",
      "</a>\n",
      "\n",
      "# CmdStan\n",
      "\n",
      "<b>CmdStan</b> is the command line interface to Stan, a C++ package providing\n",
      "\n",
      "* full Bayesian inference using the No-U-Turn sampler (NUTS), a variant of Hamiltonian Monte Carlo (HMC),\n",
      "* approximate Bayesian inference using automatic differentiation variational inference (ADVI),\n",
      "* penalized maximum likelihood estimation (MLE) using L-BFGS optimization,\n",
      "* a full first- and higher-order automatic differentiation library based on C++ template overloads, and\n",
      "* a supporting fully-templated matrix, linear algebra, and probability special function library.\n",
      "\n",
      "### Home Page\n",
      "Stan's home page, with links to everything you'll need to use Stan is:\n",
      "\n",
      "[http://mc-stan.org/](http://mc-stan.org/)\n",
      "\n",
      "### Interfaces\n",
      "There are separate repositories here on GitHub for interfaces:\n",
      "* RStan (R interface)\n",
      "* PyStan (Python interface)\n",
      "* CmdStan (command-line/shell interface)\n",
      "\n",
      "### Source Repository\n",
      "CmdStan's source-code repository is hosted here on GitHub.\n",
      "\n",
      "### Licensing\n",
      "The core Stan C++ code and CmdStan are licensed under new BSD.\n",
      "\n",
      "\n",
      "## Installation\n",
      "1. Download the latest release tarball (use the \"green\" link) from: [CmdStan releases](https://github.com/stan-dev/cmdstan/releases)\n",
      "2. Unpack the tarball.\n",
      "3. From the folder, type `make` for a quick tutorial on how to build models.\n",
      "\n",
      "## Installation using git\n",
      "See [Getting Started with\n",
      "CmdStan](https://github.com/stan-dev/cmdstan/wiki/Getting-Started-with-CmdStan) for instructions how to clone both CmdStan and Stan submodule.\n"
     ]
    }
   ],
   "source": [
    "cat /nfs/software/helmod/apps/Core/cmdstan/2.12.0-fasrc01/README.md"
   ]
  },
  {
   "cell_type": "code",
   "execution_count": null,
   "metadata": {},
   "outputs": [],
   "source": []
  }
 ],
 "metadata": {
  "kernelspec": {
   "display_name": "Bash",
   "language": "bash",
   "name": "bash"
  },
  "language_info": {
   "codemirror_mode": "shell",
   "file_extension": ".sh",
   "mimetype": "text/x-sh",
   "name": "bash"
  }
 },
 "nbformat": 4,
 "nbformat_minor": 4
}
