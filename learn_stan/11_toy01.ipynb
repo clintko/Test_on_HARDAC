{
 "cells": [
  {
   "cell_type": "markdown",
   "metadata": {},
   "source": [
    "## Construct and compile model"
   ]
  },
  {
   "cell_type": "code",
   "execution_count": 1,
   "metadata": {},
   "outputs": [],
   "source": [
    "%%bash\n",
    "mkdir -p ./ex_toy01"
   ]
  },
  {
   "cell_type": "code",
   "execution_count": 2,
   "metadata": {},
   "outputs": [],
   "source": [
    "%%bash\n",
    "cat > ./ex_toy01/normal.stan << EOF\n",
    "// DATA BLOCK | inputs to the model\n",
    "data {\n",
    "    int<lower=1> N; // number of data points; lower = 1 means to constrain N > 0\n",
    "    real X[N];      // X[i] = gene expression for individual i\n",
    "}\n",
    "\n",
    "// PARAMETERS block = latent variables\n",
    "parameters {\n",
    "    real mu;                 // mu = mean expression value\n",
    "    real<lower=0.001> sigma; // sigma = variance of expression values <lower=0.001> constrains sigma > 0\n",
    "}\n",
    "\n",
    "// MODEL BLOCK = priors and likelihoods\n",
    "model {\n",
    "    mu ~ normal(0,10);\n",
    "    sigma ~ inv_gamma(1,1);\n",
    "    for (i in 1:N) X[i] ~ normal(mu, sigma);\n",
    "}\n",
    "EOF"
   ]
  },
  {
   "cell_type": "code",
   "execution_count": 24,
   "metadata": {},
   "outputs": [],
   "source": [
    "%%bash\n",
    "cat > ./ex_toy01/normal.stan << EOF\n",
    "data {\n",
    "    int<lower=1> N;\n",
    "    real X[N];\n",
    "}\n",
    "\n",
    "parameters {\n",
    "    real mu;\n",
    "    real<lower=0.001> sigma;\n",
    "}\n",
    "\n",
    "model {\n",
    "    mu ~ normal(0,10);\n",
    "    sigma ~ inv_gamma(1,1);\n",
    "    for (i in 1:N) X[i] ~ normal(mu, sigma);\n",
    "}\n",
    "EOF"
   ]
  },
  {
   "cell_type": "code",
   "execution_count": 25,
   "metadata": {},
   "outputs": [
    {
     "name": "stdout",
     "output_type": "stream",
     "text": [
      "/gpfs/fs1/data/reddylab/Kuei/learn/learn_stan\n",
      "make: Entering directory `/gpfs/fs1/data/reddylab/Kuei/exe/cmdstan'\n",
      "\n",
      "--- Translating Stan model to C++ code ---\n",
      "bin/stanc  --o=/gpfs/fs1/data/reddylab/Kuei/learn/learn_stan/ex_toy01/normal.hpp /gpfs/fs1/data/reddylab/Kuei/learn/learn_stan/ex_toy01/normal.stan\n",
      "\n",
      "--- Compiling, linking C++ code ---\n",
      "g++ -std=c++1y -pthread -D_REENTRANT -Wno-sign-compare -Wno-ignored-attributes      -I stan/lib/stan_math/lib/tbb_2020.3/include   -O3 -I src -I stan/src -I lib/rapidjson_1.1.0/ -I lib/CLI11-1.9.1/ -I stan/lib/stan_math/ -I stan/lib/stan_math/lib/eigen_3.3.9 -I stan/lib/stan_math/lib/boost_1.75.0 -I stan/lib/stan_math/lib/sundials_5.7.0/include    -DBOOST_DISABLE_ASSERTS         -c -Wno-ignored-attributes   -x c++ -o /gpfs/fs1/data/reddylab/Kuei/learn/learn_stan/ex_toy01/normal.o /gpfs/fs1/data/reddylab/Kuei/learn/learn_stan/ex_toy01/normal.hpp\n",
      "g++ -std=c++1y -pthread -D_REENTRANT -Wno-sign-compare -Wno-ignored-attributes      -I stan/lib/stan_math/lib/tbb_2020.3/include   -O3 -I src -I stan/src -I lib/rapidjson_1.1.0/ -I lib/CLI11-1.9.1/ -I stan/lib/stan_math/ -I stan/lib/stan_math/lib/eigen_3.3.9 -I stan/lib/stan_math/lib/boost_1.75.0 -I stan/lib/stan_math/lib/sundials_5.7.0/include    -DBOOST_DISABLE_ASSERTS               -Wl,-L,\"/nfs/software/helmod/apps/Core/tbb/4.4-fasrc02/lib\" -Wl,-rpath,\"/nfs/software/helmod/apps/Core/tbb/4.4-fasrc02/lib\" -ltbb    /gpfs/fs1/data/reddylab/Kuei/learn/learn_stan/ex_toy01/normal.o src/cmdstan/main.o        -Wl,-L,\"/nfs/software/helmod/apps/Core/tbb/4.4-fasrc02/lib\" -Wl,-rpath,\"/nfs/software/helmod/apps/Core/tbb/4.4-fasrc02/lib\" -ltbb stan/lib/stan_math/lib/sundials_5.7.0/lib/libsundials_nvecserial.a stan/lib/stan_math/lib/sundials_5.7.0/lib/libsundials_cvodes.a stan/lib/stan_math/lib/sundials_5.7.0/lib/libsundials_idas.a stan/lib/stan_math/lib/sundials_5.7.0/lib/libsundials_kinsol.a   -o /gpfs/fs1/data/reddylab/Kuei/learn/learn_stan/ex_toy01/normal\n",
      "rm -f /gpfs/fs1/data/reddylab/Kuei/learn/learn_stan/ex_toy01/normal.o\n",
      "make: Leaving directory `/gpfs/fs1/data/reddylab/Kuei/exe/cmdstan'\n"
     ]
    }
   ],
   "source": [
    "%%bash\n",
    "### load modules\n",
    "module load gcc\n",
    "module load tbb\n",
    "\n",
    "### set directory\n",
    "STAN_PATH=/data/reddylab/Kuei/exe/cmdstan\n",
    "FD_WRK=$(pwd)\n",
    "echo $FD_WRK\n",
    "\n",
    "### compile model\n",
    "make -C $STAN_PATH ${FD_WRK}/ex_toy01/normal"
   ]
  },
  {
   "cell_type": "markdown",
   "metadata": {},
   "source": [
    "## Generate data"
   ]
  },
  {
   "cell_type": "code",
   "execution_count": 1,
   "metadata": {},
   "outputs": [],
   "source": [
    "import numpy as np\n",
    "import json"
   ]
  },
  {
   "cell_type": "code",
   "execution_count": 2,
   "metadata": {},
   "outputs": [
    {
     "name": "stdout",
     "output_type": "stream",
     "text": [
      "Mean: -1.0\n",
      "SD:   0.36\n"
     ]
    }
   ],
   "source": [
    "### simulation\n",
    "np.random.seed(123)\n",
    "neg = np.random.normal(loc=-1, scale=0.3, size=50)\n",
    "print(\"Mean:\", np.around(neg.mean(), 2))\n",
    "print(\"SD:  \", np.around(neg.std(),  2))"
   ]
  },
  {
   "cell_type": "code",
   "execution_count": 6,
   "metadata": {},
   "outputs": [],
   "source": [
    "### generate data file\n",
    "dct = dict()\n",
    "dct[\"N\"] = 50\n",
    "dct[\"X\"] = neg.tolist()\n",
    "\n",
    "### store the data\n",
    "fpath = \"./ex_toy01/inputs.json\"\n",
    "with open(fpath, \"w\") as file:\n",
    "    json.dump(dct, file)"
   ]
  },
  {
   "cell_type": "code",
   "execution_count": 7,
   "metadata": {},
   "outputs": [
    {
     "name": "stdout",
     "output_type": "stream",
     "text": [
      "{\"N\": 50, \"X\": [-1.3256891809901683, -0.7007963660249243, -0.9151064505844024, -1.4518884141754276, -1.173580075590561, -0.5045690388708547, -1.7280037730179223, -1.1286737886568532, -0.6202191223883398, -1.2600221206795306, -1.2036658454866163, -1.0284126906810673, -0.5525831121627136, -1.1916705990053953, -1.1331945878938197, -1.1303053826855551, -0.33822097518236327, -0.343964173307864, -0.6987838306363369, -0.8841440802475432, -0.7787894272311273, -0.5527803915547603, -1.2807501605207174, -0.647251286565369, -1.3761642003247037, -1.1913254507360231, -0.7278684412599097, -1.4286042100677907, -1.0420206160566, -1.2585264687579056, -1.076685811159179, -1.8395767316382172, -1.5314599313529542, -1.2099631703793752, -0.7217612704724252, -1.0520907048370647, -0.9991462252309566, -0.7935331866693145, -1.2638609029027155, -0.9149118028578127, -1.2416099554196847, -1.5183008482361822, -1.1172699381265303, -0.8278582412784827, -0.8984232847000595, -1.0035491483436458, -0.2822904202186822, -0.8761263519073663, -0.706379198218796, -0.32855699845061415]}"
     ]
    }
   ],
   "source": [
    "%%bash\n",
    "cat ./ex_toy01/inputs.json"
   ]
  },
  {
   "cell_type": "markdown",
   "metadata": {},
   "source": [
    "## Running the model"
   ]
  },
  {
   "cell_type": "code",
   "execution_count": 14,
   "metadata": {},
   "outputs": [],
   "source": [
    "%%bash\n",
    "cat > ./ex_toy01/init.json << EOF\n",
    "{\n",
    "    \"mu\" :   -0.67,\n",
    "    \"sigma\":  2.5\n",
    "}\n",
    "EOF"
   ]
  },
  {
   "cell_type": "markdown",
   "metadata": {},
   "source": [
    "after several testing, \n",
    "- init.json, init.txt --- passed\n",
    "- output.txt, output.csv --- passed\n",
    "- inputs.json ---passed\n",
    "- inputs.txt --- failed\n",
    "    - Error: Exception: variable does not exist"
   ]
  },
  {
   "cell_type": "code",
   "execution_count": 15,
   "metadata": {},
   "outputs": [
    {
     "name": "stdout",
     "output_type": "stream",
     "text": [
      "method = sample (Default)\n",
      "  sample\n",
      "    num_samples = 1000 (Default)\n",
      "    num_warmup = 50\n",
      "    save_warmup = 0 (Default)\n",
      "    thin = 1 (Default)\n",
      "    adapt\n",
      "      engaged = 1 (Default)\n",
      "      gamma = 0.050000000000000003 (Default)\n",
      "      delta = 0.80000000000000004 (Default)\n",
      "      kappa = 0.75 (Default)\n",
      "      t0 = 10 (Default)\n",
      "      init_buffer = 75 (Default)\n",
      "      term_buffer = 50 (Default)\n",
      "      window = 25 (Default)\n",
      "    algorithm = hmc (Default)\n",
      "      hmc\n",
      "        engine = nuts (Default)\n",
      "          nuts\n",
      "            max_depth = 10 (Default)\n",
      "        metric = diag_e (Default)\n",
      "        metric_file =  (Default)\n",
      "        stepsize = 1 (Default)\n",
      "        stepsize_jitter = 0 (Default)\n",
      "id = 0 (Default)\n",
      "data\n",
      "  file = ./ex_toy01/inputs.json\n",
      "init = ./ex_toy01/init.json\n",
      "random\n",
      "  seed = 2996367183 (Default)\n",
      "output\n",
      "  file = ./ex_toy01/output.csv\n",
      "  diagnostic_file =  (Default)\n",
      "  refresh = 100 (Default)\n",
      "  sig_figs = -1 (Default)\n",
      "  profile_file = profile.csv (Default)\n",
      "\n",
      "\n",
      "Gradient evaluation took 3.7e-05 seconds\n",
      "1000 transitions using 10 leapfrog steps per transition would take 0.37 seconds.\n",
      "Adjust your expectations accordingly!\n",
      "\n",
      "\n",
      "WARNING: There aren't enough warmup iterations to fit the\n",
      "         three stages of adaptation as currently configured.\n",
      "         Reducing each adaptation stage to 15%/75%/10% of\n",
      "         the given number of warmup iterations:\n",
      "           init_buffer = 7\n",
      "           adapt_window = 38\n",
      "           term_buffer = 5\n",
      "\n",
      "Iteration:    1 / 1050 [  0%]  (Warmup)\n",
      "Iteration:   51 / 1050 [  4%]  (Sampling)\n",
      "Iteration:  150 / 1050 [ 14%]  (Sampling)\n",
      "Iteration:  250 / 1050 [ 23%]  (Sampling)\n",
      "Iteration:  350 / 1050 [ 33%]  (Sampling)\n",
      "Iteration:  450 / 1050 [ 42%]  (Sampling)\n",
      "Iteration:  550 / 1050 [ 52%]  (Sampling)\n",
      "Iteration:  650 / 1050 [ 61%]  (Sampling)\n",
      "Iteration:  750 / 1050 [ 71%]  (Sampling)\n",
      "Iteration:  850 / 1050 [ 80%]  (Sampling)\n",
      "Iteration:  950 / 1050 [ 90%]  (Sampling)\n",
      "Iteration: 1050 / 1050 [100%]  (Sampling)\n",
      "\n",
      " Elapsed Time: 0.003 seconds (Warm-up)\n",
      "               0.066 seconds (Sampling)\n",
      "               0.069 seconds (Total)\n",
      "\n"
     ]
    }
   ],
   "source": [
    "%%bash\n",
    "module load gcc\n",
    "./ex_toy01/normal sample \\\n",
    "    thin=1 num_samples=1000 num_warmup=50 \\\n",
    "    init=./ex_toy01/init.json \\\n",
    "    data file=./ex_toy01/inputs.json \\\n",
    "    output file=./ex_toy01/output.csv"
   ]
  },
  {
   "cell_type": "code",
   "execution_count": 16,
   "metadata": {},
   "outputs": [],
   "source": [
    "import pandas as pd"
   ]
  },
  {
   "cell_type": "code",
   "execution_count": 18,
   "metadata": {},
   "outputs": [
    {
     "data": {
      "text/html": [
       "<div>\n",
       "<style scoped>\n",
       "    .dataframe tbody tr th:only-of-type {\n",
       "        vertical-align: middle;\n",
       "    }\n",
       "\n",
       "    .dataframe tbody tr th {\n",
       "        vertical-align: top;\n",
       "    }\n",
       "\n",
       "    .dataframe thead th {\n",
       "        text-align: right;\n",
       "    }\n",
       "</style>\n",
       "<table border=\"1\" class=\"dataframe\">\n",
       "  <thead>\n",
       "    <tr style=\"text-align: right;\">\n",
       "      <th></th>\n",
       "      <th>lp__</th>\n",
       "      <th>accept_stat__</th>\n",
       "      <th>stepsize__</th>\n",
       "      <th>treedepth__</th>\n",
       "      <th>n_leapfrog__</th>\n",
       "      <th>divergent__</th>\n",
       "      <th>energy__</th>\n",
       "      <th>mu</th>\n",
       "      <th>sigma</th>\n",
       "    </tr>\n",
       "  </thead>\n",
       "  <tbody>\n",
       "    <tr>\n",
       "      <th>0</th>\n",
       "      <td>23.4146</td>\n",
       "      <td>1.000000</td>\n",
       "      <td>0.048678</td>\n",
       "      <td>2</td>\n",
       "      <td>3</td>\n",
       "      <td>0</td>\n",
       "      <td>-22.9104</td>\n",
       "      <td>-0.937924</td>\n",
       "      <td>0.416687</td>\n",
       "    </tr>\n",
       "    <tr>\n",
       "      <th>1</th>\n",
       "      <td>23.7135</td>\n",
       "      <td>0.975547</td>\n",
       "      <td>0.048678</td>\n",
       "      <td>2</td>\n",
       "      <td>7</td>\n",
       "      <td>0</td>\n",
       "      <td>-21.0652</td>\n",
       "      <td>-1.042000</td>\n",
       "      <td>0.328202</td>\n",
       "    </tr>\n",
       "    <tr>\n",
       "      <th>2</th>\n",
       "      <td>23.7220</td>\n",
       "      <td>0.843871</td>\n",
       "      <td>0.048678</td>\n",
       "      <td>1</td>\n",
       "      <td>3</td>\n",
       "      <td>0</td>\n",
       "      <td>-19.9682</td>\n",
       "      <td>-1.070290</td>\n",
       "      <td>0.375400</td>\n",
       "    </tr>\n",
       "    <tr>\n",
       "      <th>3</th>\n",
       "      <td>23.1078</td>\n",
       "      <td>0.953922</td>\n",
       "      <td>0.048678</td>\n",
       "      <td>2</td>\n",
       "      <td>7</td>\n",
       "      <td>0</td>\n",
       "      <td>-22.3241</td>\n",
       "      <td>-0.928821</td>\n",
       "      <td>0.422067</td>\n",
       "    </tr>\n",
       "    <tr>\n",
       "      <th>4</th>\n",
       "      <td>23.4930</td>\n",
       "      <td>0.991094</td>\n",
       "      <td>0.048678</td>\n",
       "      <td>2</td>\n",
       "      <td>7</td>\n",
       "      <td>0</td>\n",
       "      <td>-22.4581</td>\n",
       "      <td>-1.062140</td>\n",
       "      <td>0.336925</td>\n",
       "    </tr>\n",
       "  </tbody>\n",
       "</table>\n",
       "</div>"
      ],
      "text/plain": [
       "      lp__  accept_stat__  stepsize__  treedepth__  n_leapfrog__  divergent__  \\\n",
       "0  23.4146       1.000000    0.048678            2             3            0   \n",
       "1  23.7135       0.975547    0.048678            2             7            0   \n",
       "2  23.7220       0.843871    0.048678            1             3            0   \n",
       "3  23.1078       0.953922    0.048678            2             7            0   \n",
       "4  23.4930       0.991094    0.048678            2             7            0   \n",
       "\n",
       "   energy__        mu     sigma  \n",
       "0  -22.9104 -0.937924  0.416687  \n",
       "1  -21.0652 -1.042000  0.328202  \n",
       "2  -19.9682 -1.070290  0.375400  \n",
       "3  -22.3241 -0.928821  0.422067  \n",
       "4  -22.4581 -1.062140  0.336925  "
      ]
     },
     "execution_count": 18,
     "metadata": {},
     "output_type": "execute_result"
    }
   ],
   "source": [
    "dat = pd.read_csv(\"./ex_toy01/output.csv\", comment='#')\n",
    "dat.head()"
   ]
  },
  {
   "cell_type": "code",
   "execution_count": 19,
   "metadata": {},
   "outputs": [
    {
     "data": {
      "text/plain": [
       "<AxesSubplot:>"
      ]
     },
     "execution_count": 19,
     "metadata": {},
     "output_type": "execute_result"
    },
    {
     "data": {
      "image/png": "[encoded data removed]",
      "text/plain": [
       "<Figure size 432x288 with 1 Axes>"
      ]
     },
     "metadata": {
      "needs_background": "light"
     },
     "output_type": "display_data"
    }
   ],
   "source": [
    "dat.mu.hist()"
   ]
  },
  {
   "cell_type": "code",
   "execution_count": null,
   "metadata": {},
   "outputs": [],
   "source": []
  }
 ],
 "metadata": {
  "kernelspec": {
   "display_name": "Python 3",
   "language": "python",
   "name": "python3"
  },
  "language_info": {
   "codemirror_mode": {
    "name": "ipython",
    "version": 3
   },
   "file_extension": ".py",
   "mimetype": "text/x-python",
   "name": "python",
   "nbconvert_exporter": "python",
   "pygments_lexer": "ipython3",
   "version": "3.6.12"
  }
 },
 "nbformat": 4,
 "nbformat_minor": 4
}
