{
 "cells": [
  {
   "cell_type": "code",
   "execution_count": 1,
   "metadata": {},
   "outputs": [],
   "source": [
    "module load gcc"
   ]
  },
  {
   "cell_type": "code",
   "execution_count": 2,
   "metadata": {},
   "outputs": [
    {
     "name": "stdout",
     "output_type": "stream",
     "text": [
      "/gpfs/fs1/data/reddylab/Kuei/learn/learn_stan/cmdstan-2.26.1\n"
     ]
    }
   ],
   "source": [
    "cd cmdstan-2.26.1\n",
    "pwd"
   ]
  },
  {
   "cell_type": "code",
   "execution_count": 3,
   "metadata": {},
   "outputs": [
    {
     "name": "stdout",
     "output_type": "stream",
     "text": [
      "touch stan/lib/stan_math/lib/tbb/version_tbb_2019_U8\n",
      "tbb_root=\"../tbb_2019_U8\" CXX=\"g++\" CC=\"gcc\" LDFLAGS='-Wl,-L,\"/gpfs/fs1/data/reddylab/Kuei/learn/learn_stan/cmdstan-2.26.1/stan/lib/stan_math/lib/tbb\" -Wl,-rpath,\"/gpfs/fs1/data/reddylab/Kuei/learn/learn_stan/cmdstan-2.26.1/stan/lib/stan_math/lib/tbb\"  ' 'make' -C \"stan/lib/stan_math/lib/tbb\" -r -f \"/gpfs/fs1/data/reddylab/Kuei/learn/learn_stan/cmdstan-2.26.1/stan/lib/stan_math/lib/tbb_2019_U8/build/Makefile.tbb\" compiler=gcc cfg=release stdver=c++1y  CXXFLAGS=\"-Wno-unknown-warning-option -Wno-missing-attributes -Wno-class-memaccess -Wno-sized-deallocation  \"\n",
      "make[1]: Entering directory `/gpfs/fs1/data/reddylab/Kuei/learn/learn_stan/cmdstan-2.26.1/stan/lib/stan_math/lib/tbb'\n",
      "/gpfs/fs1/data/reddylab/Kuei/learn/learn_stan/cmdstan-2.26.1/stan/lib/stan_math/lib/tbb_2019_U8/build/Makefile.tbb:28: CONFIG: cfg=release arch=intel64 compiler=gcc target=linux runtime=cc7.3.0_libc2.12_kernel2.6.32\n",
      "g++ -o x86_rtm_rw_mutex.o -c -MMD -DDO_ITT_NOTIFY -O2 -DUSE_PTHREAD -m64 -mrtm  -fPIC -flifetime-dse=1 -D__TBB_BUILD=1 -Wall -Wextra -Wno-parentheses -Wno-sized-deallocation -Wno-unknown-warning-option -Wno-missing-attributes -Wno-class-memaccess -Wno-sized-deallocation   -std=c++1y  -I../tbb_2019_U8/src -I../tbb_2019_U8/src/rml/include -I../tbb_2019_U8/include ../tbb_2019_U8/src/tbb/x86_rtm_rw_mutex.cpp\n",
      "/tmp/cccVjGru.s: Assembler messages:\n",
      "/tmp/cccVjGru.s:16: Error: no such instruction: `xend'\n",
      "/tmp/cccVjGru.s:86: Error: no such instruction: `xbegin .L23'\n",
      "/tmp/cccVjGru.s:130: Error: no such instruction: `xabort $255'\n",
      "/tmp/cccVjGru.s:223: Error: no such instruction: `xbegin .L42'\n",
      "/tmp/cccVjGru.s:276: Error: no such instruction: `xabort $255'\n",
      "make[1]: *** [x86_rtm_rw_mutex.o] Error 1\n",
      "make[1]: Leaving directory `/gpfs/fs1/data/reddylab/Kuei/learn/learn_stan/cmdstan-2.26.1/stan/lib/stan_math/lib/tbb'\n",
      "make: *** [stan/lib/stan_math/lib/tbb/tbb.def] Error 2\n"
     ]
    },
    {
     "ename": "",
     "evalue": "2",
     "output_type": "error",
     "traceback": []
    }
   ],
   "source": [
    "make examples/bernoulli/bernoulli"
   ]
  },
  {
   "cell_type": "code",
   "execution_count": 4,
   "metadata": {},
   "outputs": [],
   "source": [
    "module load tbb"
   ]
  },
  {
   "cell_type": "code",
   "execution_count": 5,
   "metadata": {},
   "outputs": [
    {
     "name": "stdout",
     "output_type": "stream",
     "text": [
      "\n",
      "--- Compiling, linking C++ code ---\n",
      "g++ -std=c++1y -pthread -D_REENTRANT -Wno-sign-compare -Wno-ignored-attributes      -I stan/lib/stan_math/lib/tbb_2019_U8/include   -O3 -I src -I stan/src -I lib/rapidjson_1.1.0/ -I lib/CLI11-1.9.1/ -I stan/lib/stan_math/ -I stan/lib/stan_math/lib/eigen_3.3.9 -I stan/lib/stan_math/lib/boost_1.72.0 -I stan/lib/stan_math/lib/sundials_5.6.1/include    -DBOOST_DISABLE_ASSERTS         -c -Wno-ignored-attributes   -x c++ -o examples/bernoulli/bernoulli.o examples/bernoulli/bernoulli.hpp\n",
      "g++ -std=c++1y -pthread -D_REENTRANT -Wno-sign-compare -Wno-ignored-attributes      -I stan/lib/stan_math/lib/tbb_2019_U8/include   -O3 -I src -I stan/src -I lib/rapidjson_1.1.0/ -I lib/CLI11-1.9.1/ -I stan/lib/stan_math/ -I stan/lib/stan_math/lib/eigen_3.3.9 -I stan/lib/stan_math/lib/boost_1.72.0 -I stan/lib/stan_math/lib/sundials_5.6.1/include    -DBOOST_DISABLE_ASSERTS               -Wl,-L,\"/nfs/software/helmod/apps/Core/tbb/4.4-fasrc02/lib\" -Wl,-rpath,\"/nfs/software/helmod/apps/Core/tbb/4.4-fasrc02/lib -ltbb\"    examples/bernoulli/bernoulli.o src/cmdstan/main.o         stan/lib/stan_math/lib/sundials_5.6.1/lib/libsundials_nvecserial.a stan/lib/stan_math/lib/sundials_5.6.1/lib/libsundials_cvodes.a stan/lib/stan_math/lib/sundials_5.6.1/lib/libsundials_idas.a stan/lib/stan_math/lib/sundials_5.6.1/lib/libsundials_kinsol.a   -o examples/bernoulli/bernoulli\n",
      "examples/bernoulli/bernoulli.o: In function `tbb::internal::task_scheduler_observer_v3::~task_scheduler_observer_v3()':\n",
      "bernoulli.hpp:(.text._ZN3tbb8internal26task_scheduler_observer_v3D2Ev[_ZN3tbb8internal26task_scheduler_observer_v3D5Ev]+0x11): undefined reference to `tbb::internal::task_scheduler_observer_v3::observe(bool)'\n",
      "examples/bernoulli/bernoulli.o: In function `tbb::internal::task_scheduler_observer_v3::~task_scheduler_observer_v3()':\n",
      "bernoulli.hpp:(.text._ZN3tbb8internal26task_scheduler_observer_v3D0Ev[_ZN3tbb8internal26task_scheduler_observer_v3D5Ev]+0x15): undefined reference to `tbb::internal::task_scheduler_observer_v3::observe(bool)'\n",
      "examples/bernoulli/bernoulli.o: In function `tbb::interface6::task_scheduler_observer::~task_scheduler_observer()':\n",
      "bernoulli.hpp:(.text._ZN3tbb10interface623task_scheduler_observerD2Ev[_ZN3tbb10interface623task_scheduler_observerD5Ev]+0x15): undefined reference to `tbb::internal::task_scheduler_observer_v3::observe(bool)'\n",
      "bernoulli.hpp:(.text._ZN3tbb10interface623task_scheduler_observerD2Ev[_ZN3tbb10interface623task_scheduler_observerD5Ev]+0x30): undefined reference to `tbb::internal::task_scheduler_observer_v3::observe(bool)'\n",
      "examples/bernoulli/bernoulli.o: In function `tbb::interface6::task_scheduler_observer::~task_scheduler_observer()':\n",
      "bernoulli.hpp:(.text._ZN3tbb10interface623task_scheduler_observerD0Ev[_ZN3tbb10interface623task_scheduler_observerD5Ev]+0x15): undefined reference to `tbb::internal::task_scheduler_observer_v3::observe(bool)'\n",
      "examples/bernoulli/bernoulli.o:bernoulli.hpp:(.text._ZN3tbb10interface623task_scheduler_observerD0Ev[_ZN3tbb10interface623task_scheduler_observerD5Ev]+0x2f): more undefined references to `tbb::internal::task_scheduler_observer_v3::observe(bool)' follow\n",
      "src/cmdstan/main.o: In function `cmdstan::command(int, char const**)':\n",
      "main.cpp:(.text+0x629a): undefined reference to `tbb::task_scheduler_init::initialize(int, unsigned long)'\n",
      "src/cmdstan/main.o: In function `tbb::task_scheduler_init::~task_scheduler_init()':\n",
      "main.cpp:(.text._ZN3tbb19task_scheduler_initD2Ev[_ZN3tbb19task_scheduler_initD5Ev]+0x7): undefined reference to `tbb::task_scheduler_init::terminate()'\n",
      "src/cmdstan/main.o: In function `_GLOBAL__sub_I__ZN7cmdstan18write_compile_infoERN4stan9callbacks6writerERSt6vectorINSt7__cxx1112basic_stringIcSt11char_traitsIcESaIcEEESaISA_EE':\n",
      "main.cpp:(.text.startup+0x32a): undefined reference to `tbb::internal::task_scheduler_observer_v3::observe(bool)'\n",
      "collect2: error: ld returned 1 exit status\n",
      "make: *** [examples/bernoulli/bernoulli] Error 1\n"
     ]
    },
    {
     "ename": "",
     "evalue": "2",
     "output_type": "error",
     "traceback": []
    }
   ],
   "source": [
    "make examples/bernoulli/bernoulli"
   ]
  },
  {
   "cell_type": "code",
   "execution_count": null,
   "metadata": {},
   "outputs": [],
   "source": []
  }
 ],
 "metadata": {
  "kernelspec": {
   "display_name": "Bash",
   "language": "bash",
   "name": "bash"
  },
  "language_info": {
   "codemirror_mode": "shell",
   "file_extension": ".sh",
   "mimetype": "text/x-sh",
   "name": "bash"
  }
 },
 "nbformat": 4,
 "nbformat_minor": 4
}
