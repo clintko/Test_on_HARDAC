{
 "cells": [
  {
   "cell_type": "code",
   "execution_count": 2,
   "metadata": {},
   "outputs": [
    {
     "name": "stdout",
     "output_type": "stream",
     "text": [
      "data\n",
      "Huh7_and_HT29.ipynb\n",
      "Johnson12_6578_201022B7.ipynb\n",
      "plots\n",
      "processing\n",
      "results\n",
      "rnaseq.degs_mean_expression_hclust.ipynb\n"
     ]
    }
   ],
   "source": [
    "!ls -1 /data/reddylab/Alex/collab/20201029_Graham"
   ]
  },
  {
   "cell_type": "code",
   "execution_count": 6,
   "metadata": {},
   "outputs": [
    {
     "name": "stdout",
     "output_type": "stream",
     "text": [
      "rna_seq\n"
     ]
    }
   ],
   "source": [
    "!ls -1 /data/reddylab/Alex/collab/20201029_Graham/processing"
   ]
  },
  {
   "cell_type": "code",
   "execution_count": 10,
   "metadata": {},
   "outputs": [
    {
     "name": "stdout",
     "output_type": "stream",
     "text": [
      "Huh7_and_HT29-pe-revstranded-with-sjdb\n",
      "Johnson12_6578_201022B7-pe-revstranded-with-sjdb\n",
      "jsons\n",
      "logs\n",
      "scripts\n",
      "tmpdirs\n"
     ]
    }
   ],
   "source": [
    "!ls -1 /data/reddylab/Alex/collab/20201029_Graham/processing/rna_seq"
   ]
  },
  {
   "cell_type": "code",
   "execution_count": 12,
   "metadata": {},
   "outputs": [
    {
     "name": "stdout",
     "output_type": "stream",
     "text": [
      "A549.rnaseq.all.counts.txt\n",
      "A549.rnaseq.AZD2906.LPS_TFX1.PBC.txt\n",
      "A549.rnaseq.AZD2906.LPS_TFX1.R1.custom_adapters.fasta\n",
      "A549.rnaseq.AZD2906.LPS_TFX1.R1.fastqc_data.txt\n",
      "A549.rnaseq.AZD2906.LPS_TFX1.R1_fastqc.zip\n",
      "A549.rnaseq.AZD2906.LPS_TFX1.R1.read_count.txt\n",
      "A549.rnaseq.AZD2906.LPS_TFX1.R1.trimmed.fastq.gz\n",
      "A549.rnaseq.AZD2906.LPS_TFX1.R1.trimmed.read_count.txt\n",
      "A549.rnaseq.AZD2906.LPS_TFX1.R2.custom_adapters.fasta\n",
      "A549.rnaseq.AZD2906.LPS_TFX1.R2.fastqc_data.txt\n",
      "ls: write error: Broken pipe\n"
     ]
    }
   ],
   "source": [
    "!ls -1 /data/reddylab/Alex/collab/20201029_Graham/processing/rna_seq/Johnson12_6578_201022B7-pe-revstranded-with-sjdb | head"
   ]
  },
  {
   "cell_type": "code",
   "execution_count": 5,
   "metadata": {},
   "outputs": [
    {
     "data": {
      "text/plain": [
       "['A549.rnaseq.AZD2906.LPS_TFX1.star2.featurecounts.counts.txt',\n",
       " 'A549.rnaseq.AZD2906.LPS_TFX3.star2.featurecounts.counts.txt',\n",
       " 'A549.rnaseq.AZD2906.LPS_TFX4.star2.featurecounts.counts.txt',\n",
       " 'A549.rnaseq.AZD2906.LPS_TFX5.star2.featurecounts.counts.txt',\n",
       " 'A549.rnaseq.AZD2906.TFX1.star2.featurecounts.counts.txt',\n",
       " 'A549.rnaseq.AZD2906.TFX2.star2.featurecounts.counts.txt',\n",
       " 'A549.rnaseq.AZD2906.TFX3.star2.featurecounts.counts.txt',\n",
       " 'A549.rnaseq.AZD2906.TFX4.star2.featurecounts.counts.txt',\n",
       " 'A549.rnaseq.AZD2906.TFX5.star2.featurecounts.counts.txt',\n",
       " 'A549.rnaseq.AZD9567.LPS_TFX1.star2.featurecounts.counts.txt']"
      ]
     },
     "execution_count": 5,
     "metadata": {},
     "output_type": "execute_result"
    }
   ],
   "source": [
    "import os\n",
    "data_dir = '/data/reddylab/Alex/collab/20201029_Graham/processing/rna_seq/Johnson12_6578_201022B7-pe-revstranded-with-sjdb/'\n",
    "featurecounts_files = sorted([s for s in os.listdir(data_dir) if s.endswith('.star2.featurecounts.counts.txt')])\n",
    "featurecounts_files[:10]"
   ]
  },
  {
   "cell_type": "code",
   "execution_count": 6,
   "metadata": {},
   "outputs": [
    {
     "name": "stdout",
     "output_type": "stream",
     "text": [
      "/data/reddylab/Alex/collab/20201029_Graham/processing/rna_seq/Johnson12_6578_201022B7-pe-revstranded-with-sjdb/A549.rnaseq.all.counts.txt\n"
     ]
    }
   ],
   "source": [
    "fpath = os.path.join(data_dir, 'A549.rnaseq.all.counts.txt')\n",
    "print(fpath)"
   ]
  },
  {
   "cell_type": "markdown",
   "metadata": {},
   "source": [
    "## Dimension of the matrix"
   ]
  },
  {
   "cell_type": "markdown",
   "metadata": {},
   "source": [
    "- Reference\n",
    "    - [unix - count of columns in file\n",
    "](https://stackoverflow.com/questions/8629330/unix-count-of-columns-in-file)"
   ]
  },
  {
   "cell_type": "code",
   "execution_count": 7,
   "metadata": {},
   "outputs": [
    {
     "name": "stdout",
     "output_type": "stream",
     "text": [
      "/data/reddylab/Alex/collab/20201029_Graham/processing/rna_seq/Johnson12_6578_201022B7-pe-revstranded-with-sjdb/A549.rnaseq.all.counts.txt\n",
      "++++++++++++++++++++++++++++++\n",
      "#Columns\n",
      "103\n",
      "------\n",
      "103\n",
      "++++++++++++++++++++++++++++++\n",
      "#Rows\n",
      "60484 /data/reddylab/Alex/collab/20201029_Graham/processing/rna_seq/Johnson12_6578_201022B7-pe-revstranded-with-sjdb/A549.rnaseq.all.counts.txt\n"
     ]
    }
   ],
   "source": [
    "%%script env fpath=\"$fpath\" bash\n",
    "echo $fpath\n",
    "echo ++++++++++++++++++++++++++++++\n",
    "echo \"#Columns\"\n",
    "awk '{ FS = \"\\t\" } ; {print NF; exit}' $fpath\n",
    "echo ------\n",
    "head -1 $fpath | tr '\\t' '\\n' | wc -l\n",
    "echo ++++++++++++++++++++++++++++++\n",
    "echo \"#Rows\"\n",
    "wc -l $fpath"
   ]
  },
  {
   "cell_type": "code",
   "execution_count": 14,
   "metadata": {},
   "outputs": [
    {
     "name": "stdout",
     "output_type": "stream",
     "text": [
      "/data/reddylab/Alex/collab/20201029_Graham/processing/rna_seq/Johnson12_6578_201022B7-pe-revstranded-with-sjdb/A549.rnaseq.all.counts.txt\n",
      "++++++++++++++++++++++++++++++\n",
      "Geneid\tChr\tStart\tEnd\n",
      "ENSG00000223972.5\tchr1;chr1;chr1;chr1\t11869;12613;12975;13221\t12227;12721;13052;14409\n",
      "ENSG00000227232.5\tchr1;chr1;chr1;chr1;chr1;chr1;chr1;chr1;chr1;chr1;chr1\t14404;15005;15796;16607;16858;17233;17606;17915;18268;24738;29534\t14501;15038;15947;16765;17055;17368;17742;18061;18366;24891;29570\n",
      "ENSG00000278267.1\tchr1\t17369\t17436\n",
      "ENSG00000243485.3\tchr1;chr1;chr1\t29554;30267;30976\t30039;30667;31109\n",
      "ENSG00000274890.1\tchr1\t30366\t30503\n",
      "ENSG00000237613.2\tchr1;chr1;chr1\t34554;35245;35721\t35174;35481;36081\n",
      "ENSG00000268020.3\tchr1\t52473\t53312\n",
      "ENSG00000240361.1\tchr1\t62948\t63887\n",
      "ENSG00000186092.4\tchr1\t69091\t70008\n"
     ]
    }
   ],
   "source": [
    "%%script env fpath=\"$fpath\" bash\n",
    "echo $fpath\n",
    "echo ++++++++++++++++++++++++++++++\n",
    "head $fpath | cut -f1-4"
   ]
  },
  {
   "cell_type": "code",
   "execution_count": 15,
   "metadata": {},
   "outputs": [
    {
     "name": "stdout",
     "output_type": "stream",
     "text": [
      "/data/reddylab/Alex/collab/20201029_Graham/processing/rna_seq/Johnson12_6578_201022B7-pe-revstranded-with-sjdb/A549.rnaseq.all.counts.txt\n",
      "++++++++++++++++++++++++++++++\n",
      "A549.rnaseq.AZD2906.LPS.rep1\tA549.rnaseq.AZD2906.LPS.rep3\tA549.rnaseq.AZD2906.LPS.rep4\tA549.rnaseq.AZD2906.LPS.rep5\n",
      "0\t0\t5\t6\n",
      "35\t1\t37\t62\n",
      "2\t0\t8\t12\n",
      "0\t0\t0\t1\n",
      "0\t0\t0\t0\n",
      "0\t0\t0\t0\n",
      "0\t0\t0\t0\n",
      "0\t0\t0\t0\n",
      "0\t0\t0\t0\n"
     ]
    }
   ],
   "source": [
    "%%script env fpath=\"$fpath\" bash\n",
    "echo $fpath\n",
    "echo ++++++++++++++++++++++++++++++\n",
    "head $fpath | cut -f5-8"
   ]
  },
  {
   "cell_type": "code",
   "execution_count": 29,
   "metadata": {},
   "outputs": [
    {
     "name": "stdout",
     "output_type": "stream",
     "text": [
      "99\n",
      "['A549.rnaseq.AZD2906.LPS.rep1', 'A549.rnaseq.AZD2906.LPS.rep3', 'A549.rnaseq.AZD2906.LPS.rep4', 'A549.rnaseq.AZD2906.LPS.rep5', 'A549.rnaseq.AZD2906.noLPS.rep1', 'A549.rnaseq.AZD2906.noLPS.rep2', 'A549.rnaseq.AZD2906.noLPS.rep3', 'A549.rnaseq.AZD2906.noLPS.rep4', 'A549.rnaseq.AZD2906.noLPS.rep5', 'A549.rnaseq.AZD9567.LPS.rep1']\n"
     ]
    }
   ],
   "source": [
    "samples = !/bin/grep -v \"#\" /data/reddylab/Alex/collab/20201029_Graham/processing/rna_seq/Johnson12_6578_201022B7-pe-revstranded-with-sjdb/A549.rnaseq.all.counts.txt 2>/dev/null| head -n1 | cut -f5- | tr '\\t' '\\n'\n",
    "print(len(samples))\n",
    "print(samples[:10])"
   ]
  },
  {
   "cell_type": "code",
   "execution_count": 31,
   "metadata": {},
   "outputs": [
    {
     "name": "stdout",
     "output_type": "stream",
     "text": [
      "\trep\tlps\tcondition\n",
      "A549.rnaseq.AZD2906.LPS.rep1\ttfx1\tLPS\tAZD2906\n",
      "A549.rnaseq.AZD2906.LPS.rep3\ttfx3\tLPS\tAZD2906\n",
      "A549.rnaseq.AZD2906.LPS.rep4\ttfx4\tLPS\tAZD2906\n",
      "A549.rnaseq.AZD2906.LPS.rep5\ttfx5\tLPS\tAZD2906\n",
      "A549.rnaseq.AZD2906.noLPS.rep1\ttfx1\tnoLPS\tAZD2906\n",
      "A549.rnaseq.AZD2906.noLPS.rep2\ttfx2\tnoLPS\tAZD2906\n",
      "A549.rnaseq.AZD2906.noLPS.rep3\ttfx3\tnoLPS\tAZD2906\n",
      "A549.rnaseq.AZD2906.noLPS.rep4\ttfx4\tnoLPS\tAZD2906\n",
      "A549.rnaseq.AZD2906.noLPS.rep5\ttfx5\tnoLPS\tAZD2906\n"
     ]
    }
   ],
   "source": [
    "%%bash\n",
    "#FD_WORK=\"/data/reddylab/Alex/collab/20201029_Graham\"\n",
    "#fdiry=os.path.join(FD_WORK, \n",
    "#fname\n",
    "head /data/reddylab/Alex/collab/20201029_Graham/data/rna_seq/metadata/deseq.samples_info_df.txt"
   ]
  },
  {
   "cell_type": "markdown",
   "metadata": {},
   "source": [
    "### Create output folder\n",
    "```\n",
    "!mkdir -p /data/reddylab/Alex/collab/20201029_Graham/results/rna_seq/deseq2\n",
    "```"
   ]
  },
  {
   "cell_type": "code",
   "execution_count": 32,
   "metadata": {},
   "outputs": [
    {
     "name": "stdout",
     "output_type": "stream",
     "text": [
      "A549.rnaseq.AZD2906.LPS_vs_A549.rnaseq.DMSO.LPS.cook_distances.pdf\n",
      "A549.rnaseq.AZD2906.LPS_vs_A549.rnaseq.DMSO.LPS.mean_counts_dispersion.pdf\n",
      "A549.rnaseq.AZD2906.LPS_vs_A549.rnaseq.DMSO.LPS.pca.1_vs_2.pdf\n",
      "A549.rnaseq.AZD2906.LPS_vs_A549.rnaseq.DMSO.LPS.pca.2_vs_3.pdf\n",
      "A549.rnaseq.AZD2906.LPS_vs_A549.rnaseq.DMSO.LPS.pca.3_vs_4.pdf\n",
      "A549.rnaseq.AZD2906.LPS_vs_A549.rnaseq.DMSO.LPS.pdf\n",
      "A549.rnaseq.AZD2906.LPS_vs_A549.rnaseq.DMSO.LPS.RData\n",
      "A549.rnaseq.AZD2906.LPS_vs_A549.rnaseq.DMSO.LPS.rlog.txt\n",
      "A549.rnaseq.AZD2906.LPS_vs_A549.rnaseq.DMSO.LPS.txt\n",
      "A549.rnaseq.AZD2906.LPS_vs_A549.rnaseq.DMSO.LPS.unshrunk.pdf\n",
      "A549.rnaseq.AZD2906.LPS_vs_A549.rnaseq.DMSO.LPS.unshrunk.txt\n",
      "A549.rnaseq.AZD2906.LPS_vs_A549.rnaseq.DMSO.LPS.vsd.txt\n",
      "all_counts\n",
      "only_treat_ctrls_counts\n"
     ]
    }
   ],
   "source": [
    "%%bash\n",
    "ls -1 /data/reddylab/Alex/collab/20201029_Graham/results/rna_seq/deseq2"
   ]
  },
  {
   "cell_type": "code",
   "execution_count": 2,
   "metadata": {},
   "outputs": [
    {
     "name": "stdout",
     "output_type": "stream",
     "text": [
      "A549.rnaseq.AZD2906.LPS_vs_A549.rnaseq.DMSO.LPS.cook_distances.pdf\n",
      "A549.rnaseq.AZD2906.LPS_vs_A549.rnaseq.DMSO.LPS.IHW.pdf\n",
      "A549.rnaseq.AZD2906.LPS_vs_A549.rnaseq.DMSO.LPS.IHW.txt\n",
      "A549.rnaseq.AZD2906.LPS_vs_A549.rnaseq.DMSO.LPS.mean_counts_dispersion.pdf\n",
      "A549.rnaseq.AZD2906.LPS_vs_A549.rnaseq.DMSO.LPS.pca.1_vs_2.pdf\n",
      "A549.rnaseq.AZD2906.LPS_vs_A549.rnaseq.DMSO.LPS.pca.2_vs_3.pdf\n",
      "A549.rnaseq.AZD2906.LPS_vs_A549.rnaseq.DMSO.LPS.pca.3_vs_4.pdf\n",
      "A549.rnaseq.AZD2906.LPS_vs_A549.rnaseq.DMSO.LPS.pdf\n",
      "A549.rnaseq.AZD2906.LPS_vs_A549.rnaseq.DMSO.LPS.RData\n",
      "A549.rnaseq.AZD2906.LPS_vs_A549.rnaseq.DMSO.LPS.rlog.txt\n"
     ]
    }
   ],
   "source": [
    "%%bash\n",
    "ls -1 /data/reddylab/Alex/collab/20201029_Graham/results/rna_seq/deseq2/only_treat_ctrls_counts | head"
   ]
  },
  {
   "cell_type": "code",
   "execution_count": 3,
   "metadata": {},
   "outputs": [
    {
     "name": "stdout",
     "output_type": "stream",
     "text": [
      "baseMean\tlog2FoldChange\tlfcSE\tstat\tpvalue\tpadj\tweight\n",
      "ENSG00000115112.7\t4151.46846337252\t4.97751451614204\t0.222123078722279\t22.4088129192799\t3.22931431908113e-111\t3.95569762271755e-107\t1.04266823243605\n",
      "ENSG00000096060.13\t10512.0777262875\t4.06502413302113\t0.200989805609355\t20.2250264419974\t5.89588196373597e-91\t1.90617426449541e-87\t1.97521826423277\n",
      "ENSG00000157514.15\t7160.94897182517\t3.59565082616686\t0.184739854862967\t19.4633195356464\t2.24745523293469e-84\t9.5681660783473e-81\t1\n",
      "ENSG00000139132.13\t2928.35302278316\t3.99013610179272\t0.24170825583393\t16.5080670828812\t3.21001080023479e-61\t1.02495644851497e-57\t1\n",
      "ENSG00000108691.8\t870.386489132937\t-3.47265949799171\t0.217818256174036\t-15.9429221360448\t3.19077727871887e-57\t1.38450037767967e-53\t0.588697671171404\n",
      "ENSG00000141750.6\t260.07357903092\t5.08866122178405\t0.325543286751559\t15.6312890754448\t4.4569443849124e-55\t9.4873489473502e-52\t1\n",
      "ENSG00000119138.4\t507.32251837304\t3.22500560752317\t0.211995915031857\t15.2125837285051\t2.91795576148168e-52\t5.32401871223487e-49\t1\n",
      "ENSG00000205420.9\t274.053280471318\t4.66388133099865\t0.314898464749542\t14.8107464884217\t1.24846084775507e-49\t2.50359491957092e-46\t0.796122299122805\n",
      "ENSG00000095752.5\t2519.09176069023\t-3.2429500196679\t0.220053408688631\t-14.7371042284402\t3.72414271344015e-49\t5.2849723040064e-46\t1\n"
     ]
    }
   ],
   "source": [
    "%%bash\n",
    "head /data/reddylab/Alex/collab/20201029_Graham/results/rna_seq/deseq2/only_treat_ctrls_counts/A549.rnaseq.AZD2906.LPS_vs_A549.rnaseq.DMSO.LPS.IHW.txt | head"
   ]
  },
  {
   "cell_type": "code",
   "execution_count": 23,
   "metadata": {},
   "outputs": [
    {
     "name": "stdout",
     "output_type": "stream",
     "text": [
      "A549.rnaseq.AZD2906.LPS@A549.rnaseq.DMSO.LPS\n",
      "A549.rnaseq.AZD2906.noLPS@A549.rnaseq.DMSO.noLPS\n",
      "A549.rnaseq.AZD9567.LPS@A549.rnaseq.DMSO.LPS\n",
      "A549.rnaseq.AZD9567.noLPS@A549.rnaseq.DMSO.noLPS\n",
      "A549.rnaseq.CORT108297.LPS@A549.rnaseq.DMSO.LPS\n",
      "A549.rnaseq.CORT108297.noLPS@A549.rnaseq.DMSO.noLPS\n",
      "A549.rnaseq.CpdA.LPS@A549.rnaseq.DMSO.LPS\n",
      "A549.rnaseq.CpdA.noLPS@A549.rnaseq.DMSO.noLPS\n",
      "A549.rnaseq.Dex.LPS@A549.rnaseq.DMSO.LPS\n",
      "A549.rnaseq.Dex.noLPS@A549.rnaseq.DMSO.noLPS\n",
      "A549.rnaseq.GW_870086.LPS@A549.rnaseq.DMSO.LPS\n",
      "A549.rnaseq.GW_870086.noLPS@A549.rnaseq.DMSO.noLPS\n",
      "A549.rnaseq.Hydrocortisone.LPS@A549.rnaseq.DMSO.LPS\n",
      "A549.rnaseq.Hydrocortisone.noLPS@A549.rnaseq.DMSO.noLPS\n",
      "A549.rnaseq.Mapracorat.LPS@A549.rnaseq.DMSO.LPS\n",
      "A549.rnaseq.Mapracorat.noLPS@A549.rnaseq.DMSO.noLPS\n",
      "A549.rnaseq.RU486.LPS@A549.rnaseq.DMSO.LPS\n",
      "A549.rnaseq.RU486.noLPS@A549.rnaseq.DMSO.noLPS\n",
      "A549.rnaseq.ZK216348.LPS@A549.rnaseq.DMSO.LPS\n",
      "A549.rnaseq.ZK216348.noLPS@A549.rnaseq.DMSO.noLPS\n"
     ]
    }
   ],
   "source": [
    "%%bash\n",
    "COMPARISONS=( \\\n",
    "    A549.rnaseq.AZD2906.LPS@A549.rnaseq.DMSO.LPS \\\n",
    "    A549.rnaseq.AZD2906.noLPS@A549.rnaseq.DMSO.noLPS \\\n",
    "    A549.rnaseq.AZD9567.LPS@A549.rnaseq.DMSO.LPS \\\n",
    "    A549.rnaseq.AZD9567.noLPS@A549.rnaseq.DMSO.noLPS \\\n",
    "    A549.rnaseq.CORT108297.LPS@A549.rnaseq.DMSO.LPS \\\n",
    "    A549.rnaseq.CORT108297.noLPS@A549.rnaseq.DMSO.noLPS \\\n",
    "    A549.rnaseq.CpdA.LPS@A549.rnaseq.DMSO.LPS \\\n",
    "    A549.rnaseq.CpdA.noLPS@A549.rnaseq.DMSO.noLPS \\\n",
    "    A549.rnaseq.Dex.LPS@A549.rnaseq.DMSO.LPS \\\n",
    "    A549.rnaseq.Dex.noLPS@A549.rnaseq.DMSO.noLPS \\\n",
    "    A549.rnaseq.GW_870086.LPS@A549.rnaseq.DMSO.LPS \\\n",
    "    A549.rnaseq.GW_870086.noLPS@A549.rnaseq.DMSO.noLPS \\\n",
    "    A549.rnaseq.Hydrocortisone.LPS@A549.rnaseq.DMSO.LPS \\\n",
    "    A549.rnaseq.Hydrocortisone.noLPS@A549.rnaseq.DMSO.noLPS \\\n",
    "    A549.rnaseq.Mapracorat.LPS@A549.rnaseq.DMSO.LPS \\\n",
    "    A549.rnaseq.Mapracorat.noLPS@A549.rnaseq.DMSO.noLPS \\\n",
    "    A549.rnaseq.RU486.LPS@A549.rnaseq.DMSO.LPS \\\n",
    "    A549.rnaseq.RU486.noLPS@A549.rnaseq.DMSO.noLPS \\\n",
    "    A549.rnaseq.ZK216348.LPS@A549.rnaseq.DMSO.LPS \\\n",
    "    A549.rnaseq.ZK216348.noLPS@A549.rnaseq.DMSO.noLPS \\\n",
    ")\n",
    "\n",
    "for COMPARISON in \"${COMPARISONS[@]}\"; do\n",
    "    echo $COMPARISON\n",
    "done"
   ]
  },
  {
   "cell_type": "code",
   "execution_count": 27,
   "metadata": {},
   "outputs": [
    {
     "name": "stdout",
     "output_type": "stream",
     "text": [
      "A549.rnaseq.AZD2906.noLPS@A549.rnaseq.DMSO.noLPS\n",
      "A549.rnaseq.AZD2906.noLPS\n",
      "A549.rnaseq.DMSO.noLPS\n"
     ]
    }
   ],
   "source": [
    "%%bash\n",
    "COMPARISONS=( \\\n",
    "    A549.rnaseq.AZD2906.LPS@A549.rnaseq.DMSO.LPS \\\n",
    "    A549.rnaseq.AZD2906.noLPS@A549.rnaseq.DMSO.noLPS \\\n",
    "    A549.rnaseq.AZD9567.LPS@A549.rnaseq.DMSO.LPS \\\n",
    "    A549.rnaseq.AZD9567.noLPS@A549.rnaseq.DMSO.noLPS \\\n",
    "    A549.rnaseq.CORT108297.LPS@A549.rnaseq.DMSO.LPS \\\n",
    "    A549.rnaseq.CORT108297.noLPS@A549.rnaseq.DMSO.noLPS \\\n",
    "    A549.rnaseq.CpdA.LPS@A549.rnaseq.DMSO.LPS \\\n",
    "    A549.rnaseq.CpdA.noLPS@A549.rnaseq.DMSO.noLPS \\\n",
    "    A549.rnaseq.Dex.LPS@A549.rnaseq.DMSO.LPS \\\n",
    "    A549.rnaseq.Dex.noLPS@A549.rnaseq.DMSO.noLPS \\\n",
    "    A549.rnaseq.GW_870086.LPS@A549.rnaseq.DMSO.LPS \\\n",
    "    A549.rnaseq.GW_870086.noLPS@A549.rnaseq.DMSO.noLPS \\\n",
    "    A549.rnaseq.Hydrocortisone.LPS@A549.rnaseq.DMSO.LPS \\\n",
    "    A549.rnaseq.Hydrocortisone.noLPS@A549.rnaseq.DMSO.noLPS \\\n",
    "    A549.rnaseq.Mapracorat.LPS@A549.rnaseq.DMSO.LPS \\\n",
    "    A549.rnaseq.Mapracorat.noLPS@A549.rnaseq.DMSO.noLPS \\\n",
    "    A549.rnaseq.RU486.LPS@A549.rnaseq.DMSO.LPS \\\n",
    "    A549.rnaseq.RU486.noLPS@A549.rnaseq.DMSO.noLPS \\\n",
    "    A549.rnaseq.ZK216348.LPS@A549.rnaseq.DMSO.LPS \\\n",
    "    A549.rnaseq.ZK216348.noLPS@A549.rnaseq.DMSO.noLPS \\\n",
    ")\n",
    "\n",
    "COMPARISON=${COMPARISONS[1]}\n",
    "TREAT=$(echo $COMPARISON | cut -d\"@\" -f1)\n",
    "CONTROL=$(echo $COMPARISON | cut -d\"@\" -f2)\n",
    "\n",
    "echo $COMPARISON\n",
    "echo $TREAT\n",
    "echo $CONTROL"
   ]
  },
  {
   "cell_type": "code",
   "execution_count": 38,
   "metadata": {},
   "outputs": [
    {
     "name": "stdout",
     "output_type": "stream",
     "text": [
      "A549.rnaseq.AZD2906.LPS.rep1\n",
      "A549.rnaseq.AZD2906.LPS.rep3\n",
      "A549.rnaseq.AZD2906.LPS.rep4\n",
      "A549.rnaseq.AZD2906.LPS.rep5\n",
      "A549.rnaseq.DMSO.LPS.rep1\n",
      "A549.rnaseq.DMSO.LPS.rep3\n",
      "A549.rnaseq.DMSO.LPS.rep4\n",
      "A549.rnaseq.DMSO.LPS.rep5\n"
     ]
    }
   ],
   "source": [
    "%%bash\n",
    "COMPARISON=A549.rnaseq.AZD2906.LPS@A549.rnaseq.DMSO.LPS\n",
    "TREAT=$(  echo $COMPARISON | cut -d\"@\" -f1)\n",
    "CONTROL=$(echo $COMPARISON | cut -d\"@\" -f2)\n",
    "\n",
    "COUNTS_FILE=\"/data/reddylab/Alex/collab/20201029_Graham/processing/rna_seq/Johnson12_6578_201022B7-pe-revstranded-with-sjdb/A549.rnaseq.all.counts.txt\"\n",
    "\n",
    "/bin/grep -v \"#\" ${COUNTS_FILE} 2>/dev/null | head -n1 | cut -f5- | tr '\\t' '\\n' | /bin/grep ${TREAT}\n",
    "\n",
    "/bin/grep -v \"#\" ${COUNTS_FILE} 2>/dev/null| head -n1 | cut -f5- | tr '\\t' '\\n' | /bin/grep ${CONTROL}"
   ]
  },
  {
   "cell_type": "code",
   "execution_count": null,
   "metadata": {},
   "outputs": [],
   "source": []
  },
  {
   "cell_type": "code",
   "execution_count": null,
   "metadata": {},
   "outputs": [],
   "source": []
  },
  {
   "cell_type": "code",
   "execution_count": null,
   "metadata": {},
   "outputs": [],
   "source": []
  },
  {
   "cell_type": "code",
   "execution_count": null,
   "metadata": {},
   "outputs": [],
   "source": []
  }
 ],
 "metadata": {
  "kernelspec": {
   "display_name": "Python 3",
   "language": "python",
   "name": "python3"
  },
  "language_info": {
   "codemirror_mode": {
    "name": "ipython",
    "version": 3
   },
   "file_extension": ".py",
   "mimetype": "text/x-python",
   "name": "python",
   "nbconvert_exporter": "python",
   "pygments_lexer": "ipython3",
   "version": "3.6.12"
  }
 },
 "nbformat": 4,
 "nbformat_minor": 4
}
